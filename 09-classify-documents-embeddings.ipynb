{
  "cells": [
    {
      "attachments": {},
      "cell_type": "markdown",
      "source": [
        "# Classify Documents"
      ],
      "metadata": {}
    },
    {
      "attachments": {},
      "cell_type": "markdown",
      "source": [
        "## Load Data\n",
        "The next cell will load embeddings generated in notebook [01-get-embeddings.ipynb](./01-get-embeddings.ipynb)."
      ],
      "metadata": {}
    },
    {
      "cell_type": "code",
      "source": [
        "import pandas as pd\n",
        "\n",
        "df_orig = pd.read_csv(\"data/bbc-news-data-embedding.csv\", delimiter='\\t', index_col=False)"
      ],
      "outputs": [],
      "execution_count": 18,
      "metadata": {
        "gather": {
          "logged": 1692274109162
        }
      }
    },
    {
      "cell_type": "code",
      "source": [
        "df = df_orig.copy()\n",
        "df"
      ],
      "outputs": [
        {
          "output_type": "execute_result",
          "execution_count": 19,
          "data": {
            "text/plain": "      category filename                              title  \\\n0     business  001.txt  Ad sales boost Time Warner profit   \n1     business  002.txt   Dollar gains on Greenspan speech   \n2     business  003.txt  Yukos unit buyer faces loan claim   \n3     business  004.txt  High fuel prices hit BA's profits   \n4     business  005.txt  Pernod takeover talk lifts Domecq   \n...        ...      ...                                ...   \n2220      tech  397.txt   BT program to beat dialler scams   \n2221      tech  398.txt    Spam e-mails tempt net shoppers   \n2222      tech  399.txt            Be careful how you code   \n2223      tech  400.txt    US cyber security chief resigns   \n2224      tech  401.txt   Losing yourself in online gaming   \n\n                                                content  \\\n0      Quarterly profits at US media giant TimeWarne...   \n1      The dollar has hit its highest level against ...   \n2      The owners of embattled Russian oil giant Yuk...   \n3      British Airways has blamed high fuel prices f...   \n4      Shares in UK drinks and food firm Allied Dome...   \n...                                                 ...   \n2220   BT is introducing two initiatives to help bea...   \n2221   Computer users across the world continue to i...   \n2222   A new European directive could put software w...   \n2223   The man making sure US computer networks are ...   \n2224   Online role playing games are time-consuming,...   \n\n                                              embedding  \n0     [-0.021155867725610733, -0.01682022027671337, ...  \n1     [-0.02455304190516472, -0.012937315739691257, ...  \n2     [-0.021608199924230576, -0.036890752613544464,...  \n3     [-0.02186358906328678, -0.016681300476193428, ...  \n4     [-0.008347506634891033, -0.008401579223573208,...  \n...                                                 ...  \n2220  [-0.022007180377840996, -0.009663669392466545,...  \n2221  [-0.005723385605961084, -0.0186212919652462, -...  \n2222  [0.0019429635722190142, -0.013848277740180492,...  \n2223  [-0.00036830714088864625, -0.02817297354340553...  \n2224  [-0.0015497748972848058, -0.008666894398629665...  \n\n[2225 rows x 5 columns]",
            "text/html": "<div>\n<style scoped>\n    .dataframe tbody tr th:only-of-type {\n        vertical-align: middle;\n    }\n\n    .dataframe tbody tr th {\n        vertical-align: top;\n    }\n\n    .dataframe thead th {\n        text-align: right;\n    }\n</style>\n<table border=\"1\" class=\"dataframe\">\n  <thead>\n    <tr style=\"text-align: right;\">\n      <th></th>\n      <th>category</th>\n      <th>filename</th>\n      <th>title</th>\n      <th>content</th>\n      <th>embedding</th>\n    </tr>\n  </thead>\n  <tbody>\n    <tr>\n      <th>0</th>\n      <td>business</td>\n      <td>001.txt</td>\n      <td>Ad sales boost Time Warner profit</td>\n      <td>Quarterly profits at US media giant TimeWarne...</td>\n      <td>[-0.021155867725610733, -0.01682022027671337, ...</td>\n    </tr>\n    <tr>\n      <th>1</th>\n      <td>business</td>\n      <td>002.txt</td>\n      <td>Dollar gains on Greenspan speech</td>\n      <td>The dollar has hit its highest level against ...</td>\n      <td>[-0.02455304190516472, -0.012937315739691257, ...</td>\n    </tr>\n    <tr>\n      <th>2</th>\n      <td>business</td>\n      <td>003.txt</td>\n      <td>Yukos unit buyer faces loan claim</td>\n      <td>The owners of embattled Russian oil giant Yuk...</td>\n      <td>[-0.021608199924230576, -0.036890752613544464,...</td>\n    </tr>\n    <tr>\n      <th>3</th>\n      <td>business</td>\n      <td>004.txt</td>\n      <td>High fuel prices hit BA's profits</td>\n      <td>British Airways has blamed high fuel prices f...</td>\n      <td>[-0.02186358906328678, -0.016681300476193428, ...</td>\n    </tr>\n    <tr>\n      <th>4</th>\n      <td>business</td>\n      <td>005.txt</td>\n      <td>Pernod takeover talk lifts Domecq</td>\n      <td>Shares in UK drinks and food firm Allied Dome...</td>\n      <td>[-0.008347506634891033, -0.008401579223573208,...</td>\n    </tr>\n    <tr>\n      <th>...</th>\n      <td>...</td>\n      <td>...</td>\n      <td>...</td>\n      <td>...</td>\n      <td>...</td>\n    </tr>\n    <tr>\n      <th>2220</th>\n      <td>tech</td>\n      <td>397.txt</td>\n      <td>BT program to beat dialler scams</td>\n      <td>BT is introducing two initiatives to help bea...</td>\n      <td>[-0.022007180377840996, -0.009663669392466545,...</td>\n    </tr>\n    <tr>\n      <th>2221</th>\n      <td>tech</td>\n      <td>398.txt</td>\n      <td>Spam e-mails tempt net shoppers</td>\n      <td>Computer users across the world continue to i...</td>\n      <td>[-0.005723385605961084, -0.0186212919652462, -...</td>\n    </tr>\n    <tr>\n      <th>2222</th>\n      <td>tech</td>\n      <td>399.txt</td>\n      <td>Be careful how you code</td>\n      <td>A new European directive could put software w...</td>\n      <td>[0.0019429635722190142, -0.013848277740180492,...</td>\n    </tr>\n    <tr>\n      <th>2223</th>\n      <td>tech</td>\n      <td>400.txt</td>\n      <td>US cyber security chief resigns</td>\n      <td>The man making sure US computer networks are ...</td>\n      <td>[-0.00036830714088864625, -0.02817297354340553...</td>\n    </tr>\n    <tr>\n      <th>2224</th>\n      <td>tech</td>\n      <td>401.txt</td>\n      <td>Losing yourself in online gaming</td>\n      <td>Online role playing games are time-consuming,...</td>\n      <td>[-0.0015497748972848058, -0.008666894398629665...</td>\n    </tr>\n  </tbody>\n</table>\n<p>2225 rows × 5 columns</p>\n</div>"
          },
          "metadata": {}
        }
      ],
      "execution_count": 19,
      "metadata": {
        "gather": {
          "logged": 1692274112316
        }
      }
    },
    {
      "cell_type": "code",
      "source": [
        "# drop rows with NaN\n",
        "df.dropna(inplace=True)\n",
        "len(df)"
      ],
      "outputs": [
        {
          "output_type": "execute_result",
          "execution_count": 20,
          "data": {
            "text/plain": "2225"
          },
          "metadata": {}
        }
      ],
      "execution_count": 20,
      "metadata": {
        "gather": {
          "logged": 1692274123441
        }
      }
    },
    {
      "cell_type": "code",
      "source": [
        "import pandas as pd\n",
        "import numpy as np\n",
        "\n",
        "from sklearn.ensemble import RandomForestClassifier\n",
        "from sklearn.model_selection import train_test_split\n",
        "from sklearn.metrics import classification_report\n",
        "\n",
        "# convert string to array\n",
        "df[\"embedding\"] = df['embedding'].apply(eval).apply(np.array)  \n",
        "\n",
        "df.info()"
      ],
      "outputs": [
        {
          "output_type": "stream",
          "name": "stdout",
          "text": "<class 'pandas.core.frame.DataFrame'>\nRangeIndex: 2225 entries, 0 to 2224\nData columns (total 5 columns):\n #   Column     Non-Null Count  Dtype \n---  ------     --------------  ----- \n 0   category   2225 non-null   object\n 1   filename   2225 non-null   object\n 2   title      2225 non-null   object\n 3   content    2225 non-null   object\n 4   embedding  2225 non-null   object\ndtypes: object(5)\nmemory usage: 87.0+ KB\n"
        }
      ],
      "execution_count": 21,
      "metadata": {
        "gather": {
          "logged": 1692274176366
        }
      }
    },
    {
      "cell_type": "code",
      "source": [
        "X = df['embedding']\n",
        "y = df['category']\n",
        "X_train, X_test, y_train, y_test = train_test_split(X, y, test_size=0.33, random_state=42, shuffle=True, stratify=y) \n",
        "\n",
        "# reshape X into 2D array\n",
        "X_train = np.vstack(X_train)\n",
        "X_test = np.vstack(X_test)"
      ],
      "outputs": [],
      "execution_count": 22,
      "metadata": {
        "gather": {
          "logged": 1692274226214
        }
      }
    },
    {
      "cell_type": "code",
      "source": [
        "from sklearn.preprocessing import LabelEncoder\n",
        "le = LabelEncoder()\n",
        "y_train_encoded = le.fit_transform(y_train)\n",
        "y_test_encoded = le.fit_transform(y_test)"
      ],
      "outputs": [],
      "execution_count": 23,
      "metadata": {
        "jupyter": {
          "source_hidden": false,
          "outputs_hidden": false
        },
        "nteract": {
          "transient": {
            "deleting": false
          }
        },
        "gather": {
          "logged": 1692274230621
        }
      }
    },
    {
      "cell_type": "code",
      "source": [
        "y_train_encoded"
      ],
      "outputs": [
        {
          "output_type": "execute_result",
          "execution_count": 24,
          "data": {
            "text/plain": "array([0, 1, 3, ..., 1, 3, 2])"
          },
          "metadata": {}
        }
      ],
      "execution_count": 24,
      "metadata": {
        "jupyter": {
          "source_hidden": false,
          "outputs_hidden": false
        },
        "nteract": {
          "transient": {
            "deleting": false
          }
        },
        "gather": {
          "logged": 1692274242202
        }
      }
    },
    {
      "attachments": {},
      "cell_type": "markdown",
      "source": [
        "## Fit a model with `XGBoost`"
      ],
      "metadata": {}
    },
    {
      "cell_type": "code",
      "source": [
        "pip install xgboost"
      ],
      "outputs": [
        {
          "output_type": "stream",
          "name": "stdout",
          "text": "Requirement already satisfied: xgboost in /anaconda/envs/azureml_py310_sdkv2/lib/python3.10/site-packages (1.7.6)\nRequirement already satisfied: numpy in /anaconda/envs/azureml_py310_sdkv2/lib/python3.10/site-packages (from xgboost) (1.24.1)\nRequirement already satisfied: scipy in /anaconda/envs/azureml_py310_sdkv2/lib/python3.10/site-packages (from xgboost) (1.10.0)\n\n\u001b[1m[\u001b[0m\u001b[34;49mnotice\u001b[0m\u001b[1;39;49m]\u001b[0m\u001b[39;49m A new release of pip is available: \u001b[0m\u001b[31;49m23.1.2\u001b[0m\u001b[39;49m -> \u001b[0m\u001b[32;49m23.2.1\u001b[0m\n\u001b[1m[\u001b[0m\u001b[34;49mnotice\u001b[0m\u001b[1;39;49m]\u001b[0m\u001b[39;49m To update, run: \u001b[0m\u001b[32;49m/anaconda/envs/azureml_py310_sdkv2/bin/python -m pip install --upgrade pip\u001b[0m\nNote: you may need to restart the kernel to use updated packages.\n"
        }
      ],
      "execution_count": 9,
      "metadata": {
        "jupyter": {
          "source_hidden": false,
          "outputs_hidden": false
        },
        "nteract": {
          "transient": {
            "deleting": false
          }
        },
        "gather": {
          "logged": 1692248843061
        }
      }
    },
    {
      "cell_type": "code",
      "source": [
        "from xgboost import XGBClassifier\n",
        "import pickle\n",
        "\n",
        "TRAIN = False\n",
        "LOAD = True\n",
        "\n",
        "# filename for trained model\n",
        "fname = 'output/xgb.pkl'\n",
        "\n",
        "if TRAIN: \n",
        "    # create model instance\n",
        "    xgb = XGBClassifier(n_estimators=100, max_depth=5, learning_rate=1, objective='multi:softprob')\n",
        "    # fit model\n",
        "    xgb.fit(X_train, y_train_encoded)\n",
        "\n",
        "    # save the model to disk\n",
        "    with open(fname, \"wb\") as f:\n",
        "        pickle.dump(xgb, f)\n",
        " \n",
        "# load the model from disk\n",
        "if LOAD:\n",
        "    with open(fname, \"rb\") as f:\n",
        "        xgb = pickle.load(f)\n",
        "\n",
        "# predict\n",
        "preds = xgb.predict(X_test)\n",
        "probas = xgb.predict_proba(X_test)\n",
        "\n",
        "# report\n",
        "report = classification_report(y_test_encoded, preds)\n",
        "print(report)"
      ],
      "outputs": [
        {
          "output_type": "stream",
          "name": "stdout",
          "text": "              precision    recall  f1-score   support\n\n           0       0.94      0.95      0.94       168\n           1       0.95      0.95      0.95       128\n           2       0.96      0.93      0.95       138\n           3       0.98      0.99      0.99       169\n           4       0.95      0.96      0.96       132\n\n    accuracy                           0.96       735\n   macro avg       0.96      0.96      0.96       735\nweighted avg       0.96      0.96      0.96       735\n\n"
        }
      ],
      "execution_count": 25,
      "metadata": {
        "gather": {
          "logged": 1692274272235
        }
      }
    },
    {
      "cell_type": "code",
      "source": [
        "from sklearn.metrics import confusion_matrix\n",
        "from sklearn.metrics import ConfusionMatrixDisplay\n",
        "\n",
        "# confusion matrix\n",
        "cm = confusion_matrix(y_test_encoded, preds)\n",
        "cm_display = ConfusionMatrixDisplay(confusion_matrix=cm, display_labels=xgb.classes_).plot()\n"
      ],
      "outputs": [
        {
          "output_type": "display_data",
          "data": {
            "text/plain": "<Figure size 432x288 with 2 Axes>",
            "image/png": "[encoded data removed]"
          },
          "metadata": {
            "needs_background": "light"
          }
        }
      ],
      "execution_count": 26,
      "metadata": {
        "gather": {
          "logged": 1692274287119
        }
      }
    },
    {
      "attachments": {},
      "cell_type": "markdown",
      "source": [
        "## Save predictions"
      ],
      "metadata": {}
    },
    {
      "cell_type": "code",
      "source": [
        "y_test_pred = pd.DataFrame()\n",
        "y_test_pred['category'] = y_test\n",
        "y_test_pred['prediction'] = preds\n",
        "y_test_pred"
      ],
      "outputs": [
        {
          "output_type": "execute_result",
          "execution_count": 27,
          "data": {
            "text/plain": "           category  prediction\n413        business           0\n1690          sport           3\n32         business           0\n655   entertainment           1\n48         business           0\n...             ...         ...\n1787          sport           3\n840   entertainment           1\n4          business           0\n2089           tech           4\n166        business           0\n\n[735 rows x 2 columns]",
            "text/html": "<div>\n<style scoped>\n    .dataframe tbody tr th:only-of-type {\n        vertical-align: middle;\n    }\n\n    .dataframe tbody tr th {\n        vertical-align: top;\n    }\n\n    .dataframe thead th {\n        text-align: right;\n    }\n</style>\n<table border=\"1\" class=\"dataframe\">\n  <thead>\n    <tr style=\"text-align: right;\">\n      <th></th>\n      <th>category</th>\n      <th>prediction</th>\n    </tr>\n  </thead>\n  <tbody>\n    <tr>\n      <th>413</th>\n      <td>business</td>\n      <td>0</td>\n    </tr>\n    <tr>\n      <th>1690</th>\n      <td>sport</td>\n      <td>3</td>\n    </tr>\n    <tr>\n      <th>32</th>\n      <td>business</td>\n      <td>0</td>\n    </tr>\n    <tr>\n      <th>655</th>\n      <td>entertainment</td>\n      <td>1</td>\n    </tr>\n    <tr>\n      <th>48</th>\n      <td>business</td>\n      <td>0</td>\n    </tr>\n    <tr>\n      <th>...</th>\n      <td>...</td>\n      <td>...</td>\n    </tr>\n    <tr>\n      <th>1787</th>\n      <td>sport</td>\n      <td>3</td>\n    </tr>\n    <tr>\n      <th>840</th>\n      <td>entertainment</td>\n      <td>1</td>\n    </tr>\n    <tr>\n      <th>4</th>\n      <td>business</td>\n      <td>0</td>\n    </tr>\n    <tr>\n      <th>2089</th>\n      <td>tech</td>\n      <td>4</td>\n    </tr>\n    <tr>\n      <th>166</th>\n      <td>business</td>\n      <td>0</td>\n    </tr>\n  </tbody>\n</table>\n<p>735 rows × 2 columns</p>\n</div>"
          },
          "metadata": {}
        }
      ],
      "execution_count": 27,
      "metadata": {
        "gather": {
          "logged": 1692274371243
        }
      }
    },
    {
      "cell_type": "code",
      "source": [
        "y_test_pred = pd.DataFrame()\n",
        "y_test_pred['category'] = y_test\n",
        "y_test_pred['encoded_category'] = y_test_encoded\n",
        "y_test_pred['prediction'] = preds\n",
        "y_test_pred\n"
      ],
      "outputs": [
        {
          "output_type": "execute_result",
          "execution_count": 28,
          "data": {
            "text/plain": "           category  encoded_category  prediction\n413        business                 0           0\n1690          sport                 3           3\n32         business                 0           0\n655   entertainment                 1           1\n48         business                 0           0\n...             ...               ...         ...\n1787          sport                 3           3\n840   entertainment                 1           1\n4          business                 0           0\n2089           tech                 4           4\n166        business                 0           0\n\n[735 rows x 3 columns]",
            "text/html": "<div>\n<style scoped>\n    .dataframe tbody tr th:only-of-type {\n        vertical-align: middle;\n    }\n\n    .dataframe tbody tr th {\n        vertical-align: top;\n    }\n\n    .dataframe thead th {\n        text-align: right;\n    }\n</style>\n<table border=\"1\" class=\"dataframe\">\n  <thead>\n    <tr style=\"text-align: right;\">\n      <th></th>\n      <th>category</th>\n      <th>encoded_category</th>\n      <th>prediction</th>\n    </tr>\n  </thead>\n  <tbody>\n    <tr>\n      <th>413</th>\n      <td>business</td>\n      <td>0</td>\n      <td>0</td>\n    </tr>\n    <tr>\n      <th>1690</th>\n      <td>sport</td>\n      <td>3</td>\n      <td>3</td>\n    </tr>\n    <tr>\n      <th>32</th>\n      <td>business</td>\n      <td>0</td>\n      <td>0</td>\n    </tr>\n    <tr>\n      <th>655</th>\n      <td>entertainment</td>\n      <td>1</td>\n      <td>1</td>\n    </tr>\n    <tr>\n      <th>48</th>\n      <td>business</td>\n      <td>0</td>\n      <td>0</td>\n    </tr>\n    <tr>\n      <th>...</th>\n      <td>...</td>\n      <td>...</td>\n      <td>...</td>\n    </tr>\n    <tr>\n      <th>1787</th>\n      <td>sport</td>\n      <td>3</td>\n      <td>3</td>\n    </tr>\n    <tr>\n      <th>840</th>\n      <td>entertainment</td>\n      <td>1</td>\n      <td>1</td>\n    </tr>\n    <tr>\n      <th>4</th>\n      <td>business</td>\n      <td>0</td>\n      <td>0</td>\n    </tr>\n    <tr>\n      <th>2089</th>\n      <td>tech</td>\n      <td>4</td>\n      <td>4</td>\n    </tr>\n    <tr>\n      <th>166</th>\n      <td>business</td>\n      <td>0</td>\n      <td>0</td>\n    </tr>\n  </tbody>\n</table>\n<p>735 rows × 3 columns</p>\n</div>"
          },
          "metadata": {}
        }
      ],
      "execution_count": 28,
      "metadata": {
        "jupyter": {
          "source_hidden": false,
          "outputs_hidden": false
        },
        "nteract": {
          "transient": {
            "deleting": false
          }
        },
        "gather": {
          "logged": 1692274379555
        }
      }
    },
    {
      "cell_type": "code",
      "source": [
        "df_test_result = pd.concat([df, y_test_pred.drop(columns='category')], axis=1, join=\"inner\")\n",
        "df_test_result.shape\n",
        "df_test_result"
      ],
      "outputs": [
        {
          "output_type": "execute_result",
          "execution_count": 29,
          "data": {
            "text/plain": "      category filename                               title  \\\n1     business  002.txt    Dollar gains on Greenspan speech   \n4     business  005.txt   Pernod takeover talk lifts Domecq   \n8     business  009.txt   Ethiopia's crop production up 24%   \n13    business  014.txt    Telegraph newspapers axe 90 jobs   \n14    business  015.txt    Air passengers win new EU rights   \n...        ...      ...                                 ...   \n2211      tech  388.txt      Camera phones are 'must-haves'   \n2212      tech  389.txt  Mobile multimedia slow to catch on   \n2216      tech  393.txt    Savvy searchers fail to spot ads   \n2219      tech  396.txt   New consoles promise big problems   \n2223      tech  400.txt     US cyber security chief resigns   \n\n                                                content  \\\n1      The dollar has hit its highest level against ...   \n4      Shares in UK drinks and food firm Allied Dome...   \n8      Ethiopia produced 14.27 million tonnes of cro...   \n13     The Daily and Sunday Telegraph newspapers are...   \n14     Air passengers who are unable to board their ...   \n...                                                 ...   \n2211   Four times more mobiles with cameras in them ...   \n2212   There is no doubt that mobile phones sporting...   \n2216   Internet search engine users are an odd mix o...   \n2219   Making games for future consoles will require...   \n2223   The man making sure US computer networks are ...   \n\n                                              embedding  encoded_category  \\\n1     [-0.02455304190516472, -0.012937315739691257, ...                 0   \n4     [-0.008347506634891033, -0.008401579223573208,...                 0   \n8     [-0.00852490309625864, -0.03030790016055107, -...                 0   \n13    [-0.010854844935238361, -0.0025832285173237324...                 0   \n14    [0.004284340422600508, -0.017877385020256042, ...                 0   \n...                                                 ...               ...   \n2211  [0.002961941296234727, 0.01108421478420496, 0....                 4   \n2212  [-0.03605839982628822, 0.011837020516395569, 0...                 4   \n2216  [0.00288022612221539, 0.017677851021289825, 0....                 4   \n2219  [-0.012129249982535839, -0.011928987689316273,...                 4   \n2223  [-0.00036830714088864625, -0.02817297354340553...                 4   \n\n      prediction  \n1              0  \n4              0  \n8              0  \n13             3  \n14             0  \n...          ...  \n2211           4  \n2212           4  \n2216           4  \n2219           4  \n2223           4  \n\n[735 rows x 7 columns]",
            "text/html": "<div>\n<style scoped>\n    .dataframe tbody tr th:only-of-type {\n        vertical-align: middle;\n    }\n\n    .dataframe tbody tr th {\n        vertical-align: top;\n    }\n\n    .dataframe thead th {\n        text-align: right;\n    }\n</style>\n<table border=\"1\" class=\"dataframe\">\n  <thead>\n    <tr style=\"text-align: right;\">\n      <th></th>\n      <th>category</th>\n      <th>filename</th>\n      <th>title</th>\n      <th>content</th>\n      <th>embedding</th>\n      <th>encoded_category</th>\n      <th>prediction</th>\n    </tr>\n  </thead>\n  <tbody>\n    <tr>\n      <th>1</th>\n      <td>business</td>\n      <td>002.txt</td>\n      <td>Dollar gains on Greenspan speech</td>\n      <td>The dollar has hit its highest level against ...</td>\n      <td>[-0.02455304190516472, -0.012937315739691257, ...</td>\n      <td>0</td>\n      <td>0</td>\n    </tr>\n    <tr>\n      <th>4</th>\n      <td>business</td>\n      <td>005.txt</td>\n      <td>Pernod takeover talk lifts Domecq</td>\n      <td>Shares in UK drinks and food firm Allied Dome...</td>\n      <td>[-0.008347506634891033, -0.008401579223573208,...</td>\n      <td>0</td>\n      <td>0</td>\n    </tr>\n    <tr>\n      <th>8</th>\n      <td>business</td>\n      <td>009.txt</td>\n      <td>Ethiopia's crop production up 24%</td>\n      <td>Ethiopia produced 14.27 million tonnes of cro...</td>\n      <td>[-0.00852490309625864, -0.03030790016055107, -...</td>\n      <td>0</td>\n      <td>0</td>\n    </tr>\n    <tr>\n      <th>13</th>\n      <td>business</td>\n      <td>014.txt</td>\n      <td>Telegraph newspapers axe 90 jobs</td>\n      <td>The Daily and Sunday Telegraph newspapers are...</td>\n      <td>[-0.010854844935238361, -0.0025832285173237324...</td>\n      <td>0</td>\n      <td>3</td>\n    </tr>\n    <tr>\n      <th>14</th>\n      <td>business</td>\n      <td>015.txt</td>\n      <td>Air passengers win new EU rights</td>\n      <td>Air passengers who are unable to board their ...</td>\n      <td>[0.004284340422600508, -0.017877385020256042, ...</td>\n      <td>0</td>\n      <td>0</td>\n    </tr>\n    <tr>\n      <th>...</th>\n      <td>...</td>\n      <td>...</td>\n      <td>...</td>\n      <td>...</td>\n      <td>...</td>\n      <td>...</td>\n      <td>...</td>\n    </tr>\n    <tr>\n      <th>2211</th>\n      <td>tech</td>\n      <td>388.txt</td>\n      <td>Camera phones are 'must-haves'</td>\n      <td>Four times more mobiles with cameras in them ...</td>\n      <td>[0.002961941296234727, 0.01108421478420496, 0....</td>\n      <td>4</td>\n      <td>4</td>\n    </tr>\n    <tr>\n      <th>2212</th>\n      <td>tech</td>\n      <td>389.txt</td>\n      <td>Mobile multimedia slow to catch on</td>\n      <td>There is no doubt that mobile phones sporting...</td>\n      <td>[-0.03605839982628822, 0.011837020516395569, 0...</td>\n      <td>4</td>\n      <td>4</td>\n    </tr>\n    <tr>\n      <th>2216</th>\n      <td>tech</td>\n      <td>393.txt</td>\n      <td>Savvy searchers fail to spot ads</td>\n      <td>Internet search engine users are an odd mix o...</td>\n      <td>[0.00288022612221539, 0.017677851021289825, 0....</td>\n      <td>4</td>\n      <td>4</td>\n    </tr>\n    <tr>\n      <th>2219</th>\n      <td>tech</td>\n      <td>396.txt</td>\n      <td>New consoles promise big problems</td>\n      <td>Making games for future consoles will require...</td>\n      <td>[-0.012129249982535839, -0.011928987689316273,...</td>\n      <td>4</td>\n      <td>4</td>\n    </tr>\n    <tr>\n      <th>2223</th>\n      <td>tech</td>\n      <td>400.txt</td>\n      <td>US cyber security chief resigns</td>\n      <td>The man making sure US computer networks are ...</td>\n      <td>[-0.00036830714088864625, -0.02817297354340553...</td>\n      <td>4</td>\n      <td>4</td>\n    </tr>\n  </tbody>\n</table>\n<p>735 rows × 7 columns</p>\n</div>"
          },
          "metadata": {}
        }
      ],
      "execution_count": 29,
      "metadata": {
        "gather": {
          "logged": 1692274386200
        }
      }
    },
    {
      "attachments": {},
      "cell_type": "markdown",
      "source": [
        "## Save Results"
      ],
      "metadata": {}
    },
    {
      "cell_type": "code",
      "source": [
        "# Save results\n",
        "fname = 'output/predictions.csv'\n",
        "df_test_result.to_csv(fname, sep='\\t')"
      ],
      "outputs": [],
      "execution_count": 30,
      "metadata": {
        "gather": {
          "logged": 1692274390392
        }
      }
    },
    {
      "attachments": {},
      "cell_type": "markdown",
      "source": [
        "## Wrong Predictions"
      ],
      "metadata": {}
    },
    {
      "cell_type": "code",
      "source": [
        "df_wrong_predictions = df_test_result[df_test_result['encoded_category'] != df_test_result['prediction']]\n",
        "df_wrong_predictions"
      ],
      "outputs": [
        {
          "output_type": "execute_result",
          "execution_count": 31,
          "data": {
            "text/plain": "           category filename                              title  \\\n13         business  014.txt   Telegraph newspapers axe 90 jobs   \n105        business  106.txt  Golden rule 'intact' says ex-aide   \n134        business  135.txt   Feta cheese battle reaches court   \n190        business  191.txt  US regulator to rule on pain drug   \n212        business  213.txt  US bank boss hails 'genius' Smith   \n235        business  236.txt    Card fraudsters 'targeting web'   \n326        business  327.txt       Cannabis hopes for drug firm   \n345        business  346.txt  Disaster claims 'less than $10bn'   \n363        business  364.txt    Durex maker SSL awaits firm bid   \n626   entertainment  117.txt    Rapper Jay-Z becomes label boss   \n641   entertainment  132.txt     Hard act to follow for OutKast   \n650   entertainment  141.txt    Police praise 'courageous' Ozzy   \n711   entertainment  202.txt   BBC 'should allow more scrutiny'   \n729   entertainment  220.txt  New media battle for Bafta awards   \n822   entertainment  313.txt    BBC to pour £9m into new comedy   \n901        politics  006.txt    'Errors' doomed first Dome sale   \n918        politics  023.txt   E-University 'disgraceful waste'   \n958        politics  063.txt   Drive to 'save' festive holidays   \n971        politics  076.txt    Report attacks defence spending   \n985        politics  090.txt  MSPs hear renewed climate warning   \n1004       politics  109.txt    UK firms 'embracing e-commerce'   \n1033       politics  138.txt           EU fraud clampdown urged   \n1154       politics  259.txt    'Poll Idols' face first hurdles   \n1162       politics  267.txt              UKIP's secret weapon?   \n1460          sport  148.txt   Palace threat over Cantona masks   \n1563          sport  251.txt               Bates seals takeover   \n1847           tech  024.txt   Game firm holds 'cast' auditions   \n1942           tech  119.txt   Argonaut founder rebuilds empire   \n2054           tech  231.txt    Parents face video game lessons   \n2105           tech  282.txt   Dublin hi-tech labs to shut down   \n2168           tech  345.txt     More movies head to Sony's PSP   \n\n                                                content  \\\n13     The Daily and Sunday Telegraph newspapers are...   \n105    Chancellor Gordon Brown will meet his golden ...   \n134    A row over whether only Greece should be allo...   \n190    US food and drug regulators will decide on Fr...   \n212    US Federal Reserve chairman Alan Greenspan ha...   \n235    New safeguards on credit and debit card payme...   \n326    A prescription cannabis drug made by UK biote...   \n345    Insurers have sought to calm fears that they ...   \n363    UK condom maker SSL International has refused...   \n626    Rap star Jay-Z is to become a record company ...   \n641    US rap duo OutKast's trio of trophies at the ...   \n650    Rock star Ozzy Osbourne has been praised by p...   \n711    MPs have urged the BBC to give watchdogs more...   \n729    The BBC leads the nominations for the Bafta I...   \n822    The BBC is to invest £9m in developing new co...   \n901    The initial attempt to sell the Millennium Do...   \n918    A failed government scheme to offer UK univer...   \n958    Efforts are being made to 'protect' workers' ...   \n971    The Ministry of Defence has been criticised o...   \n985    Climate change could be completely out of con...   \n1004   UK firms are embracing internet trading oppor...   \n1033   EU member states are failing to report fraud ...   \n1154   Vote For Me - ITV1's Pop Idol style talent co...   \n1162   By any measure, New Yorker Dick Morris is tha...   \n1460   Manchester United fans wearing Eric Cantona m...   \n1563   Ken Bates has completed his takeover of Leeds...   \n1847   Video game firm Bioware is to hold open audit...   \n1942   Jez San, the man behind the Argonaut games gr...   \n2054   Ways of ensuring that parents know which vide...   \n2105   Dublin's hi-tech research laboratory, Media L...   \n2168   Movies Open Water and Saw are among those to ...   \n\n                                              embedding  encoded_category  \\\n13    [-0.010854844935238361, -0.0025832285173237324...                 0   \n105   [-0.0161786787211895, -0.022800834849476814, 0...                 0   \n134   [0.015154118649661541, -0.009067628532648087, ...                 0   \n190   [-0.02257915399968624, -0.01260402612388134, 0...                 0   \n212   [-0.008660687133669853, -0.002048357855528593,...                 0   \n235   [-0.015468060970306396, -0.00397197250276804, ...                 0   \n326   [-0.011205277405679226, 0.008369333110749722, ...                 0   \n345   [-0.0007347458158619702, -0.011439807713031769...                 0   \n363   [0.006287482567131519, 0.00786186009645462, -0...                 0   \n626   [-0.020146464928984642, -0.02370402216911316, ...                 1   \n641   [-0.0011660056188702583, -0.031602486968040466...                 1   \n650   [-0.0034018591977655888, -0.01664573885500431,...                 1   \n711   [0.007830147631466389, -0.006824969779700041, ...                 1   \n729   [-0.0011199708096683025, -0.005681082606315613...                 1   \n822   [0.012180725112557411, -0.00017853843746706843...                 1   \n901   [-0.009658921509981155, -0.010875427164137363,...                 2   \n918   [-0.015613316558301449, -0.023755958303809166,...                 2   \n958   [-0.016936464235186577, 0.005871528293937445, ...                 2   \n971   [-0.010710010305047035, -0.022085318341851234,...                 2   \n985   [0.009084418416023254, -0.018526127561926842, ...                 2   \n1004  [-0.011034136638045311, -0.015318285673856735,...                 2   \n1033  [0.0075272307731211185, -0.021305890753865242,...                 2   \n1154  [-0.006466539576649666, -0.012216434814035892,...                 2   \n1162  [-0.02432553470134735, -0.00896030105650425, 0...                 2   \n1460  [-0.010232871398329735, -0.0156252421438694, 0...                 3   \n1563  [0.00031631276942789555, -0.006516731809824705...                 3   \n1847  [-0.008893669582903385, -0.007114935666322708,...                 4   \n1942  [-0.0014838225906714797, -0.022269878536462784...                 4   \n2054  [0.01214449293911457, -0.011291556991636753, -...                 4   \n2105  [-0.011291018687188625, 0.001388476463034749, ...                 4   \n2168  [0.0004494322929531336, -0.012042299844324589,...                 4   \n\n      prediction  \n13             3  \n105            2  \n134            4  \n190            4  \n212            1  \n235            4  \n326            4  \n345            1  \n363            4  \n626            0  \n641            3  \n650            2  \n711            2  \n729            4  \n822            0  \n901            0  \n918            0  \n958            0  \n971            0  \n985            3  \n1004           0  \n1033           0  \n1154           1  \n1162           1  \n1460           2  \n1563           0  \n1847           1  \n1942           0  \n2054           2  \n2105           0  \n2168           1  ",
            "text/html": "<div>\n<style scoped>\n    .dataframe tbody tr th:only-of-type {\n        vertical-align: middle;\n    }\n\n    .dataframe tbody tr th {\n        vertical-align: top;\n    }\n\n    .dataframe thead th {\n        text-align: right;\n    }\n</style>\n<table border=\"1\" class=\"dataframe\">\n  <thead>\n    <tr style=\"text-align: right;\">\n      <th></th>\n      <th>category</th>\n      <th>filename</th>\n      <th>title</th>\n      <th>content</th>\n      <th>embedding</th>\n      <th>encoded_category</th>\n      <th>prediction</th>\n    </tr>\n  </thead>\n  <tbody>\n    <tr>\n      <th>13</th>\n      <td>business</td>\n      <td>014.txt</td>\n      <td>Telegraph newspapers axe 90 jobs</td>\n      <td>The Daily and Sunday Telegraph newspapers are...</td>\n      <td>[-0.010854844935238361, -0.0025832285173237324...</td>\n      <td>0</td>\n      <td>3</td>\n    </tr>\n    <tr>\n      <th>105</th>\n      <td>business</td>\n      <td>106.txt</td>\n      <td>Golden rule 'intact' says ex-aide</td>\n      <td>Chancellor Gordon Brown will meet his golden ...</td>\n      <td>[-0.0161786787211895, -0.022800834849476814, 0...</td>\n      <td>0</td>\n      <td>2</td>\n    </tr>\n    <tr>\n      <th>134</th>\n      <td>business</td>\n      <td>135.txt</td>\n      <td>Feta cheese battle reaches court</td>\n      <td>A row over whether only Greece should be allo...</td>\n      <td>[0.015154118649661541, -0.009067628532648087, ...</td>\n      <td>0</td>\n      <td>4</td>\n    </tr>\n    <tr>\n      <th>190</th>\n      <td>business</td>\n      <td>191.txt</td>\n      <td>US regulator to rule on pain drug</td>\n      <td>US food and drug regulators will decide on Fr...</td>\n      <td>[-0.02257915399968624, -0.01260402612388134, 0...</td>\n      <td>0</td>\n      <td>4</td>\n    </tr>\n    <tr>\n      <th>212</th>\n      <td>business</td>\n      <td>213.txt</td>\n      <td>US bank boss hails 'genius' Smith</td>\n      <td>US Federal Reserve chairman Alan Greenspan ha...</td>\n      <td>[-0.008660687133669853, -0.002048357855528593,...</td>\n      <td>0</td>\n      <td>1</td>\n    </tr>\n    <tr>\n      <th>235</th>\n      <td>business</td>\n      <td>236.txt</td>\n      <td>Card fraudsters 'targeting web'</td>\n      <td>New safeguards on credit and debit card payme...</td>\n      <td>[-0.015468060970306396, -0.00397197250276804, ...</td>\n      <td>0</td>\n      <td>4</td>\n    </tr>\n    <tr>\n      <th>326</th>\n      <td>business</td>\n      <td>327.txt</td>\n      <td>Cannabis hopes for drug firm</td>\n      <td>A prescription cannabis drug made by UK biote...</td>\n      <td>[-0.011205277405679226, 0.008369333110749722, ...</td>\n      <td>0</td>\n      <td>4</td>\n    </tr>\n    <tr>\n      <th>345</th>\n      <td>business</td>\n      <td>346.txt</td>\n      <td>Disaster claims 'less than $10bn'</td>\n      <td>Insurers have sought to calm fears that they ...</td>\n      <td>[-0.0007347458158619702, -0.011439807713031769...</td>\n      <td>0</td>\n      <td>1</td>\n    </tr>\n    <tr>\n      <th>363</th>\n      <td>business</td>\n      <td>364.txt</td>\n      <td>Durex maker SSL awaits firm bid</td>\n      <td>UK condom maker SSL International has refused...</td>\n      <td>[0.006287482567131519, 0.00786186009645462, -0...</td>\n      <td>0</td>\n      <td>4</td>\n    </tr>\n    <tr>\n      <th>626</th>\n      <td>entertainment</td>\n      <td>117.txt</td>\n      <td>Rapper Jay-Z becomes label boss</td>\n      <td>Rap star Jay-Z is to become a record company ...</td>\n      <td>[-0.020146464928984642, -0.02370402216911316, ...</td>\n      <td>1</td>\n      <td>0</td>\n    </tr>\n    <tr>\n      <th>641</th>\n      <td>entertainment</td>\n      <td>132.txt</td>\n      <td>Hard act to follow for OutKast</td>\n      <td>US rap duo OutKast's trio of trophies at the ...</td>\n      <td>[-0.0011660056188702583, -0.031602486968040466...</td>\n      <td>1</td>\n      <td>3</td>\n    </tr>\n    <tr>\n      <th>650</th>\n      <td>entertainment</td>\n      <td>141.txt</td>\n      <td>Police praise 'courageous' Ozzy</td>\n      <td>Rock star Ozzy Osbourne has been praised by p...</td>\n      <td>[-0.0034018591977655888, -0.01664573885500431,...</td>\n      <td>1</td>\n      <td>2</td>\n    </tr>\n    <tr>\n      <th>711</th>\n      <td>entertainment</td>\n      <td>202.txt</td>\n      <td>BBC 'should allow more scrutiny'</td>\n      <td>MPs have urged the BBC to give watchdogs more...</td>\n      <td>[0.007830147631466389, -0.006824969779700041, ...</td>\n      <td>1</td>\n      <td>2</td>\n    </tr>\n    <tr>\n      <th>729</th>\n      <td>entertainment</td>\n      <td>220.txt</td>\n      <td>New media battle for Bafta awards</td>\n      <td>The BBC leads the nominations for the Bafta I...</td>\n      <td>[-0.0011199708096683025, -0.005681082606315613...</td>\n      <td>1</td>\n      <td>4</td>\n    </tr>\n    <tr>\n      <th>822</th>\n      <td>entertainment</td>\n      <td>313.txt</td>\n      <td>BBC to pour £9m into new comedy</td>\n      <td>The BBC is to invest £9m in developing new co...</td>\n      <td>[0.012180725112557411, -0.00017853843746706843...</td>\n      <td>1</td>\n      <td>0</td>\n    </tr>\n    <tr>\n      <th>901</th>\n      <td>politics</td>\n      <td>006.txt</td>\n      <td>'Errors' doomed first Dome sale</td>\n      <td>The initial attempt to sell the Millennium Do...</td>\n      <td>[-0.009658921509981155, -0.010875427164137363,...</td>\n      <td>2</td>\n      <td>0</td>\n    </tr>\n    <tr>\n      <th>918</th>\n      <td>politics</td>\n      <td>023.txt</td>\n      <td>E-University 'disgraceful waste'</td>\n      <td>A failed government scheme to offer UK univer...</td>\n      <td>[-0.015613316558301449, -0.023755958303809166,...</td>\n      <td>2</td>\n      <td>0</td>\n    </tr>\n    <tr>\n      <th>958</th>\n      <td>politics</td>\n      <td>063.txt</td>\n      <td>Drive to 'save' festive holidays</td>\n      <td>Efforts are being made to 'protect' workers' ...</td>\n      <td>[-0.016936464235186577, 0.005871528293937445, ...</td>\n      <td>2</td>\n      <td>0</td>\n    </tr>\n    <tr>\n      <th>971</th>\n      <td>politics</td>\n      <td>076.txt</td>\n      <td>Report attacks defence spending</td>\n      <td>The Ministry of Defence has been criticised o...</td>\n      <td>[-0.010710010305047035, -0.022085318341851234,...</td>\n      <td>2</td>\n      <td>0</td>\n    </tr>\n    <tr>\n      <th>985</th>\n      <td>politics</td>\n      <td>090.txt</td>\n      <td>MSPs hear renewed climate warning</td>\n      <td>Climate change could be completely out of con...</td>\n      <td>[0.009084418416023254, -0.018526127561926842, ...</td>\n      <td>2</td>\n      <td>3</td>\n    </tr>\n    <tr>\n      <th>1004</th>\n      <td>politics</td>\n      <td>109.txt</td>\n      <td>UK firms 'embracing e-commerce'</td>\n      <td>UK firms are embracing internet trading oppor...</td>\n      <td>[-0.011034136638045311, -0.015318285673856735,...</td>\n      <td>2</td>\n      <td>0</td>\n    </tr>\n    <tr>\n      <th>1033</th>\n      <td>politics</td>\n      <td>138.txt</td>\n      <td>EU fraud clampdown urged</td>\n      <td>EU member states are failing to report fraud ...</td>\n      <td>[0.0075272307731211185, -0.021305890753865242,...</td>\n      <td>2</td>\n      <td>0</td>\n    </tr>\n    <tr>\n      <th>1154</th>\n      <td>politics</td>\n      <td>259.txt</td>\n      <td>'Poll Idols' face first hurdles</td>\n      <td>Vote For Me - ITV1's Pop Idol style talent co...</td>\n      <td>[-0.006466539576649666, -0.012216434814035892,...</td>\n      <td>2</td>\n      <td>1</td>\n    </tr>\n    <tr>\n      <th>1162</th>\n      <td>politics</td>\n      <td>267.txt</td>\n      <td>UKIP's secret weapon?</td>\n      <td>By any measure, New Yorker Dick Morris is tha...</td>\n      <td>[-0.02432553470134735, -0.00896030105650425, 0...</td>\n      <td>2</td>\n      <td>1</td>\n    </tr>\n    <tr>\n      <th>1460</th>\n      <td>sport</td>\n      <td>148.txt</td>\n      <td>Palace threat over Cantona masks</td>\n      <td>Manchester United fans wearing Eric Cantona m...</td>\n      <td>[-0.010232871398329735, -0.0156252421438694, 0...</td>\n      <td>3</td>\n      <td>2</td>\n    </tr>\n    <tr>\n      <th>1563</th>\n      <td>sport</td>\n      <td>251.txt</td>\n      <td>Bates seals takeover</td>\n      <td>Ken Bates has completed his takeover of Leeds...</td>\n      <td>[0.00031631276942789555, -0.006516731809824705...</td>\n      <td>3</td>\n      <td>0</td>\n    </tr>\n    <tr>\n      <th>1847</th>\n      <td>tech</td>\n      <td>024.txt</td>\n      <td>Game firm holds 'cast' auditions</td>\n      <td>Video game firm Bioware is to hold open audit...</td>\n      <td>[-0.008893669582903385, -0.007114935666322708,...</td>\n      <td>4</td>\n      <td>1</td>\n    </tr>\n    <tr>\n      <th>1942</th>\n      <td>tech</td>\n      <td>119.txt</td>\n      <td>Argonaut founder rebuilds empire</td>\n      <td>Jez San, the man behind the Argonaut games gr...</td>\n      <td>[-0.0014838225906714797, -0.022269878536462784...</td>\n      <td>4</td>\n      <td>0</td>\n    </tr>\n    <tr>\n      <th>2054</th>\n      <td>tech</td>\n      <td>231.txt</td>\n      <td>Parents face video game lessons</td>\n      <td>Ways of ensuring that parents know which vide...</td>\n      <td>[0.01214449293911457, -0.011291556991636753, -...</td>\n      <td>4</td>\n      <td>2</td>\n    </tr>\n    <tr>\n      <th>2105</th>\n      <td>tech</td>\n      <td>282.txt</td>\n      <td>Dublin hi-tech labs to shut down</td>\n      <td>Dublin's hi-tech research laboratory, Media L...</td>\n      <td>[-0.011291018687188625, 0.001388476463034749, ...</td>\n      <td>4</td>\n      <td>0</td>\n    </tr>\n    <tr>\n      <th>2168</th>\n      <td>tech</td>\n      <td>345.txt</td>\n      <td>More movies head to Sony's PSP</td>\n      <td>Movies Open Water and Saw are among those to ...</td>\n      <td>[0.0004494322929531336, -0.012042299844324589,...</td>\n      <td>4</td>\n      <td>1</td>\n    </tr>\n  </tbody>\n</table>\n</div>"
          },
          "metadata": {}
        }
      ],
      "execution_count": 31,
      "metadata": {
        "gather": {
          "logged": 1692274393331
        }
      }
    },
    {
      "cell_type": "code",
      "source": [
        "len(df_wrong_predictions)"
      ],
      "outputs": [
        {
          "output_type": "execute_result",
          "execution_count": 17,
          "data": {
            "text/plain": "31"
          },
          "metadata": {}
        }
      ],
      "execution_count": 17,
      "metadata": {
        "jupyter": {
          "source_hidden": false,
          "outputs_hidden": false
        },
        "nteract": {
          "transient": {
            "deleting": false
          }
        },
        "gather": {
          "logged": 1692249152852
        }
      }
    },
    {
      "cell_type": "code",
      "source": [],
      "outputs": [],
      "execution_count": null,
      "metadata": {
        "jupyter": {
          "source_hidden": false,
          "outputs_hidden": false
        },
        "nteract": {
          "transient": {
            "deleting": false
          }
        }
      }
    }
  ],
  "metadata": {
    "kernelspec": {
      "name": "python310-sdkv2",
      "language": "python",
      "display_name": "Python 3.10 - SDK v2"
    },
    "language_info": {
      "name": "python",
      "version": "3.10.9",
      "mimetype": "text/x-python",
      "codemirror_mode": {
        "name": "ipython",
        "version": 3
      },
      "pygments_lexer": "ipython3",
      "nbconvert_exporter": "python",
      "file_extension": ".py"
    },
    "orig_nbformat": 4,
    "vscode": {
      "interpreter": {
        "hash": "6d65a8c07f5b6469e0fc613f182488c0dccce05038bbda39e5ac9075c0454d11"
      }
    },
    "microsoft": {
      "ms_spell_check": {
        "ms_spell_check_language": "en"
      },
      "host": {
        "AzureML": {
          "notebookHasBeenCompleted": true
        }
      }
    },
    "kernel_info": {
      "name": "python310-sdkv2"
    },
    "nteract": {
      "version": "nteract-front-end@1.0.0"
    }
  },
  "nbformat": 4,
  "nbformat_minor": 2
}