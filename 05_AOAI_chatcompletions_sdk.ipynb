{
  "cells": [
    {
      "cell_type": "markdown",
      "source": [
        "# Chat Completions\n",
        "\n",
        "Chat models take a series of messages as input, and return a model-generated message as output.\n",
        "The main input is the messages parameter. Messages must be an array of message objects, where each object has a role (either \"system\", \"user\", or \"assistant\") and content (the content of the message). "
      ],
      "metadata": {},
      "id": "278e7451"
    },
    {
      "cell_type": "code",
      "source": [
        "# if needed, install and/or upgrade to the latest version of the OpenAI Python library\n",
        "%pip install --upgrade openai"
      ],
      "outputs": [],
      "execution_count": null,
      "metadata": {},
      "id": "fb97123e"
    },
    {
      "cell_type": "code",
      "source": [
        "import openai"
      ],
      "outputs": [],
      "execution_count": 1,
      "metadata": {
        "gather": {
          "logged": 1692158226741
        }
      },
      "id": "ccbb9a99"
    },
    {
      "cell_type": "code",
      "source": [
        "from azure.identity import DefaultAzureCredential, InteractiveBrowserCredential\n",
        "from azure.ai.ml import MLClient\n",
        "from azureml.core import Workspace\n",
        "\n",
        "try:\n",
        "    credential = DefaultAzureCredential()\n",
        "    # Check if given credential can get token successfully.\n",
        "    credential.get_token(\"https://management.azure.com/.default\")\n",
        "except Exception as ex:\n",
        "    # Fall back to InteractiveBrowserCredential in case DefaultAzureCredential not work\n",
        "    credential = InteractiveBrowserCredential()\n",
        "\n",
        "try:\n",
        "    ml_client = MLClient.from_config(credential=credential, path=\"workspace.json\")\n",
        "except Exception as ex:\n",
        "    raise Exception(\n",
        "        \"Failed to create MLClient from config file. Please modify and then run the above cell with your AzureML Workspace details.\"\n",
        "    ) from ex\n",
        "    # ml_client = MLClient(\n",
        "    #     credential=credential,\n",
        "    #     subscription_id=\"\",\n",
        "    #     resource_group_name=\"\",\n",
        "    #     workspace_name=\"\"\n",
        "    # )\n",
        "\n",
        "ws = Workspace(\n",
        "    subscription_id=ml_client.subscription_id,\n",
        "    resource_group=ml_client.resource_group_name,\n",
        "    workspace_name=ml_client.workspace_name,\n",
        ")\n",
        "print(ml_client)"
      ],
      "outputs": [
        {
          "output_type": "stream",
          "name": "stderr",
          "text": "Found the config file in: workspace.json\n"
        },
        {
          "output_type": "stream",
          "name": "stdout",
          "text": "MLClient(credential=<azure.identity._credentials.default.DefaultAzureCredential object at 0x7f47012f2a70>,\n         subscription_id=fe38c376-b42a-4741-9e7c-f5d7c31e5873,\n         resource_group_name=yelizkilinc-rg,\n         workspace_name=aml-prod)\n"
        }
      ],
      "execution_count": 2,
      "metadata": {
        "jupyter": {
          "source_hidden": false,
          "outputs_hidden": false
        },
        "nteract": {
          "transient": {
            "deleting": false
          }
        },
        "gather": {
          "logged": 1692158237894
        }
      },
      "id": "08099996-ea09-432a-a733-0794294fa5ce"
    },
    {
      "cell_type": "markdown",
      "source": [
        "### Setup Parameters"
      ],
      "metadata": {},
      "id": "6d33f92a"
    },
    {
      "cell_type": "code",
      "source": [
        "keyvault = ws.get_default_keyvault()\n",
        "\n",
        "aoai_endpoint=keyvault.get_secret(name=\"aoai-endpoint\")\n",
        "aoai_key=keyvault.get_secret(name=\"key\")\n"
      ],
      "outputs": [],
      "execution_count": 9,
      "metadata": {
        "jupyter": {
          "source_hidden": false,
          "outputs_hidden": false
        },
        "nteract": {
          "transient": {
            "deleting": false
          }
        },
        "gather": {
          "logged": 1692158556262
        }
      },
      "id": "652549d6-a8bd-4434-8e2f-9c975e506a7a"
    },
    {
      "cell_type": "code",
      "source": [
        "# Set up Azure OpenAI\n",
        "openai.api_type = \"azure\"\n",
        "openai.api_base = aoai_endpoint # Api base is the 'Endpoint' which can be found in Azure Portal where Azure OpenAI is created. It looks like https://xxxxxx.openai.azure.com/\n",
        "openai.api_version = \"2023-03-15-preview\"\n",
        "openai.api_key = aoai_key"
      ],
      "outputs": [],
      "execution_count": 10,
      "metadata": {
        "jupyter": {
          "source_hidden": false,
          "outputs_hidden": false
        },
        "nteract": {
          "transient": {
            "deleting": false
          }
        },
        "gather": {
          "logged": 1692158557857
        }
      },
      "id": "a1401455-77ef-464e-9b16-672f3fcd4253"
    },
    {
      "cell_type": "code",
      "source": [
        "\"\"\"import os\n",
        "import openai\n",
        "from dotenv import load_dotenv\n",
        "\n",
        "# Set up Azure OpenAI\n",
        "load_dotenv(\"credentials.env\")\n",
        "\n",
        "openai.api_type = \"azure\"\n",
        "openai.api_base = os.getenv(\"AZURE_OPENAI_ENDPOINT\") # Api base is the 'Endpoint' which can be found in Azure Portal where Azure OpenAI is created. It looks like https://xxxxxx.openai.azure.com/\n",
        "openai.api_version = \"2023-03-15-preview\"\n",
        "openai.api_key = os.getenv(\"AZURE_OPENAI_API_KEY\")\"\"\""
      ],
      "outputs": [],
      "execution_count": null,
      "metadata": {
        "jupyter": {
          "source_hidden": false,
          "outputs_hidden": false
        },
        "nteract": {
          "transient": {
            "deleting": false
          }
        }
      },
      "id": "85f5a892-15e3-4e98-b4e1-41fa328ee742"
    },
    {
      "cell_type": "code",
      "source": [
        "# Defining a function to send the prompt to the AOAI model\n",
        "# More info : https://learn.microsoft.com/en-us/azure/cognitive-services/openai/how-to/chatgpt?pivots=programming-language-chat-completions\n",
        "def send_message(messages, model_name, max_response_tokens=500):\n",
        "    response = openai.ChatCompletion.create(\n",
        "        deployment_id=model_name,\n",
        "        messages=messages,\n",
        "        temperature=0.5,\n",
        "        max_tokens=max_response_tokens,\n",
        "        top_p=0.9,\n",
        "        frequency_penalty=0,\n",
        "        presence_penalty=0,\n",
        "    )\n",
        "    return response['choices'][0]['message']['content']\n",
        "\n",
        "# Defining a function to print out the conversation in a readable format\n",
        "def print_conversation(messages):\n",
        "    for message in messages:\n",
        "        print(f\"[{message['role'].upper()}]\")\n",
        "        print(message['content'])\n",
        "        print()"
      ],
      "outputs": [],
      "execution_count": 4,
      "metadata": {
        "gather": {
          "logged": 1692158447396
        }
      },
      "id": "cc92fe64"
    },
    {
      "cell_type": "code",
      "source": [
        "base_system_message = \"You are a helpful assistant.\"\n",
        "\n",
        "system_message = f\"{base_system_message.strip()}\"\n",
        "print(system_message)"
      ],
      "outputs": [
        {
          "output_type": "stream",
          "name": "stdout",
          "text": "You are a helpful assistant.\n"
        }
      ],
      "execution_count": 5,
      "metadata": {
        "jupyter": {
          "source_hidden": false,
          "outputs_hidden": false
        },
        "nteract": {
          "transient": {
            "deleting": false
          }
        },
        "gather": {
          "logged": 1692158451207
        }
      },
      "id": "f15eb528-da23-4a85-b533-e8516f0b9004"
    },
    {
      "cell_type": "code",
      "source": [
        "# This is the first user message that will be sent to the model. Feel free to update this.\n",
        "user_message = \"I want to write a blog post about the impact of AI on the future of work.\""
      ],
      "outputs": [],
      "execution_count": 6,
      "metadata": {
        "jupyter": {
          "source_hidden": false,
          "outputs_hidden": false
        },
        "nteract": {
          "transient": {
            "deleting": false
          }
        },
        "gather": {
          "logged": 1692158458305
        }
      },
      "id": "fc4a643e-2e73-4cf6-b344-0ba22d3e2474"
    },
    {
      "cell_type": "code",
      "source": [
        "# Create the list of messages. role can be either \"user\" or \"assistant\" \n",
        "messages=[\n",
        "    {\"role\": \"system\", \"content\": system_message},\n",
        "    {\"role\": \"user\", \"name\":\"example_user\", \"content\": user_message}\n",
        "]"
      ],
      "outputs": [],
      "execution_count": 7,
      "metadata": {
        "jupyter": {
          "source_hidden": false,
          "outputs_hidden": false
        },
        "nteract": {
          "transient": {
            "deleting": false
          }
        },
        "gather": {
          "logged": 1692158495381
        }
      },
      "id": "242be8c5-243a-4ca0-8f3f-e7fd76e5455d"
    },
    {
      "cell_type": "code",
      "source": [
        "# A sample API call for chat completions looks as follows:\n",
        "# Messages must be an array of message objects, where each object has a role (either \"system\", \"user\", or \"assistant\") and content (the content of the message).\n",
        "# For more info: https://learn.microsoft.com/en-us/azure/cognitive-services/openai/reference#chat-completions\n",
        "# You can get \"resource not found error in case your version isn't correct\"\n",
        "\n",
        "model_name= \"gpt-4-32k\"\n",
        "\n",
        "try:\n",
        "    max_response_tokens = 500\n",
        "\n",
        "    response = send_message(messages, model_name, max_response_tokens)\n",
        "    messages.append({\"role\": \"assistant\", \"content\": response})\n",
        "\n",
        "    print_conversation(messages)    \n",
        "   \n",
        "except openai.error.APIError as e:\n",
        "    # Handle API error here, e.g. retry or log\n",
        "    print(f\"OpenAI API returned an API Error: {e}\")\n",
        "\n",
        "except openai.error.AuthenticationError as e:\n",
        "    # Handle Authentication error here, e.g. invalid API key\n",
        "    print(f\"OpenAI API returned an Authentication Error: {e}\")\n",
        "\n",
        "except openai.error.APIConnectionError as e:\n",
        "    # Handle connection error here\n",
        "    print(f\"Failed to connect to OpenAI API: {e}\")\n",
        "\n",
        "except openai.error.InvalidRequestError as e:\n",
        "    # Handle connection error here\n",
        "    print(f\"Invalid Request Error: {e}\")\n",
        "\n",
        "except openai.error.RateLimitError as e:\n",
        "    # Handle rate limit error\n",
        "    print(f\"OpenAI API request exceeded rate limit: {e}\")\n",
        "\n",
        "except openai.error.ServiceUnavailableError as e:\n",
        "    # Handle Service Unavailable error\n",
        "    print(f\"Service Unavailable: {e}\")\n",
        "\n",
        "except openai.error.Timeout as e:\n",
        "    # Handle request timeout\n",
        "    print(f\"Request timed out: {e}\")\n",
        "    \n",
        "except:\n",
        "    # Handles all other exceptions\n",
        "    print(\"An exception has occured.\")"
      ],
      "outputs": [
        {
          "output_type": "stream",
          "name": "stdout",
          "text": "[SYSTEM]\nYou are a helpful assistant.\n\n[USER]\nI want to write a blog post about the impact of AI on the future of work.\n\n[ASSISTANT]\nThat sounds like an interesting topic! Here are some points you may want to consider:\n\n1. Introduction: Start by explaining what AI is and its current state of development.\n\n2. Automation and Efficiency: Discuss how AI can automate repetitive tasks, increasing efficiency and productivity in various industries. \n\n3. Skill Demand Shift: Talk about how AI could change the demand for certain skills. For instance, there may be less need for manual labor and more need for those who can develop and maintain AI technology.\n\n4. Job Creation and Loss: While AI may replace some jobs, it could also create new ones. Discuss both sides of this argument, providing examples and statistics where possible.\n\n5. Remote Work: AI and technology have made remote work more feasible. Discuss how this trend could continue in the future.\n\n6. AI Ethics: Explore the ethical implications of AI in the workplace. This could include privacy concerns, bias in AI algorithms, and the importance of transparency.\n\n7. Conclusion: Summarize your main points and give your own perspective on how AI will shape the future of work. \n\nRemember to use credible sources to back up your points and to engage your readers with thought-provoking questions. Happy writing!\n\n"
        }
      ],
      "execution_count": 11,
      "metadata": {
        "jupyter": {
          "source_hidden": false,
          "outputs_hidden": false
        },
        "nteract": {
          "transient": {
            "deleting": false
          }
        },
        "gather": {
          "logged": 1692158580040
        }
      },
      "id": "5f88bcbc-f5a2-4868-bb19-5ac0e8a70b31"
    }
  ],
  "metadata": {
    "kernelspec": {
      "name": "python310-sdkv2",
      "language": "python",
      "display_name": "Python 3.10 - SDK v2"
    },
    "language_info": {
      "name": "python",
      "version": "3.10.9",
      "mimetype": "text/x-python",
      "codemirror_mode": {
        "name": "ipython",
        "version": 3
      },
      "pygments_lexer": "ipython3",
      "nbconvert_exporter": "python",
      "file_extension": ".py"
    },
    "microsoft": {
      "ms_spell_check": {
        "ms_spell_check_language": "en"
      },
      "host": {
        "AzureML": {
          "notebookHasBeenCompleted": true
        }
      }
    },
    "kernel_info": {
      "name": "python310-sdkv2"
    },
    "nteract": {
      "version": "nteract-front-end@1.0.0"
    }
  },
  "nbformat": 4,
  "nbformat_minor": 5
}