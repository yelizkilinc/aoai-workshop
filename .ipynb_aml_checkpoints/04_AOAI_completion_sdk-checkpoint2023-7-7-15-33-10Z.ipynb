{
  "cells": [
    {
      "cell_type": "code",
      "source": [
        "%%writefile workspace.json\r\n",
        "{\r\n",
        "\"subscription_id\" : \"fe38c376-b42a-4741-9e7c-f5d7c31e5873\",\r\n",
        "\"resource_group\" : \"yelizkilinc-rg\",\r\n",
        "\"workspace_name\" : \"aml-prod\"\r\n",
        "}"
      ],
      "outputs": [
        {
          "output_type": "stream",
          "name": "stdout",
          "text": "Writing workspace.json\n"
        }
      ],
      "execution_count": 2,
      "metadata": {
        "jupyter": {
          "source_hidden": false,
          "outputs_hidden": false
        },
        "nteract": {
          "transient": {
            "deleting": false
          }
        }
      }
    },
    {
      "cell_type": "code",
      "source": [
        "from azure.identity import DefaultAzureCredential, InteractiveBrowserCredential\r\n",
        "from azure.ai.ml import MLClient\r\n",
        "from azureml.core import Workspace\r\n",
        "\r\n",
        "try:\r\n",
        "    credential = DefaultAzureCredential()\r\n",
        "    # Check if given credential can get token successfully.\r\n",
        "    credential.get_token(\"https://management.azure.com/.default\")\r\n",
        "except Exception as ex:\r\n",
        "    # Fall back to InteractiveBrowserCredential in case DefaultAzureCredential not work\r\n",
        "    credential = InteractiveBrowserCredential()\r\n",
        "\r\n",
        "try:\r\n",
        "    ml_client = MLClient.from_config(credential=credential, path=\"workspace.json\")\r\n",
        "except Exception as ex:\r\n",
        "    raise Exception(\r\n",
        "        \"Failed to create MLClient from config file. Please modify and then run the above cell with your AzureML Workspace details.\"\r\n",
        "    ) from ex\r\n",
        "    # ml_client = MLClient(\r\n",
        "    #     credential=credential,\r\n",
        "    #     subscription_id=\"\",\r\n",
        "    #     resource_group_name=\"\",\r\n",
        "    #     workspace_name=\"\"\r\n",
        "    # )\r\n",
        "\r\n",
        "ws = Workspace(\r\n",
        "    subscription_id=ml_client.subscription_id,\r\n",
        "    resource_group=ml_client.resource_group_name,\r\n",
        "    workspace_name=ml_client.workspace_name,\r\n",
        ")\r\n",
        "print(ml_client)"
      ],
      "outputs": [
        {
          "output_type": "stream",
          "name": "stderr",
          "text": "Found the config file in: workspace.json\n"
        },
        {
          "output_type": "stream",
          "name": "stdout",
          "text": "MLClient(credential=<azure.identity._credentials.default.DefaultAzureCredential object at 0x7fb73cded360>,\n         subscription_id=fe38c376-b42a-4741-9e7c-f5d7c31e5873,\n         resource_group_name=yelizkilinc-rg,\n         workspace_name=aml-prod)\n"
        }
      ],
      "execution_count": 3,
      "metadata": {
        "gather": {
          "logged": 1691422261615
        }
      }
    },
    {
      "cell_type": "code",
      "source": [
        "keyvault = ws.get_default_keyvault()\r\n",
        "aoai_endpoint=keyvault.get_secret(name=\"aoai-endpoint\")\r\n",
        "aoai_key=keyvault.get_secret(name=\"key\")"
      ],
      "outputs": [],
      "execution_count": 4,
      "metadata": {
        "jupyter": {
          "source_hidden": false,
          "outputs_hidden": false
        },
        "nteract": {
          "transient": {
            "deleting": false
          }
        },
        "gather": {
          "logged": 1691422270622
        }
      }
    },
    {
      "cell_type": "code",
      "source": [
        "import openai\r\n",
        "\r\n",
        "# Set up Azure OpenAI\r\n",
        "openai.api_type = \"azure\"\r\n",
        "openai.api_base = aoai_endpoint # Api base is the 'Endpoint' which can be found in Azure Portal where Azure OpenAI is created. It looks like https://xxxxxx.openai.azure.com/\r\n",
        "openai.api_version = \"2023-05-15\"\r\n",
        "openai.api_key = aoai_key"
      ],
      "outputs": [],
      "execution_count": 5,
      "metadata": {
        "jupyter": {
          "source_hidden": false,
          "outputs_hidden": false
        },
        "nteract": {
          "transient": {
            "deleting": false
          }
        },
        "gather": {
          "logged": 1691422273625
        }
      }
    },
    {
      "cell_type": "code",
      "source": [
        "# Select the General Purpose curie model for text\r\n",
        "model = \"textdavinci003yk\""
      ],
      "outputs": [],
      "execution_count": 7,
      "metadata": {
        "jupyter": {
          "source_hidden": false,
          "outputs_hidden": false
        },
        "nteract": {
          "transient": {
            "deleting": false
          }
        },
        "gather": {
          "logged": 1691422308693
        }
      }
    },
    {
      "cell_type": "code",
      "source": [
        "# Create your first prompt\r\n",
        "text_prompt = \"Should oxford commas always be used? If you use oxford keyword ,please put a link (www.oxford.com) on the word and underline the keyword,\""
      ],
      "outputs": [],
      "execution_count": 6,
      "metadata": {
        "jupyter": {
          "source_hidden": false,
          "outputs_hidden": false
        },
        "nteract": {
          "transient": {
            "deleting": false
          }
        },
        "gather": {
          "logged": 1691422278686
        }
      }
    },
    {
      "cell_type": "code",
      "source": [
        "# Simple API Call\r\n",
        "openai.Completion.create(\r\n",
        "    deployment_id=model,\r\n",
        "    prompt=text_prompt,\r\n",
        "    max_tokens=60\r\n",
        ")"
      ],
      "outputs": [
        {
          "output_type": "execute_result",
          "execution_count": 8,
          "data": {
            "text/plain": "<OpenAIObject text_completion id=cmpl-7kwUzmdpfHSMvuyWXNKYFVU9mDggV at 0x7fb72010e930> JSON: {\n  \"id\": \"cmpl-7kwUzmdpfHSMvuyWXNKYFVU9mDggV\",\n  \"object\": \"text_completion\",\n  \"created\": 1691422313,\n  \"model\": \"text-davinci-003\",\n  \"choices\": [\n    {\n      \"text\": \"\\n\\nNo, oxford commas do not always need to be used. However, they are often used for clarity in certain types of sentences when you need to separate items in a list. For more information about using oxford commas, visit <a href=\\\"www.oxford.com\",\n      \"index\": 0,\n      \"finish_reason\": \"length\",\n      \"logprobs\": null\n    }\n  ],\n  \"usage\": {\n    \"completion_tokens\": 60,\n    \"prompt_tokens\": 37,\n    \"total_tokens\": 97\n  }\n}"
          },
          "metadata": {}
        }
      ],
      "execution_count": 8,
      "metadata": {
        "jupyter": {
          "source_hidden": false,
          "outputs_hidden": false
        },
        "nteract": {
          "transient": {
            "deleting": false
          }
        },
        "gather": {
          "logged": 1691422315650
        }
      }
    },
    {
      "cell_type": "markdown",
      "source": [
        "### Repeat the same call, how do the results compare?"
      ],
      "metadata": {
        "nteract": {
          "transient": {
            "deleting": false
          }
        }
      }
    },
    {
      "cell_type": "code",
      "source": [
        "openai.Completion.create(\r\n",
        "    deployment_id=model,\r\n",
        "    prompt=text_prompt,\r\n",
        "    max_tokens=60\r\n",
        ")"
      ],
      "outputs": [
        {
          "output_type": "execute_result",
          "execution_count": 9,
          "data": {
            "text/plain": "<OpenAIObject text_completion id=cmpl-7kwVEncNg5dhSpP4RpVtMSTnW7qxX at 0x7fb7219c46d0> JSON: {\n  \"id\": \"cmpl-7kwVEncNg5dhSpP4RpVtMSTnW7qxX\",\n  \"object\": \"text_completion\",\n  \"created\": 1691422328,\n  \"model\": \"text-davinci-003\",\n  \"choices\": [\n    {\n      \"text\": \"\\n\\nNo, oxford commas do not always need to be used. When deciding whether or not to use an oxford comma, it is best to consult language usage guides or a specific style guide relevant to the language in which the sentence is being written. For example, the MLA and AP\",\n      \"index\": 0,\n      \"finish_reason\": \"length\",\n      \"logprobs\": null\n    }\n  ],\n  \"usage\": {\n    \"completion_tokens\": 60,\n    \"prompt_tokens\": 37,\n    \"total_tokens\": 97\n  }\n}"
          },
          "metadata": {}
        }
      ],
      "execution_count": 9,
      "metadata": {
        "jupyter": {
          "source_hidden": false,
          "outputs_hidden": false
        },
        "nteract": {
          "transient": {
            "deleting": false
          }
        },
        "gather": {
          "logged": 1691422330658
        }
      }
    }
  ],
  "metadata": {
    "kernelspec": {
      "name": "python310-sdkv2",
      "language": "python",
      "display_name": "Python 3.10 - SDK v2"
    },
    "language_info": {
      "name": "python",
      "version": "3.10.9",
      "mimetype": "text/x-python",
      "codemirror_mode": {
        "name": "ipython",
        "version": 3
      },
      "pygments_lexer": "ipython3",
      "nbconvert_exporter": "python",
      "file_extension": ".py"
    },
    "microsoft": {
      "ms_spell_check": {
        "ms_spell_check_language": "en"
      }
    },
    "kernel_info": {
      "name": "python310-sdkv2"
    },
    "nteract": {
      "version": "nteract-front-end@1.0.0"
    }
  },
  "nbformat": 4,
  "nbformat_minor": 2
}