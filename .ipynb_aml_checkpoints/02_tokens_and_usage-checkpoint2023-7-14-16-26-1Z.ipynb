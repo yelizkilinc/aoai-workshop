{
  "cells": [
    {
      "cell_type": "markdown",
      "source": [
        "# Tokens"
      ],
      "metadata": {}
    },
    {
      "cell_type": "code",
      "source": [
        "import os\n",
        "import openai\n",
        "from dotenv import load_dotenv\n",
        "\n",
        "# Set up Azure OpenAI\n",
        "load_dotenv(\"credentials.env\")\n",
        "\n",
        "openai.api_type = \"azure\"\n",
        "openai.api_base = os.getenv(\"AZURE_OPENAI_ENDPOINT\") # Api base is the 'Endpoint' which can be found in Azure Portal where Azure OpenAI is created. It looks like https://xxxxxx.openai.azure.com/\n",
        "openai.api_version = os.getenv(\"AZURE_OPENAI_API_VERSION\")\n",
        "openai.api_key = os.getenv(\"AZURE_OPENAI_API_KEY\")"
      ],
      "outputs": [],
      "execution_count": 5,
      "metadata": {
        "jupyter": {
          "source_hidden": false,
          "outputs_hidden": false
        },
        "nteract": {
          "transient": {
            "deleting": false
          }
        },
        "gather": {
          "logged": 1692023414260
        }
      }
    },
    {
      "cell_type": "code",
      "source": [
        "import os\n",
        "import openai\n",
        "from transformers import GPT2TokenizerFast\n",
        "\n",
        "\n",
        "tokenizer = GPT2TokenizerFast.from_pretrained(\"gpt2\")\n",
        "prompt = \"The road to creating new medicines and vaccines has traditionally been long and winding!\"\n",
        "tokens = tokenizer(prompt)\n",
        "print('Total number of tokens:', len(tokens['input_ids']))\n",
        "print('Tokens : ', [tokenizer.decode(t) for t in tokens['input_ids']])\n",
        "print(\"Tokens' numerical values:\", tokens['input_ids'])"
      ],
      "outputs": [
        {
          "output_type": "stream",
          "name": "stdout",
          "text": "Total number of tokens: 15\nTokens :  ['The', ' road', ' to', ' creating', ' new', ' medicines', ' and', ' vaccines', ' has', ' traditionally', ' been', ' long', ' and', ' winding', '!']\nTokens' numerical values: [464, 2975, 284, 4441, 649, 23533, 290, 18336, 468, 16083, 587, 890, 290, 28967, 0]\n"
        }
      ],
      "execution_count": 5,
      "metadata": {
        "gather": {
          "logged": 1692025380081
        }
      }
    },
    {
      "cell_type": "code",
      "source": [
        "response = openai.Completion.create(\n",
        "    engine=\"gpt-35-turbo\",\n",
        "    prompt=prompt,\n",
        "    max_tokens=60,\n",
        "    n=2\n",
        ")"
      ],
      "outputs": [],
      "execution_count": 9,
      "metadata": {
        "gather": {
          "logged": 1692023647244
        }
      }
    },
    {
      "attachments": {},
      "cell_type": "markdown",
      "source": [
        "# Show 2 returned results"
      ],
      "metadata": {}
    },
    {
      "cell_type": "code",
      "source": [
        "print('='*30, 'ANSWER #1', '='*30)\n",
        "print(response['choices'][0]['text'])\n",
        "print('='*30, 'ANSWER #2', '='*30)\n",
        "print(response['choices'][1]['text'])\n"
      ],
      "outputs": [
        {
          "output_type": "stream",
          "name": "stdout",
          "text": "============================== ANSWER #1 ==============================\n Could this be a thing of the past? Could the length...\n\nAdditions to the Leadership Team as Exciting New Phase of Growth Begins. Microbioz India, February 2021: Leaf Expression Systems, a contract development and manufacturing...\n\nThe use of biodegradable biopolymers in drug\n============================== ANSWER #2 ==============================\n It still requires substantial time and investment to move from the research stage to the point where a patient may receive treatment. However, with the current surge in innovation [...]\n\nNigeria's Minster of Health, Dr Osagie Ehanire, has disclosed that the consignment of samples of the COVID-\n"
        }
      ],
      "execution_count": 11,
      "metadata": {
        "gather": {
          "logged": 1692023679083
        }
      }
    },
    {
      "cell_type": "markdown",
      "source": [
        "# Usage"
      ],
      "metadata": {}
    },
    {
      "cell_type": "code",
      "source": [
        "response['usage']"
      ],
      "outputs": [
        {
          "output_type": "execute_result",
          "execution_count": 12,
          "data": {
            "text/plain": "<OpenAIObject at 0x7f2385199c10> JSON: {\n  \"completion_tokens\": 120,\n  \"prompt_tokens\": 15,\n  \"total_tokens\": 135\n}"
          },
          "metadata": {}
        }
      ],
      "execution_count": 12,
      "metadata": {
        "gather": {
          "logged": 1692023692102
        }
      }
    },
    {
      "cell_type": "code",
      "source": [
        "import tiktoken \n",
        "\n",
        "cl100k_base = tiktoken.get_encoding(\"cl100k_base\") \n",
        "\n",
        "enc = tiktoken.Encoding( \n",
        "    name=\"gpt-35-turbo\",  \n",
        "    pat_str=cl100k_base._pat_str, \n",
        "    mergeable_ranks=cl100k_base._mergeable_ranks, \n",
        "    special_tokens={ \n",
        "        **cl100k_base._special_tokens, \n",
        "        \"<|im_start|>\": 100264, \n",
        "        \"<|im_end|>\": 100265\n",
        "    } \n",
        ") \n",
        "\n",
        "tokens = enc.encode( \n",
        "    \"The road to creating new medicines and vaccines has traditionally been long and winding!\"\n",
        ") \n",
        "tokens"
      ],
      "outputs": [
        {
          "output_type": "execute_result",
          "execution_count": 3,
          "data": {
            "text/plain": "[791,\n 5754,\n 311,\n 6968,\n 502,\n 39653,\n 323,\n 40300,\n 706,\n 36342,\n 1027,\n 1317,\n 323,\n 54826,\n 0]"
          },
          "metadata": {}
        }
      ],
      "execution_count": 3,
      "metadata": {
        "gather": {
          "logged": 1692025283164
        }
      }
    },
    {
      "cell_type": "code",
      "source": [
        "!Check which tokenizer is used!!!!!!"
      ],
      "outputs": [],
      "execution_count": null,
      "metadata": {
        "jupyter": {
          "source_hidden": false,
          "outputs_hidden": false
        },
        "nteract": {
          "transient": {
            "deleting": false
          }
        }
      }
    }
  ],
  "metadata": {
    "kernelspec": {
      "name": "python310-sdkv2",
      "language": "python",
      "display_name": "Python 3.10 - SDK v2"
    },
    "language_info": {
      "name": "python",
      "version": "3.10.9",
      "mimetype": "text/x-python",
      "codemirror_mode": {
        "name": "ipython",
        "version": 3
      },
      "pygments_lexer": "ipython3",
      "nbconvert_exporter": "python",
      "file_extension": ".py"
    },
    "orig_nbformat": 4,
    "vscode": {
      "interpreter": {
        "hash": "2139c70ac98f3202d028164a545621647e07f47fd6f5d8ac55cf952bf7c15ed1"
      }
    },
    "microsoft": {
      "ms_spell_check": {
        "ms_spell_check_language": "en"
      },
      "host": {
        "AzureML": {
          "notebookHasBeenCompleted": true
        }
      }
    },
    "kernel_info": {
      "name": "python310-sdkv2"
    },
    "nteract": {
      "version": "nteract-front-end@1.0.0"
    }
  },
  "nbformat": 4,
  "nbformat_minor": 2
}