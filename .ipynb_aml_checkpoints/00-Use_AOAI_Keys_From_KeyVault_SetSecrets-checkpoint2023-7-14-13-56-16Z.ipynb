{
  "cells": [
    {
      "cell_type": "code",
      "source": [
        "%%writefile workspace.json\r\n",
        "{\r\n",
        "\"subscription_id\" : \"fe38c376-b42a-4741-9e7c-f5d7c31e5873\",\r\n",
        "\"resource_group\" : \"yelizkilinc-rg\",\r\n",
        "\"workspace_name\" : \"aml-prod\"\r\n",
        "}"
      ],
      "outputs": [
        {
          "output_type": "stream",
          "name": "stdout",
          "text": "Overwriting workspace.json\n"
        }
      ],
      "execution_count": 1,
      "metadata": {
        "jupyter": {
          "source_hidden": false,
          "outputs_hidden": false
        },
        "nteract": {
          "transient": {
            "deleting": false
          }
        }
      }
    },
    {
      "cell_type": "code",
      "source": [
        "from azure.identity import DefaultAzureCredential, InteractiveBrowserCredential\r\n",
        "from azure.ai.ml import MLClient\r\n",
        "from azureml.core import Workspace\r\n",
        "\r\n",
        "try:\r\n",
        "    credential = DefaultAzureCredential()\r\n",
        "    # Check if given credential can get token successfully.\r\n",
        "    credential.get_token(\"https://management.azure.com/.default\")\r\n",
        "except Exception as ex:\r\n",
        "    # Fall back to InteractiveBrowserCredential in case DefaultAzureCredential not work\r\n",
        "    credential = InteractiveBrowserCredential()\r\n",
        "\r\n",
        "try:\r\n",
        "    ml_client = MLClient.from_config(credential=credential, path=\"workspace.json\")\r\n",
        "except Exception as ex:\r\n",
        "    raise Exception(\r\n",
        "        \"Failed to create MLClient from config file. Please modify and then run the above cell with your AzureML Workspace details.\"\r\n",
        "    ) from ex\r\n",
        "    # ml_client = MLClient(\r\n",
        "    #     credential=credential,\r\n",
        "    #     subscription_id=\"\",\r\n",
        "    #     resource_group_name=\"\",\r\n",
        "    #     workspace_name=\"\"\r\n",
        "    # )\r\n",
        "\r\n",
        "ws = Workspace(\r\n",
        "    subscription_id=ml_client.subscription_id,\r\n",
        "    resource_group=ml_client.resource_group_name,\r\n",
        "    workspace_name=ml_client.workspace_name,\r\n",
        ")\r\n",
        "print(ml_client)"
      ],
      "outputs": [
        {
          "output_type": "stream",
          "name": "stderr",
          "text": "Found the config file in: workspace.json\n"
        },
        {
          "output_type": "stream",
          "name": "stdout",
          "text": "MLClient(credential=<azure.identity._credentials.default.DefaultAzureCredential object at 0x7f53e7feb3a0>,\n         subscription_id=fe38c376-b42a-4741-9e7c-f5d7c31e5873,\n         resource_group_name=yelizkilinc-rg,\n         workspace_name=aml-prod)\n"
        }
      ],
      "execution_count": 2,
      "metadata": {
        "jupyter": {
          "source_hidden": false,
          "outputs_hidden": false
        },
        "nteract": {
          "transient": {
            "deleting": false
          }
        },
        "gather": {
          "logged": 1691420374553
        }
      }
    },
    {
      "cell_type": "code",
      "source": [
        "import uuid\r\n",
        "\r\n",
        "AOAI_endpoint = \"https://openaiykus.openai.azure.com/\" \r\n",
        "key_value=\"9ed9191bbdae445cbe69af2709668995\"\r\n",
        "\r\n",
        "keyvault = ws.get_default_keyvault()\r\n",
        "keyvault.set_secret(name=\"aoai-endpoint\", value = AOAI_endpoint)\r\n",
        "keyvault.set_secret(name=\"key\",value=key_value)\r\n"
      ],
      "outputs": [],
      "execution_count": null,
      "metadata": {
        "jupyter": {
          "source_hidden": false,
          "outputs_hidden": false
        },
        "nteract": {
          "transient": {
            "deleting": false
          }
        }
      }
    },
    {
      "cell_type": "code",
      "source": [],
      "outputs": [],
      "execution_count": 20,
      "metadata": {
        "jupyter": {
          "source_hidden": false,
          "outputs_hidden": false
        },
        "nteract": {
          "transient": {
            "deleting": false
          }
        },
        "gather": {
          "logged": 1690454376125
        }
      }
    },
    {
      "cell_type": "code",
      "source": [
        "aoai_endpoint=keyvault.get_secret(name=\"aoai-endpoint\")\r\n",
        "aoai_key=keyvault.get_secret(name=\"key\")"
      ],
      "outputs": [],
      "execution_count": 21,
      "metadata": {
        "jupyter": {
          "source_hidden": false,
          "outputs_hidden": false
        },
        "nteract": {
          "transient": {
            "deleting": false
          }
        },
        "gather": {
          "logged": 1690454382284
        }
      }
    },
    {
      "cell_type": "code",
      "source": [
        "import openai"
      ],
      "outputs": [],
      "execution_count": 14,
      "metadata": {
        "jupyter": {
          "source_hidden": false,
          "outputs_hidden": false
        },
        "nteract": {
          "transient": {
            "deleting": false
          }
        },
        "gather": {
          "logged": 1690454062588
        }
      }
    },
    {
      "cell_type": "code",
      "source": [
        "# Set up Azure OpenAI\r\n",
        "openai.api_type = \"azure\"\r\n",
        "openai.api_base = aoai_endpoint # Api base is the 'Endpoint' which can be found in Azure Portal where Azure OpenAI is created. It looks like https://xxxxxx.openai.azure.com/\r\n",
        "openai.api_version = \"2022-12-01\"\r\n",
        "openai.api_key = aoai_key"
      ],
      "outputs": [],
      "execution_count": 22,
      "metadata": {
        "jupyter": {
          "source_hidden": false,
          "outputs_hidden": false
        },
        "nteract": {
          "transient": {
            "deleting": false
          }
        },
        "gather": {
          "logged": 1690454401823
        }
      }
    },
    {
      "cell_type": "code",
      "source": [
        "prompt_prefix = \"\"\" \r\n",
        "  Extract keywords from only this text: \r\n",
        "\"\"\"\r\n",
        "\r\n",
        "prompt = prompt_prefix + \"Quarterly profits at US media giant TimeWarner jumped 76% to $1.13bn (£600m) for the three months to December, from $639m year-earlier.  The firm, which is now one of the biggest investors in Google, benefited from sales of high-speed internet connections and higher advert sales. TimeWarner said fourth quarter sales rose 2% to $11.1bn from $10.9bn.\"\r\n",
        "prompt"
      ],
      "outputs": [
        {
          "output_type": "execute_result",
          "execution_count": 39,
          "data": {
            "text/plain": "' \\n  Extract keywords from only this text: \\nQuarterly profits at US media giant TimeWarner jumped 76% to $1.13bn (£600m) for the three months to December, from $639m year-earlier.  The firm, which is now one of the biggest investors in Google, benefited from sales of high-speed internet connections and higher advert sales. TimeWarner said fourth quarter sales rose 2% to $11.1bn from $10.9bn.'"
          },
          "metadata": {}
        }
      ],
      "execution_count": 39,
      "metadata": {
        "jupyter": {
          "source_hidden": false,
          "outputs_hidden": false
        },
        "nteract": {
          "transient": {
            "deleting": false
          }
        },
        "gather": {
          "logged": 1690455766868
        }
      }
    },
    {
      "cell_type": "code",
      "source": [
        "response = openai.Completion.create(\r\n",
        "  deployment_id=\"gpt-35-turbo\", # has to be deployment_id\r\n",
        "  prompt= prompt,\r\n",
        "  temperature=1,\r\n",
        "  max_tokens=10,\r\n",
        "  top_p=1.0,\r\n",
        "  frequency_penalty=0.0,\r\n",
        "  presence_penalty=0\r\n",
        ")\r\n"
      ],
      "outputs": [],
      "execution_count": 42,
      "metadata": {
        "jupyter": {
          "source_hidden": false,
          "outputs_hidden": false
        },
        "nteract": {
          "transient": {
            "deleting": false
          }
        },
        "gather": {
          "logged": 1690455796187
        }
      }
    },
    {
      "cell_type": "code",
      "source": [
        "# print response\r\n",
        "response['choices'][0]['text']"
      ],
      "outputs": [
        {
          "output_type": "execute_result",
          "execution_count": 43,
          "data": {
            "text/plain": "'  Its profits were buoyed by one-off gains'"
          },
          "metadata": {}
        }
      ],
      "execution_count": 43,
      "metadata": {
        "jupyter": {
          "source_hidden": false,
          "outputs_hidden": false
        },
        "nteract": {
          "transient": {
            "deleting": false
          }
        },
        "gather": {
          "logged": 1690455797772
        }
      }
    }
  ],
  "metadata": {
    "kernelspec": {
      "name": "python310-sdkv2",
      "language": "python",
      "display_name": "Python 3.10 - SDK v2"
    },
    "language_info": {
      "name": "python",
      "version": "3.10.9",
      "mimetype": "text/x-python",
      "codemirror_mode": {
        "name": "ipython",
        "version": 3
      },
      "pygments_lexer": "ipython3",
      "nbconvert_exporter": "python",
      "file_extension": ".py"
    },
    "microsoft": {
      "ms_spell_check": {
        "ms_spell_check_language": "en"
      },
      "host": {
        "AzureML": {
          "notebookHasBeenCompleted": true
        }
      }
    },
    "kernel_info": {
      "name": "python310-sdkv2"
    },
    "nteract": {
      "version": "nteract-front-end@1.0.0"
    }
  },
  "nbformat": 4,
  "nbformat_minor": 2
}