{
  "cells": [
    {
      "cell_type": "markdown",
      "source": [
        "<h1 align =\"center\"> Python SDK Sample</h1>\n",
        "<hr>\n",
        "\n",
        "# Chat Completions\n",
        "\n",
        "Chat models take a series of messages as input, and return a model-generated message as output.\n",
        "The main input is the messages parameter. Messages must be an array of message objects, where each object has a role (either \"system\", \"user\", or \"assistant\") and content (the content of the message). "
      ],
      "metadata": {},
      "id": "278e7451"
    },
    {
      "cell_type": "code",
      "source": [
        "# if needed, install and/or upgrade to the latest version of the OpenAI Python library\n",
        "%pip install --upgrade openai"
      ],
      "outputs": [],
      "execution_count": null,
      "metadata": {},
      "id": "fb97123e"
    },
    {
      "cell_type": "code",
      "source": [
        "# import os module & the OpenAI Python library for calling the OpenAI API\n",
        "import os\n",
        "import openai\n",
        "import json"
      ],
      "outputs": [],
      "execution_count": 1,
      "metadata": {
        "gather": {
          "logged": 1692045272869
        }
      },
      "id": "ccbb9a99"
    },
    {
      "cell_type": "code",
      "source": [
        "from azure.identity import DefaultAzureCredential, InteractiveBrowserCredential\n",
        "from azure.ai.ml import MLClient\n",
        "from azureml.core import Workspace\n",
        "\n",
        "try:\n",
        "    credential = DefaultAzureCredential()\n",
        "    # Check if given credential can get token successfully.\n",
        "    credential.get_token(\"https://management.azure.com/.default\")\n",
        "except Exception as ex:\n",
        "    # Fall back to InteractiveBrowserCredential in case DefaultAzureCredential not work\n",
        "    credential = InteractiveBrowserCredential()\n",
        "\n",
        "try:\n",
        "    ml_client = MLClient.from_config(credential=credential, path=\"workspace.json\")\n",
        "except Exception as ex:\n",
        "    raise Exception(\n",
        "        \"Failed to create MLClient from config file. Please modify and then run the above cell with your AzureML Workspace details.\"\n",
        "    ) from ex\n",
        "    # ml_client = MLClient(\n",
        "    #     credential=credential,\n",
        "    #     subscription_id=\"\",\n",
        "    #     resource_group_name=\"\",\n",
        "    #     workspace_name=\"\"\n",
        "    # )\n",
        "\n",
        "ws = Workspace(\n",
        "    subscription_id=ml_client.subscription_id,\n",
        "    resource_group=ml_client.resource_group_name,\n",
        "    workspace_name=ml_client.workspace_name,\n",
        ")\n",
        "print(ml_client)"
      ],
      "outputs": [
        {
          "output_type": "stream",
          "name": "stderr",
          "text": "Found the config file in: workspace.json\n"
        },
        {
          "output_type": "stream",
          "name": "stdout",
          "text": "MLClient(credential=<azure.identity._credentials.default.DefaultAzureCredential object at 0x7f3cc15e98a0>,\n         subscription_id=fe38c376-b42a-4741-9e7c-f5d7c31e5873,\n         resource_group_name=yelizkilinc-rg,\n         workspace_name=aml-prod)\n"
        }
      ],
      "execution_count": 4,
      "metadata": {
        "jupyter": {
          "source_hidden": false,
          "outputs_hidden": false
        },
        "nteract": {
          "transient": {
            "deleting": false
          }
        },
        "gather": {
          "logged": 1692045287294
        }
      },
      "id": "08099996-ea09-432a-a733-0794294fa5ce"
    },
    {
      "cell_type": "markdown",
      "source": [
        "### Setup Parameters"
      ],
      "metadata": {},
      "id": "6d33f92a"
    },
    {
      "cell_type": "code",
      "source": [
        "keyvault = ws.get_default_keyvault()\n",
        "\n",
        "aoai_endpoint=keyvault.get_secret(name=\"aoai-endpoint\")\n",
        "aoai_key=keyvault.get_secret(name=\"key\")\n"
      ],
      "outputs": [],
      "execution_count": 5,
      "metadata": {
        "jupyter": {
          "source_hidden": false,
          "outputs_hidden": false
        },
        "nteract": {
          "transient": {
            "deleting": false
          }
        },
        "gather": {
          "logged": 1692045290165
        }
      },
      "id": "652549d6-a8bd-4434-8e2f-9c975e506a7a"
    },
    {
      "cell_type": "code",
      "source": [
        "# Set up Azure OpenAI\n",
        "openai.api_type = \"azure\"\n",
        "openai.api_base = aoai_endpoint # Api base is the 'Endpoint' which can be found in Azure Portal where Azure OpenAI is created. It looks like https://xxxxxx.openai.azure.com/\n",
        "openai.api_version = \"2023-03-15-preview\"\n",
        "openai.api_key = aoai_key"
      ],
      "outputs": [],
      "execution_count": 6,
      "metadata": {
        "jupyter": {
          "source_hidden": false,
          "outputs_hidden": false
        },
        "nteract": {
          "transient": {
            "deleting": false
          }
        },
        "gather": {
          "logged": 1692045292482
        }
      },
      "id": "a1401455-77ef-464e-9b16-672f3fcd4253"
    },
    {
      "cell_type": "code",
      "source": [
        "# Defining a function to send the prompt to the ChatGPT model\n",
        "# More info : https://learn.microsoft.com/en-us/azure/cognitive-services/openai/how-to/chatgpt?pivots=programming-language-chat-completions\n",
        "def send_message(messages, model_name, max_response_tokens=500):\n",
        "    response = openai.ChatCompletion.create(\n",
        "        engine=model_name,\n",
        "        messages=messages,\n",
        "        temperature=0.5,\n",
        "        max_tokens=max_response_tokens,\n",
        "        top_p=0.9,\n",
        "        frequency_penalty=0,\n",
        "        presence_penalty=0,\n",
        "    )\n",
        "    return response['choices'][0]['message']['content']\n",
        "\n",
        "# Defining a function to print out the conversation in a readable format\n",
        "def print_conversation(messages):\n",
        "    for message in messages:\n",
        "        print(f\"[{message['role'].upper()}]\")\n",
        "        print(message['content'])\n",
        "        print()"
      ],
      "outputs": [],
      "execution_count": 7,
      "metadata": {
        "gather": {
          "logged": 1692045295057
        }
      },
      "id": "cc92fe64"
    },
    {
      "cell_type": "code",
      "source": [
        "base_system_message = \"You are a helpful assistant.\"\n",
        "\n",
        "system_message = f\"{base_system_message.strip()}\"\n",
        "print(system_message)"
      ],
      "outputs": [
        {
          "output_type": "stream",
          "name": "stdout",
          "text": "You are a helpful assistant.\n"
        }
      ],
      "execution_count": 8,
      "metadata": {
        "jupyter": {
          "source_hidden": false,
          "outputs_hidden": false
        },
        "nteract": {
          "transient": {
            "deleting": false
          }
        },
        "gather": {
          "logged": 1692045297926
        }
      },
      "id": "f15eb528-da23-4a85-b533-e8516f0b9004"
    },
    {
      "cell_type": "code",
      "source": [
        "# This is the first user message that will be sent to the model. Feel free to update this.\n",
        "user_message = \"I want to write a blog post about the impact of AI on the future of work.\""
      ],
      "outputs": [],
      "execution_count": 9,
      "metadata": {
        "jupyter": {
          "source_hidden": false,
          "outputs_hidden": false
        },
        "nteract": {
          "transient": {
            "deleting": false
          }
        },
        "gather": {
          "logged": 1692045308005
        }
      },
      "id": "fc4a643e-2e73-4cf6-b344-0ba22d3e2474"
    },
    {
      "cell_type": "code",
      "source": [
        "# Create the list of messages. role can be either \"user\" or \"assistant\" \n",
        "messages=[\n",
        "    {\"role\": \"system\", \"content\": system_message},\n",
        "    {\"role\": \"user\", \"name\":\"example_user\", \"content\": user_message}\n",
        "]"
      ],
      "outputs": [],
      "execution_count": 10,
      "metadata": {
        "jupyter": {
          "source_hidden": false,
          "outputs_hidden": false
        },
        "nteract": {
          "transient": {
            "deleting": false
          }
        },
        "gather": {
          "logged": 1692045312814
        }
      },
      "id": "242be8c5-243a-4ca0-8f3f-e7fd76e5455d"
    },
    {
      "cell_type": "code",
      "source": [
        "# A sample API call for chat completions looks as follows:\n",
        "# Messages must be an array of message objects, where each object has a role (either \"system\", \"user\", or \"assistant\") and content (the content of the message).\n",
        "# For more info: https://learn.microsoft.com/en-us/azure/cognitive-services/openai/reference#chat-completions\n",
        "# You can get \"resource not found error in case your version isn't correct\"\n",
        "\n",
        "model_name= \"gpt-4-32k\"\n",
        "\n",
        "try:\n",
        "    max_response_tokens = 500\n",
        "\n",
        "    response = send_message(messages, model_name, max_response_tokens)\n",
        "    messages.append({\"role\": \"assistant\", \"content\": response})\n",
        "\n",
        "    print_conversation(messages)    \n",
        "   \n",
        "except openai.error.APIError as e:\n",
        "    # Handle API error here, e.g. retry or log\n",
        "    print(f\"OpenAI API returned an API Error: {e}\")\n",
        "\n",
        "except openai.error.AuthenticationError as e:\n",
        "    # Handle Authentication error here, e.g. invalid API key\n",
        "    print(f\"OpenAI API returned an Authentication Error: {e}\")\n",
        "\n",
        "except openai.error.APIConnectionError as e:\n",
        "    # Handle connection error here\n",
        "    print(f\"Failed to connect to OpenAI API: {e}\")\n",
        "\n",
        "except openai.error.InvalidRequestError as e:\n",
        "    # Handle connection error here\n",
        "    print(f\"Invalid Request Error: {e}\")\n",
        "\n",
        "except openai.error.RateLimitError as e:\n",
        "    # Handle rate limit error\n",
        "    print(f\"OpenAI API request exceeded rate limit: {e}\")\n",
        "\n",
        "except openai.error.ServiceUnavailableError as e:\n",
        "    # Handle Service Unavailable error\n",
        "    print(f\"Service Unavailable: {e}\")\n",
        "\n",
        "except openai.error.Timeout as e:\n",
        "    # Handle request timeout\n",
        "    print(f\"Request timed out: {e}\")\n",
        "    \n",
        "except:\n",
        "    # Handles all other exceptions\n",
        "    print(\"An exception has occured.\")"
      ],
      "outputs": [
        {
          "output_type": "stream",
          "name": "stdout",
          "text": "[SYSTEM]\nYou are a helpful assistant.\n\n[USER]\nI want to write a blog post about the impact of AI on the future of work.\n\n[ASSISTANT]\nThat sounds like a fascinating topic! Here's a brief outline to help you get started:\n\n1. **Introduction**\n   - Briefly explain what AI is.\n   - Discuss the importance of AI in today's digital era.\n   - Mention the purpose of the blog post.\n\n2. **Understanding AI**\n   - Discuss the different types of AI: Narrow AI, General AI, and Superintelligent AI.\n   - Provide examples of where AI is currently used.\n\n3. **AI in the Workplace**\n   - Discuss how AI is currently being used in the workplace.\n   - Talk about the benefits of AI in the workplace, such as increased efficiency and productivity.\n   - Discuss the different sectors where AI is making a significant impact (healthcare, finance, transportation, etc.)\n\n4. **The Future of Work with AI**\n   - Discuss predictions about AI and future jobs.\n   - Talk about the skills that will be in demand due to AI advancements.\n   - Discuss the concept of AI and automation, and its potential impact on job displacement.\n\n5. **The Challenges of AI in the Workplace**\n   - Discuss potential downsides or challenges of integrating AI into the workplace, such as job loss fears, privacy concerns, and ethical considerations.\n\n6. **Conclusion**\n   - Summarize the main points discussed in the blog.\n   - Share your thoughts or perspective on the future of AI in the workplace.\n\nRemember, research is key when writing about topics like this. Cite credible sources and make sure to stay up-to-date with the latest advancements in AI. Good luck with your blog post!\n\n[ASSISTANT]\nThat sounds like a fascinating topic! Here's a brief outline to help you get started:\n\n1. **Introduction**\n   - Briefly explain what AI is.\n   - Discuss the importance of AI in today's digital era.\n   - Mention the purpose of the blog post.\n\n2. **Understanding AI**\n   - Discuss the different types of AI: Narrow AI, General AI, and Superintelligent AI.\n   - Provide examples of where AI is currently used.\n\n3. **AI in the Workplace**\n   - Discuss how AI is currently being used in the workplace.\n   - Talk about the benefits of AI in the workplace, such as increased efficiency and productivity.\n   - Discuss the different sectors where AI is making a significant impact (healthcare, finance, transportation, etc.)\n\n4. **The Future of Work with AI**\n   - Discuss predictions about AI and future jobs.\n   - Talk about the skills that will be in demand due to AI advancements.\n   - Discuss the concept of AI and automation, and its potential impact on job displacement.\n\n5. **The Challenges of AI in the Workplace**\n   - Discuss potential downsides or challenges of integrating AI into the workplace, such as job loss fears, privacy concerns, and ethical considerations.\n\n6. **Conclusion**\n   - Summarize the main points discussed in the blog.\n   - Share your thoughts or perspective on the future of AI in the workplace.\n\nRemember, research is key when writing about topics like this. Cite credible sources and make sure to stay up-to-date with the latest advancements in AI. Good luck with your blog post!\n\n[ASSISTANT]\nThat sounds like a fascinating topic! Here's a brief outline to help you get started:\n\n1. **Introduction**\n   - Briefly explain what AI is.\n   - Discuss the importance of AI in today's digital era.\n   - Mention the purpose of the blog post.\n\n2. **Understanding AI**\n   - Discuss the different types of AI: Narrow AI, General AI, and Superintelligent AI.\n   - Provide examples of where AI is currently used.\n\n3. **AI in the Workplace**\n   - Discuss how AI is currently being used in the workplace.\n   - Talk about the benefits of AI in the workplace, such as increased efficiency and productivity.\n   - Discuss the different sectors where AI is making a significant impact (healthcare, finance, transportation, etc.)\n\n4. **The Future of Work with AI**\n   - Discuss predictions about AI and future jobs.\n   - Talk about the skills that will be in demand due to AI advancements.\n   - Discuss the concept of AI and automation, and its potential impact on job displacement.\n\n5. **The Challenges of AI in the Workplace**\n   - Discuss potential downsides or challenges of integrating AI into the workplace, such as job loss fears, privacy concerns, and ethical considerations.\n\n6. **Conclusion**\n   - Summarize the main points discussed in the blog.\n   - Share your thoughts or perspective on the future of AI in the workplace.\n\nRemember, research is key when writing about topics like this. Cite credible sources and make sure to stay up-to-date with the latest advancements in AI. Good luck with your blog post!\n\n[ASSISTANT]\nThat's a great topic! Here's a potential structure for your blog post:\n\n1. **Introduction**\n   - Brief overview of AI and its current role in various industries.\n   - Statement of the blog's purpose: to explore the potential impact of AI on the future of work.\n\n2. **Understanding AI**\n   - Explanation of AI, machine learning, and deep learning.\n   - Examples of AI applications in everyday life.\n\n3. **AI and the Current State of Work**\n   - Examples of how AI is currently being used in the workplace across different industries.\n   - Discussion on the benefits of AI in work, such as efficiency, automation of mundane tasks, etc.\n\n4. **The Future of Work: AI's Potential Impact**\n   - Exploration of expert predictions about how AI could change the work landscape.\n   - Discussion of potential new jobs/industries that could emerge because of AI.\n   - Examination of how AI could change the way we work, not just the jobs we do.\n\n5. **Challenges and Considerations**\n   - Discussion of potential challenges, including job displacement due to automation, ethical considerations, and the digital divide.\n   - Exploration of potential solutions, such as re-skilling and up-skilling programs, regulatory measures, etc.\n\n6. **Conclusion**\n   - Recap of the potential of AI in transforming the future of work.\n   - Closing thoughts and invitation for readers to share their own thoughts on the topic.\n\nRemember to use credible sources to back up your points, and make the post engaging for readers by asking questions and encouraging discussion. Good luck!\n\n"
        }
      ],
      "execution_count": 19,
      "metadata": {
        "jupyter": {
          "source_hidden": false,
          "outputs_hidden": false
        },
        "nteract": {
          "transient": {
            "deleting": false
          }
        },
        "gather": {
          "logged": 1692047440935
        }
      },
      "id": "5f88bcbc-f5a2-4868-bb19-5ac0e8a70b31"
    }
  ],
  "metadata": {
    "kernelspec": {
      "name": "python3",
      "language": "python",
      "display_name": "Python 3 (ipykernel)"
    },
    "language_info": {
      "name": "python",
      "version": "3.10.9",
      "mimetype": "text/x-python",
      "codemirror_mode": {
        "name": "ipython",
        "version": 3
      },
      "pygments_lexer": "ipython3",
      "nbconvert_exporter": "python",
      "file_extension": ".py"
    },
    "microsoft": {
      "ms_spell_check": {
        "ms_spell_check_language": "en"
      },
      "host": {
        "AzureML": {
          "notebookHasBeenCompleted": true
        }
      }
    },
    "kernel_info": {
      "name": "python3"
    },
    "nteract": {
      "version": "nteract-front-end@1.0.0"
    }
  },
  "nbformat": 4,
  "nbformat_minor": 5
}