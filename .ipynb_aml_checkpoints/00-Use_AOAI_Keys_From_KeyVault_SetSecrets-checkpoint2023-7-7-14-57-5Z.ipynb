{
  "cells": [
    {
      "cell_type": "code",
      "source": [
        "from azure.ai.ml import MLClient\r\n",
        "from azure.identity import DefaultAzureCredential\r\n",
        "\r\n",
        "#Enter details of your AzureML workspace\r\n",
        "subscription_id = 'fe38c376-b42a-4741-9e7c-f5d7c31e5873'\r\n",
        "resource_group = 'yelizkilinc-rg'\r\n",
        "workspace = 'aml-prod'\r\n",
        "\r\n",
        "ml_client = MLClient(DefaultAzureCredential(), subscription_id, resource_group, workspace)"
      ],
      "outputs": [],
      "execution_count": 44,
      "metadata": {
        "gather": {
          "logged": 1690460183058
        }
      }
    },
    {
      "cell_type": "code",
      "source": [
        "%pip install -U 'azureml-rag[faiss]>=0.1.11'"
      ],
      "outputs": [
        {
          "output_type": "stream",
          "name": "stdout",
          "text": "Collecting azureml-rag[faiss]>=0.1.11\n  Using cached azureml_rag-0.1.14-py3-none-any.whl (190 kB)\nCollecting azureml-dataprep[parquet]<4.12.0a,>=4.11.3a (from azureml-rag[faiss]>=0.1.11)\n  Using cached azureml_dataprep-4.11.6-py3-none-any.whl (38.2 MB)\nRequirement already satisfied: azureml-core in /anaconda/envs/azureml_py310_sdkv2/lib/python3.10/site-packages (from azureml-rag[faiss]>=0.1.11) (1.48.0)\nCollecting azureml-telemetry (from azureml-rag[faiss]>=0.1.11)\n  Downloading azureml_telemetry-1.52.0-py3-none-any.whl (30 kB)\nRequirement already satisfied: azureml-mlflow in /anaconda/envs/azureml_py310_sdkv2/lib/python3.10/site-packages (from azureml-rag[faiss]>=0.1.11) (1.48.0)\nRequirement already satisfied: azureml-fsspec in /anaconda/envs/azureml_py310_sdkv2/lib/python3.10/site-packages (from azureml-rag[faiss]>=0.1.11) (0.1.0b3)\nCollecting fsspec~=2023.3 (from azureml-rag[faiss]>=0.1.11)\n  Using cached fsspec-2023.6.0-py3-none-any.whl (163 kB)\nRequirement already satisfied: openai>=0.27.8 in /anaconda/envs/azureml_py310_sdkv2/lib/python3.10/site-packages (from azureml-rag[faiss]>=0.1.11) (0.27.8)\nCollecting tiktoken~=0.3.0 (from azureml-rag[faiss]>=0.1.11)\n  Downloading tiktoken-0.3.3-cp310-cp310-manylinux_2_17_x86_64.manylinux2014_x86_64.whl (1.7 MB)\n\u001b[2K     \u001b[90m━━━━━━━━━━━━━━━━━━━━━━━━━━━━━━━━━━━━━━━━\u001b[0m \u001b[32m1.7/1.7 MB\u001b[0m \u001b[31m70.7 MB/s\u001b[0m eta \u001b[36m0:00:00\u001b[0m\n\u001b[?25hRequirement already satisfied: langchain!=0.0.174,>=0.0.149 in /anaconda/envs/azureml_py310_sdkv2/lib/python3.10/site-packages (from azureml-rag[faiss]>=0.1.11) (0.0.209)\nRequirement already satisfied: cloudpickle in /anaconda/envs/azureml_py310_sdkv2/lib/python3.10/site-packages (from azureml-rag[faiss]>=0.1.11) (2.2.0)\nCollecting mmh3 (from azureml-rag[faiss]>=0.1.11)\n  Downloading mmh3-4.0.1-cp310-cp310-manylinux_2_5_x86_64.manylinux1_x86_64.manylinux_2_17_x86_64.manylinux2014_x86_64.whl (72 kB)\n\u001b[2K     \u001b[90m━━━━━━━━━━━━━━━━━━━━━━━━━━━━━━━━━━━━━━━━\u001b[0m \u001b[32m72.6/72.6 kB\u001b[0m \u001b[31m11.6 MB/s\u001b[0m eta \u001b[36m0:00:00\u001b[0m\n\u001b[?25hRequirement already satisfied: msrest>=0.6.18 in /anaconda/envs/azureml_py310_sdkv2/lib/python3.10/site-packages (from azureml-rag[faiss]>=0.1.11) (0.6.21)\nRequirement already satisfied: pyyaml<7.0.0,>=5.1.0 in /anaconda/envs/azureml_py310_sdkv2/lib/python3.10/site-packages (from azureml-rag[faiss]>=0.1.11) (6.0)\nRequirement already satisfied: faiss-cpu~=1.7.3 in /anaconda/envs/azureml_py310_sdkv2/lib/python3.10/site-packages (from azureml-rag[faiss]>=0.1.11) (1.7.4)\nRequirement already satisfied: dotnetcore2<4.0.0,>=3.0.0 in /anaconda/envs/azureml_py310_sdkv2/lib/python3.10/site-packages (from azureml-dataprep[parquet]<4.12.0a,>=4.11.3a->azureml-rag[faiss]>=0.1.11) (3.1.23)\nRequirement already satisfied: azureml-dataprep-native<39.0.0,>=38.0.0 in /anaconda/envs/azureml_py310_sdkv2/lib/python3.10/site-packages (from azureml-dataprep[parquet]<4.12.0a,>=4.11.3a->azureml-rag[faiss]>=0.1.11) (38.0.0)\nCollecting azureml-dataprep-rslex~=2.18.4dev0 (from azureml-dataprep[parquet]<4.12.0a,>=4.11.3a->azureml-rag[faiss]>=0.1.11)\n  Downloading azureml_dataprep_rslex-2.18.4-cp310-cp310-manylinux_2_17_x86_64.manylinux2014_x86_64.whl (22.0 MB)\n\u001b[2K     \u001b[90m━━━━━━━━━━━━━━━━━━━━━━━━━━━━━━━━━━━━━━━━\u001b[0m \u001b[32m22.0/22.0 MB\u001b[0m \u001b[31m61.5 MB/s\u001b[0m eta \u001b[36m0:00:00\u001b[0m00:01\u001b[0m00:01\u001b[0m\n\u001b[?25hRequirement already satisfied: azure-identity>=1.7.0 in /anaconda/envs/azureml_py310_sdkv2/lib/python3.10/site-packages (from azureml-dataprep[parquet]<4.12.0a,>=4.11.3a->azureml-rag[faiss]>=0.1.11) (1.13.0)\nRequirement already satisfied: jsonschema in /anaconda/envs/azureml_py310_sdkv2/lib/python3.10/site-packages (from azureml-dataprep[parquet]<4.12.0a,>=4.11.3a->azureml-rag[faiss]>=0.1.11) (4.17.3)\nCollecting pyarrow<=9.0.0,>=0.17.0 (from azureml-dataprep[parquet]<4.12.0a,>=4.11.3a->azureml-rag[faiss]>=0.1.11)\n  Downloading pyarrow-9.0.0-cp310-cp310-manylinux_2_17_x86_64.manylinux2014_x86_64.whl (35.3 MB)\n\u001b[2K     \u001b[90m━━━━━━━━━━━━━━━━━━━━━━━━━━━━━━━━━━━━━━━━\u001b[0m \u001b[32m35.3/35.3 MB\u001b[0m \u001b[31m43.2 MB/s\u001b[0m eta \u001b[36m0:00:00\u001b[0m00:01\u001b[0m00:01\u001b[0m\n\u001b[?25hRequirement already satisfied: SQLAlchemy<3,>=1.4 in /anaconda/envs/azureml_py310_sdkv2/lib/python3.10/site-packages (from langchain!=0.0.174,>=0.0.149->azureml-rag[faiss]>=0.1.11) (1.4.46)\nRequirement already satisfied: aiohttp<4.0.0,>=3.8.3 in /anaconda/envs/azureml_py310_sdkv2/lib/python3.10/site-packages (from langchain!=0.0.174,>=0.0.149->azureml-rag[faiss]>=0.1.11) (3.8.4)\nRequirement already satisfied: async-timeout<5.0.0,>=4.0.0 in /anaconda/envs/azureml_py310_sdkv2/lib/python3.10/site-packages (from langchain!=0.0.174,>=0.0.149->azureml-rag[faiss]>=0.1.11) (4.0.2)\nRequirement already satisfied: dataclasses-json<0.6.0,>=0.5.7 in /anaconda/envs/azureml_py310_sdkv2/lib/python3.10/site-packages (from langchain!=0.0.174,>=0.0.149->azureml-rag[faiss]>=0.1.11) (0.5.7)\nRequirement already satisfied: langchainplus-sdk>=0.0.13 in /anaconda/envs/azureml_py310_sdkv2/lib/python3.10/site-packages (from langchain!=0.0.174,>=0.0.149->azureml-rag[faiss]>=0.1.11) (0.0.17)\nRequirement already satisfied: numexpr<3.0.0,>=2.8.4 in /anaconda/envs/azureml_py310_sdkv2/lib/python3.10/site-packages (from langchain!=0.0.174,>=0.0.149->azureml-rag[faiss]>=0.1.11) (2.8.4)\nRequirement already satisfied: numpy<2,>=1 in /anaconda/envs/azureml_py310_sdkv2/lib/python3.10/site-packages (from langchain!=0.0.174,>=0.0.149->azureml-rag[faiss]>=0.1.11) (1.24.1)\nRequirement already satisfied: openapi-schema-pydantic<2.0,>=1.2 in /anaconda/envs/azureml_py310_sdkv2/lib/python3.10/site-packages (from langchain!=0.0.174,>=0.0.149->azureml-rag[faiss]>=0.1.11) (1.2.4)\nRequirement already satisfied: pydantic<2,>=1 in /anaconda/envs/azureml_py310_sdkv2/lib/python3.10/site-packages (from langchain!=0.0.174,>=0.0.149->azureml-rag[faiss]>=0.1.11) (1.10.7)\nRequirement already satisfied: requests<3,>=2 in /anaconda/envs/azureml_py310_sdkv2/lib/python3.10/site-packages (from langchain!=0.0.174,>=0.0.149->azureml-rag[faiss]>=0.1.11) (2.28.2)\nRequirement already satisfied: tenacity<9.0.0,>=8.1.0 in /anaconda/envs/azureml_py310_sdkv2/lib/python3.10/site-packages (from langchain!=0.0.174,>=0.0.149->azureml-rag[faiss]>=0.1.11) (8.2.1)\nRequirement already satisfied: requests-oauthlib>=0.5.0 in /anaconda/envs/azureml_py310_sdkv2/lib/python3.10/site-packages (from msrest>=0.6.18->azureml-rag[faiss]>=0.1.11) (1.3.1)\nRequirement already satisfied: isodate>=0.6.0 in /anaconda/envs/azureml_py310_sdkv2/lib/python3.10/site-packages (from msrest>=0.6.18->azureml-rag[faiss]>=0.1.11) (0.6.1)\nRequirement already satisfied: certifi>=2017.4.17 in /anaconda/envs/azureml_py310_sdkv2/lib/python3.10/site-packages (from msrest>=0.6.18->azureml-rag[faiss]>=0.1.11) (2022.6.15)\nRequirement already satisfied: tqdm in /anaconda/envs/azureml_py310_sdkv2/lib/python3.10/site-packages (from openai>=0.27.8->azureml-rag[faiss]>=0.1.11) (4.64.1)\nRequirement already satisfied: regex>=2022.1.18 in /anaconda/envs/azureml_py310_sdkv2/lib/python3.10/site-packages (from tiktoken~=0.3.0->azureml-rag[faiss]>=0.1.11) (2022.10.31)\nRequirement already satisfied: pytz in /anaconda/envs/azureml_py310_sdkv2/lib/python3.10/site-packages (from azureml-core->azureml-rag[faiss]>=0.1.11) (2022.7.1)\nRequirement already satisfied: backports.tempfile in /anaconda/envs/azureml_py310_sdkv2/lib/python3.10/site-packages (from azureml-core->azureml-rag[faiss]>=0.1.11) (1.0)\nRequirement already satisfied: pathspec<1.0.0 in /anaconda/envs/azureml_py310_sdkv2/lib/python3.10/site-packages (from azureml-core->azureml-rag[faiss]>=0.1.11) (0.10.3)\nRequirement already satisfied: msal<2.0.0,>=1.15.0 in /anaconda/envs/azureml_py310_sdkv2/lib/python3.10/site-packages (from azureml-core->azureml-rag[faiss]>=0.1.11) (1.20.0)\nRequirement already satisfied: msal-extensions<=1.0.0,>=0.3.0 in /anaconda/envs/azureml_py310_sdkv2/lib/python3.10/site-packages (from azureml-core->azureml-rag[faiss]>=0.1.11) (1.0.0)\nRequirement already satisfied: knack~=0.10.0 in /anaconda/envs/azureml_py310_sdkv2/lib/python3.10/site-packages (from azureml-core->azureml-rag[faiss]>=0.1.11) (0.10.1)\nRequirement already satisfied: azure-core<2.0.0 in /anaconda/envs/azureml_py310_sdkv2/lib/python3.10/site-packages (from azureml-core->azureml-rag[faiss]>=0.1.11) (1.26.2)\nRequirement already satisfied: pkginfo in /anaconda/envs/azureml_py310_sdkv2/lib/python3.10/site-packages (from azureml-core->azureml-rag[faiss]>=0.1.11) (1.9.6)\nRequirement already satisfied: argcomplete<3 in /anaconda/envs/azureml_py310_sdkv2/lib/python3.10/site-packages (from azureml-core->azureml-rag[faiss]>=0.1.11) (2.0.0)\nRequirement already satisfied: humanfriendly<11.0,>=4.7 in /anaconda/envs/azureml_py310_sdkv2/lib/python3.10/site-packages (from azureml-core->azureml-rag[faiss]>=0.1.11) (10.0)\nRequirement already satisfied: paramiko<3.0.0,>=2.0.8 in /anaconda/envs/azureml_py310_sdkv2/lib/python3.10/site-packages (from azureml-core->azureml-rag[faiss]>=0.1.11) (2.12.0)\nRequirement already satisfied: azure-mgmt-resource<22.0.0,>=15.0.0 in /anaconda/envs/azureml_py310_sdkv2/lib/python3.10/site-packages (from azureml-core->azureml-rag[faiss]>=0.1.11) (21.2.1)\nRequirement already satisfied: azure-mgmt-containerregistry<11,>=8.2.0 in /anaconda/envs/azureml_py310_sdkv2/lib/python3.10/site-packages (from azureml-core->azureml-rag[faiss]>=0.1.11) (10.0.0)\nRequirement already satisfied: azure-mgmt-storage<21.0.0,>=16.0.0 in /anaconda/envs/azureml_py310_sdkv2/lib/python3.10/site-packages (from azureml-core->azureml-rag[faiss]>=0.1.11) (20.1.0)\nRequirement already satisfied: azure-mgmt-keyvault<11.0.0,>=0.40.0 in /anaconda/envs/azureml_py310_sdkv2/lib/python3.10/site-packages (from azureml-core->azureml-rag[faiss]>=0.1.11) (10.1.0)\nRequirement already satisfied: azure-mgmt-authorization<4,>=0.40.0 in /anaconda/envs/azureml_py310_sdkv2/lib/python3.10/site-packages (from azureml-core->azureml-rag[faiss]>=0.1.11) (3.0.0)\nRequirement already satisfied: azure-graphrbac<1.0.0,>=0.40.0 in /anaconda/envs/azureml_py310_sdkv2/lib/python3.10/site-packages (from azureml-core->azureml-rag[faiss]>=0.1.11) (0.61.1)\nRequirement already satisfied: azure-common<2.0.0,>=1.1.12 in /anaconda/envs/azureml_py310_sdkv2/lib/python3.10/site-packages (from azureml-core->azureml-rag[faiss]>=0.1.11) (1.1.28)\nRequirement already satisfied: msrestazure<=0.6.4,>=0.4.33 in /anaconda/envs/azureml_py310_sdkv2/lib/python3.10/site-packages (from azureml-core->azureml-rag[faiss]>=0.1.11) (0.6.4)\nRequirement already satisfied: urllib3<2.0.0,>=1.23 in /anaconda/envs/azureml_py310_sdkv2/lib/python3.10/site-packages (from azureml-core->azureml-rag[faiss]>=0.1.11) (1.26.14)\nRequirement already satisfied: packaging<22.0,>=20.0 in /anaconda/envs/azureml_py310_sdkv2/lib/python3.10/site-packages (from azureml-core->azureml-rag[faiss]>=0.1.11) (21.3)\nRequirement already satisfied: cryptography!=1.9,!=2.0.*,!=2.1.*,!=2.2.*,<41 in /anaconda/envs/azureml_py310_sdkv2/lib/python3.10/site-packages (from azureml-core->azureml-rag[faiss]>=0.1.11) (39.0.0)\nRequirement already satisfied: python-dateutil<3.0.0,>=2.7.3 in /anaconda/envs/azureml_py310_sdkv2/lib/python3.10/site-packages (from azureml-core->azureml-rag[faiss]>=0.1.11) (2.8.2)\nRequirement already satisfied: ndg-httpsclient<=0.5.1 in /anaconda/envs/azureml_py310_sdkv2/lib/python3.10/site-packages (from azureml-core->azureml-rag[faiss]>=0.1.11) (0.5.1)\nRequirement already satisfied: SecretStorage<4.0.0 in /anaconda/envs/azureml_py310_sdkv2/lib/python3.10/site-packages (from azureml-core->azureml-rag[faiss]>=0.1.11) (3.3.3)\nRequirement already satisfied: jsonpickle<3.0.0 in /anaconda/envs/azureml_py310_sdkv2/lib/python3.10/site-packages (from azureml-core->azureml-rag[faiss]>=0.1.11) (1.4.2)\nRequirement already satisfied: contextlib2<22.0.0 in /anaconda/envs/azureml_py310_sdkv2/lib/python3.10/site-packages (from azureml-core->azureml-rag[faiss]>=0.1.11) (21.6.0)\nRequirement already satisfied: docker<7.0.0 in /anaconda/envs/azureml_py310_sdkv2/lib/python3.10/site-packages (from azureml-core->azureml-rag[faiss]>=0.1.11) (6.0.1)\nRequirement already satisfied: PyJWT<3.0.0 in /anaconda/envs/azureml_py310_sdkv2/lib/python3.10/site-packages (from azureml-core->azureml-rag[faiss]>=0.1.11) (2.6.0)\nRequirement already satisfied: adal<=1.2.7,>=1.2.0 in /anaconda/envs/azureml_py310_sdkv2/lib/python3.10/site-packages (from azureml-core->azureml-rag[faiss]>=0.1.11) (1.2.7)\nRequirement already satisfied: pyopenssl<23.0.0 in /anaconda/envs/azureml_py310_sdkv2/lib/python3.10/site-packages (from azureml-core->azureml-rag[faiss]>=0.1.11) (22.1.0)\nRequirement already satisfied: jmespath<2.0.0 in /anaconda/envs/azureml_py310_sdkv2/lib/python3.10/site-packages (from azureml-core->azureml-rag[faiss]>=0.1.11) (1.0.1)\nINFO: pip is looking at multiple versions of azureml-fsspec to determine which version is compatible with other requirements. This could take a while.\nCollecting azureml-fsspec (from azureml-rag[faiss]>=0.1.11)\n  Using cached azureml_fsspec-1.1.1-py3-none-any.whl (10 kB)\nRequirement already satisfied: mlflow-skinny in /anaconda/envs/azureml_py310_sdkv2/lib/python3.10/site-packages (from azureml-mlflow->azureml-rag[faiss]>=0.1.11) (2.1.1)\nRequirement already satisfied: azure-mgmt-core<2.0.0,>=1.2.0 in /anaconda/envs/azureml_py310_sdkv2/lib/python3.10/site-packages (from azureml-mlflow->azureml-rag[faiss]>=0.1.11) (1.3.2)\nCollecting azure-storage-blob<=12.13.0,>=12.5.0 (from azureml-mlflow->azureml-rag[faiss]>=0.1.11)\n  Using cached azure_storage_blob-12.13.0-py3-none-any.whl (377 kB)\nCollecting applicationinsights (from azureml-telemetry->azureml-rag[faiss]>=0.1.11)\n  Downloading applicationinsights-0.11.10-py2.py3-none-any.whl (55 kB)\n\u001b[2K     \u001b[90m━━━━━━━━━━━━━━━━━━━━━━━━━━━━━━━━━━━━━━━━\u001b[0m \u001b[32m55.1/55.1 kB\u001b[0m \u001b[31m10.4 MB/s\u001b[0m eta \u001b[36m0:00:00\u001b[0m\n\u001b[?25hCollecting azureml-core (from azureml-rag[faiss]>=0.1.11)\n  Downloading azureml_core-1.52.0-py3-none-any.whl (3.3 MB)\n\u001b[2K     \u001b[90m━━━━━━━━━━━━━━━━━━━━━━━━━━━━━━━━━━━━━━━━\u001b[0m \u001b[32m3.3/3.3 MB\u001b[0m \u001b[31m104.6 MB/s\u001b[0m eta \u001b[36m0:00:00\u001b[0m\n\u001b[?25hRequirement already satisfied: attrs>=17.3.0 in /anaconda/envs/azureml_py310_sdkv2/lib/python3.10/site-packages (from aiohttp<4.0.0,>=3.8.3->langchain!=0.0.174,>=0.0.149->azureml-rag[faiss]>=0.1.11) (22.2.0)\nRequirement already satisfied: charset-normalizer<4.0,>=2.0 in /anaconda/envs/azureml_py310_sdkv2/lib/python3.10/site-packages (from aiohttp<4.0.0,>=3.8.3->langchain!=0.0.174,>=0.0.149->azureml-rag[faiss]>=0.1.11) (3.0.1)\nRequirement already satisfied: multidict<7.0,>=4.5 in /anaconda/envs/azureml_py310_sdkv2/lib/python3.10/site-packages (from aiohttp<4.0.0,>=3.8.3->langchain!=0.0.174,>=0.0.149->azureml-rag[faiss]>=0.1.11) (6.0.4)\nRequirement already satisfied: yarl<2.0,>=1.0 in /anaconda/envs/azureml_py310_sdkv2/lib/python3.10/site-packages (from aiohttp<4.0.0,>=3.8.3->langchain!=0.0.174,>=0.0.149->azureml-rag[faiss]>=0.1.11) (1.4.2)\nRequirement already satisfied: frozenlist>=1.1.1 in /anaconda/envs/azureml_py310_sdkv2/lib/python3.10/site-packages (from aiohttp<4.0.0,>=3.8.3->langchain!=0.0.174,>=0.0.149->azureml-rag[faiss]>=0.1.11) (1.3.3)\nRequirement already satisfied: aiosignal>=1.1.2 in /anaconda/envs/azureml_py310_sdkv2/lib/python3.10/site-packages (from aiohttp<4.0.0,>=3.8.3->langchain!=0.0.174,>=0.0.149->azureml-rag[faiss]>=0.1.11) (1.3.1)\nRequirement already satisfied: six>=1.11.0 in /anaconda/envs/azureml_py310_sdkv2/lib/python3.10/site-packages (from azure-core<2.0.0->azureml-core->azureml-rag[faiss]>=0.1.11) (1.16.0)\nRequirement already satisfied: typing-extensions>=4.0.1 in /anaconda/envs/azureml_py310_sdkv2/lib/python3.10/site-packages (from azure-core<2.0.0->azureml-core->azureml-rag[faiss]>=0.1.11) (4.4.0)\nCollecting msrest>=0.6.18 (from azureml-rag[faiss]>=0.1.11)\n  Downloading msrest-0.7.1-py3-none-any.whl (85 kB)\n\u001b[2K     \u001b[90m━━━━━━━━━━━━━━━━━━━━━━━━━━━━━━━━━━━━━━━━\u001b[0m \u001b[32m85.4/85.4 kB\u001b[0m \u001b[31m14.6 MB/s\u001b[0m eta \u001b[36m0:00:00\u001b[0m\n\u001b[?25hRequirement already satisfied: cffi>=1.12 in /anaconda/envs/azureml_py310_sdkv2/lib/python3.10/site-packages (from cryptography!=1.9,!=2.0.*,!=2.1.*,!=2.2.*,<41->azureml-core->azureml-rag[faiss]>=0.1.11) (1.15.1)\nRequirement already satisfied: marshmallow<4.0.0,>=3.3.0 in /anaconda/envs/azureml_py310_sdkv2/lib/python3.10/site-packages (from dataclasses-json<0.6.0,>=0.5.7->langchain!=0.0.174,>=0.0.149->azureml-rag[faiss]>=0.1.11) (3.19.0)\nRequirement already satisfied: marshmallow-enum<2.0.0,>=1.5.1 in /anaconda/envs/azureml_py310_sdkv2/lib/python3.10/site-packages (from dataclasses-json<0.6.0,>=0.5.7->langchain!=0.0.174,>=0.0.149->azureml-rag[faiss]>=0.1.11) (1.5.1)\nRequirement already satisfied: typing-inspect>=0.4.0 in /anaconda/envs/azureml_py310_sdkv2/lib/python3.10/site-packages (from dataclasses-json<0.6.0,>=0.5.7->langchain!=0.0.174,>=0.0.149->azureml-rag[faiss]>=0.1.11) (0.8.0)\nRequirement already satisfied: websocket-client>=0.32.0 in /anaconda/envs/azureml_py310_sdkv2/lib/python3.10/site-packages (from docker<7.0.0->azureml-core->azureml-rag[faiss]>=0.1.11) (1.4.2)\nRequirement already satisfied: distro>=1.2.0 in /anaconda/envs/azureml_py310_sdkv2/lib/python3.10/site-packages (from dotnetcore2<4.0.0,>=3.0.0->azureml-dataprep[parquet]<4.12.0a,>=4.11.3a->azureml-rag[faiss]>=0.1.11) (1.8.0)\nRequirement already satisfied: pygments in /anaconda/envs/azureml_py310_sdkv2/lib/python3.10/site-packages (from knack~=0.10.0->azureml-core->azureml-rag[faiss]>=0.1.11) (2.15.1)\nRequirement already satisfied: tabulate in /anaconda/envs/azureml_py310_sdkv2/lib/python3.10/site-packages (from knack~=0.10.0->azureml-core->azureml-rag[faiss]>=0.1.11) (0.9.0)\nRequirement already satisfied: portalocker<3,>=1.0 in /anaconda/envs/azureml_py310_sdkv2/lib/python3.10/site-packages (from msal-extensions<=1.0.0,>=0.3.0->azureml-core->azureml-rag[faiss]>=0.1.11) (2.7.0)\nRequirement already satisfied: pyasn1>=0.1.1 in /anaconda/envs/azureml_py310_sdkv2/lib/python3.10/site-packages (from ndg-httpsclient<=0.5.1->azureml-core->azureml-rag[faiss]>=0.1.11) (0.4.8)\nRequirement already satisfied: pyparsing!=3.0.5,>=2.0.2 in /anaconda/envs/azureml_py310_sdkv2/lib/python3.10/site-packages (from packaging<22.0,>=20.0->azureml-core->azureml-rag[faiss]>=0.1.11) (3.0.9)\nRequirement already satisfied: bcrypt>=3.1.3 in /anaconda/envs/azureml_py310_sdkv2/lib/python3.10/site-packages (from paramiko<3.0.0,>=2.0.8->azureml-core->azureml-rag[faiss]>=0.1.11) (4.0.1)\nRequirement already satisfied: pynacl>=1.0.1 in /anaconda/envs/azureml_py310_sdkv2/lib/python3.10/site-packages (from paramiko<3.0.0,>=2.0.8->azureml-core->azureml-rag[faiss]>=0.1.11) (1.5.0)\nCollecting cryptography (from azureml-mlflow->azureml-rag[faiss]>=0.1.11)\n  Downloading cryptography-38.0.4-cp36-abi3-manylinux_2_28_x86_64.whl (4.2 MB)\n\u001b[2K     \u001b[90m━━━━━━━━━━━━━━━━━━━━━━━━━━━━━━━━━━━━━━━━\u001b[0m \u001b[32m4.2/4.2 MB\u001b[0m \u001b[31m114.4 MB/s\u001b[0m eta \u001b[36m0:00:00\u001b[0m00:01\u001b[0m\n\u001b[?25hRequirement already satisfied: idna<4,>=2.5 in /anaconda/envs/azureml_py310_sdkv2/lib/python3.10/site-packages (from requests<3,>=2->langchain!=0.0.174,>=0.0.149->azureml-rag[faiss]>=0.1.11) (3.4)\nRequirement already satisfied: oauthlib>=3.0.0 in /anaconda/envs/azureml_py310_sdkv2/lib/python3.10/site-packages (from requests-oauthlib>=0.5.0->msrest>=0.6.18->azureml-rag[faiss]>=0.1.11) (3.2.2)\nRequirement already satisfied: PySocks!=1.5.7,>=1.5.6 in /anaconda/envs/azureml_py310_sdkv2/lib/python3.10/site-packages (from requests<3,>=2->langchain!=0.0.174,>=0.0.149->azureml-rag[faiss]>=0.1.11) (1.7.1)\nRequirement already satisfied: jeepney>=0.6 in /anaconda/envs/azureml_py310_sdkv2/lib/python3.10/site-packages (from SecretStorage<4.0.0->azureml-core->azureml-rag[faiss]>=0.1.11) (0.8.0)\nRequirement already satisfied: greenlet!=0.4.17 in /anaconda/envs/azureml_py310_sdkv2/lib/python3.10/site-packages (from SQLAlchemy<3,>=1.4->langchain!=0.0.174,>=0.0.149->azureml-rag[faiss]>=0.1.11) (2.0.1)\nRequirement already satisfied: backports.weakref in /anaconda/envs/azureml_py310_sdkv2/lib/python3.10/site-packages (from backports.tempfile->azureml-core->azureml-rag[faiss]>=0.1.11) (1.0.post1)\nRequirement already satisfied: pyrsistent!=0.17.0,!=0.17.1,!=0.17.2,>=0.14.0 in /anaconda/envs/azureml_py310_sdkv2/lib/python3.10/site-packages (from jsonschema->azureml-dataprep[parquet]<4.12.0a,>=4.11.3a->azureml-rag[faiss]>=0.1.11) (0.19.3)\nRequirement already satisfied: click<9,>=7.0 in /anaconda/envs/azureml_py310_sdkv2/lib/python3.10/site-packages (from mlflow-skinny->azureml-mlflow->azureml-rag[faiss]>=0.1.11) (8.0.4)\nRequirement already satisfied: databricks-cli<1,>=0.8.7 in /anaconda/envs/azureml_py310_sdkv2/lib/python3.10/site-packages (from mlflow-skinny->azureml-mlflow->azureml-rag[faiss]>=0.1.11) (0.17.4)\nRequirement already satisfied: entrypoints<1 in /anaconda/envs/azureml_py310_sdkv2/lib/python3.10/site-packages (from mlflow-skinny->azureml-mlflow->azureml-rag[faiss]>=0.1.11) (0.4)\nRequirement already satisfied: gitpython<4,>=2.1.0 in /anaconda/envs/azureml_py310_sdkv2/lib/python3.10/site-packages (from mlflow-skinny->azureml-mlflow->azureml-rag[faiss]>=0.1.11) (3.1.30)\nRequirement already satisfied: importlib-metadata!=4.7.0,<6,>=3.7.0 in /anaconda/envs/azureml_py310_sdkv2/lib/python3.10/site-packages (from mlflow-skinny->azureml-mlflow->azureml-rag[faiss]>=0.1.11) (5.2.0)\nRequirement already satisfied: protobuf<5,>=3.12.0 in /anaconda/envs/azureml_py310_sdkv2/lib/python3.10/site-packages (from mlflow-skinny->azureml-mlflow->azureml-rag[faiss]>=0.1.11) (3.20.3)\nRequirement already satisfied: sqlparse<1,>=0.4.0 in /anaconda/envs/azureml_py310_sdkv2/lib/python3.10/site-packages (from mlflow-skinny->azureml-mlflow->azureml-rag[faiss]>=0.1.11) (0.4.3)\nRequirement already satisfied: pycparser in /anaconda/envs/azureml_py310_sdkv2/lib/python3.10/site-packages (from cffi>=1.12->cryptography!=1.9,!=2.0.*,!=2.1.*,!=2.2.*,<41->azureml-core->azureml-rag[faiss]>=0.1.11) (2.21)\nRequirement already satisfied: gitdb<5,>=4.0.1 in /anaconda/envs/azureml_py310_sdkv2/lib/python3.10/site-packages (from gitpython<4,>=2.1.0->mlflow-skinny->azureml-mlflow->azureml-rag[faiss]>=0.1.11) (4.0.10)\nRequirement already satisfied: zipp>=0.5 in /anaconda/envs/azureml_py310_sdkv2/lib/python3.10/site-packages (from importlib-metadata!=4.7.0,<6,>=3.7.0->mlflow-skinny->azureml-mlflow->azureml-rag[faiss]>=0.1.11) (3.11.0)\nRequirement already satisfied: mypy-extensions>=0.3.0 in /anaconda/envs/azureml_py310_sdkv2/lib/python3.10/site-packages (from typing-inspect>=0.4.0->dataclasses-json<0.6.0,>=0.5.7->langchain!=0.0.174,>=0.0.149->azureml-rag[faiss]>=0.1.11) (1.0.0)\nRequirement already satisfied: smmap<6,>=3.0.1 in /anaconda/envs/azureml_py310_sdkv2/lib/python3.10/site-packages (from gitdb<5,>=4.0.1->gitpython<4,>=2.1.0->mlflow-skinny->azureml-mlflow->azureml-rag[faiss]>=0.1.11) (5.0.0)\nInstalling collected packages: mmh3, azureml-dataprep-rslex, applicationinsights, pyarrow, fsspec, tiktoken, cryptography, msrest, azure-storage-blob, azureml-core, azureml-telemetry, azureml-dataprep, azureml-fsspec, azureml-rag\n  Attempting uninstall: azureml-dataprep-rslex\n    Found existing installation: azureml-dataprep-rslex 2.15.2\n    Uninstalling azureml-dataprep-rslex-2.15.2:\n      Successfully uninstalled azureml-dataprep-rslex-2.15.2\n  Attempting uninstall: pyarrow\n    Found existing installation: pyarrow 10.0.1\n    Uninstalling pyarrow-10.0.1:\n      Successfully uninstalled pyarrow-10.0.1\n  Attempting uninstall: fsspec\n    Found existing installation: fsspec 2022.11.0\n    Uninstalling fsspec-2022.11.0:\n      Successfully uninstalled fsspec-2022.11.0\n  Attempting uninstall: tiktoken\n    Found existing installation: tiktoken 0.4.0\n    Uninstalling tiktoken-0.4.0:\n      Successfully uninstalled tiktoken-0.4.0\n  Attempting uninstall: cryptography\n    Found existing installation: cryptography 39.0.0\n    Uninstalling cryptography-39.0.0:\n      Successfully uninstalled cryptography-39.0.0\n  Attempting uninstall: msrest\n    Found existing installation: msrest 0.6.21\n    Uninstalling msrest-0.6.21:\n      Successfully uninstalled msrest-0.6.21\n  Attempting uninstall: azure-storage-blob\n    Found existing installation: azure-storage-blob 12.14.1\n    Uninstalling azure-storage-blob-12.14.1:\n      Successfully uninstalled azure-storage-blob-12.14.1\n  Attempting uninstall: azureml-core\n    Found existing installation: azureml-core 1.48.0\n    Uninstalling azureml-core-1.48.0:\n      Successfully uninstalled azureml-core-1.48.0\n  Attempting uninstall: azureml-dataprep\n    Found existing installation: azureml-dataprep 4.8.4\n    Uninstalling azureml-dataprep-4.8.4:\n      Successfully uninstalled azureml-dataprep-4.8.4\n  Attempting uninstall: azureml-fsspec\n    Found existing installation: azureml-fsspec 0.1.0b3\n    Uninstalling azureml-fsspec-0.1.0b3:\n      Successfully uninstalled azureml-fsspec-0.1.0b3\n\u001b[31mERROR: pip's dependency resolver does not currently take into account all the packages that are installed. This behaviour is the source of the following dependency conflicts.\nazure-storage-file-datalake 12.9.1 requires azure-storage-blob<13.0.0,>=12.14.1, but you have azure-storage-blob 12.13.0 which is incompatible.\nbotbuilder-schema 4.14.4 requires msrest==0.6.*, but you have msrest 0.7.1 which is incompatible.\nbotframework-connector 4.14.4 requires msrest==0.6.*, but you have msrest 0.7.1 which is incompatible.\nmltable 1.0.0 requires azureml-dataprep[parquet]<4.9.0a,>=4.8.0a, but you have azureml-dataprep 4.11.6 which is incompatible.\u001b[0m\u001b[31m\n\u001b[0mSuccessfully installed applicationinsights-0.11.10 azure-storage-blob-12.13.0 azureml-core-1.52.0 azureml-dataprep-4.11.6 azureml-dataprep-rslex-2.18.4 azureml-fsspec-1.1.1 azureml-rag-0.1.14 azureml-telemetry-1.52.0 cryptography-38.0.4 fsspec-2023.6.0 mmh3-4.0.1 msrest-0.7.1 pyarrow-9.0.0 tiktoken-0.3.3\n\n\u001b[1m[\u001b[0m\u001b[34;49mnotice\u001b[0m\u001b[1;39;49m]\u001b[0m\u001b[39;49m A new release of pip is available: \u001b[0m\u001b[31;49m23.1.2\u001b[0m\u001b[39;49m -> \u001b[0m\u001b[32;49m23.2.1\u001b[0m\n\u001b[1m[\u001b[0m\u001b[34;49mnotice\u001b[0m\u001b[1;39;49m]\u001b[0m\u001b[39;49m To update, run: \u001b[0m\u001b[32;49m/anaconda/envs/azureml_py310_sdkv2/bin/python -m pip install --upgrade pip\u001b[0m\nNote: you may need to restart the kernel to use updated packages.\n"
        }
      ],
      "execution_count": 3,
      "metadata": {
        "jupyter": {
          "source_hidden": false,
          "outputs_hidden": false
        },
        "nteract": {
          "transient": {
            "deleting": false
          }
        }
      }
    },
    {
      "cell_type": "code",
      "source": [
        "%%writefile workspace.json\r\n",
        "{\r\n",
        "\"subscription_id\" : \"fe38c376-b42a-4741-9e7c-f5d7c31e5873\",\r\n",
        "\"resource_group\" : \"yelizkilinc-rg\",\r\n",
        "\"workspace_name\" : \"aml-prod\"\r\n",
        "}"
      ],
      "outputs": [
        {
          "output_type": "stream",
          "name": "stdout",
          "text": "Writing workspace.json\n"
        }
      ],
      "execution_count": 6,
      "metadata": {
        "jupyter": {
          "source_hidden": false,
          "outputs_hidden": false
        },
        "nteract": {
          "transient": {
            "deleting": false
          }
        }
      }
    },
    {
      "cell_type": "code",
      "source": [
        "from azure.identity import DefaultAzureCredential, InteractiveBrowserCredential\r\n",
        "from azure.ai.ml import MLClient\r\n",
        "from azureml.core import Workspace\r\n",
        "\r\n",
        "try:\r\n",
        "    credential = DefaultAzureCredential()\r\n",
        "    # Check if given credential can get token successfully.\r\n",
        "    credential.get_token(\"https://management.azure.com/.default\")\r\n",
        "except Exception as ex:\r\n",
        "    # Fall back to InteractiveBrowserCredential in case DefaultAzureCredential not work\r\n",
        "    credential = InteractiveBrowserCredential()\r\n",
        "\r\n",
        "try:\r\n",
        "    ml_client = MLClient.from_config(credential=credential, path=\"workspace.json\")\r\n",
        "except Exception as ex:\r\n",
        "    raise Exception(\r\n",
        "        \"Failed to create MLClient from config file. Please modify and then run the above cell with your AzureML Workspace details.\"\r\n",
        "    ) from ex\r\n",
        "    # ml_client = MLClient(\r\n",
        "    #     credential=credential,\r\n",
        "    #     subscription_id=\"\",\r\n",
        "    #     resource_group_name=\"\",\r\n",
        "    #     workspace_name=\"\"\r\n",
        "    # )\r\n",
        "\r\n",
        "ws = Workspace(\r\n",
        "    subscription_id=ml_client.subscription_id,\r\n",
        "    resource_group=ml_client.resource_group_name,\r\n",
        "    workspace_name=ml_client.workspace_name,\r\n",
        ")\r\n",
        "print(ml_client)"
      ],
      "outputs": [
        {
          "output_type": "stream",
          "name": "stderr",
          "text": "Found the config file in: workspace.json\n"
        },
        {
          "output_type": "stream",
          "name": "stdout",
          "text": "MLClient(credential=<azure.identity._credentials.default.DefaultAzureCredential object at 0x7f5d2dbcbb80>,\n         subscription_id=fe38c376-b42a-4741-9e7c-f5d7c31e5873,\n         resource_group_name=yelizkilinc-rg,\n         workspace_name=aml-prod)\n"
        }
      ],
      "execution_count": 7,
      "metadata": {
        "jupyter": {
          "source_hidden": false,
          "outputs_hidden": false
        },
        "nteract": {
          "transient": {
            "deleting": false
          }
        },
        "gather": {
          "logged": 1690453413482
        }
      }
    },
    {
      "cell_type": "code",
      "source": [
        "from azureml.rag.utils.connections import (\r\n",
        "    get_connection_by_name_v2,\r\n",
        "    create_connection_v2,\r\n",
        ")\r\n",
        "\r\n",
        "aoai_connection_name = \"promptflowtest\"\r\n",
        "aoai_connection = get_connection_by_name_v2(ws, aoai_connection_name)\r\n",
        "aoai_connection_id = aoai_connection[\"id\"]"
      ],
      "outputs": [],
      "execution_count": 10,
      "metadata": {
        "jupyter": {
          "source_hidden": false,
          "outputs_hidden": false
        },
        "nteract": {
          "transient": {
            "deleting": false
          }
        },
        "gather": {
          "logged": 1690453582128
        }
      }
    },
    {
      "cell_type": "code",
      "source": [
        "aoai_connection_id"
      ],
      "outputs": [
        {
          "output_type": "execute_result",
          "execution_count": 11,
          "data": {
            "text/plain": "'/subscriptions/fe38c376-b42a-4741-9e7c-f5d7c31e5873/resourceGroups/yelizkilinc-rg/providers/Microsoft.MachineLearningServices/workspaces/aml-prod/connections/promptflowtest'"
          },
          "metadata": {}
        }
      ],
      "execution_count": 11,
      "metadata": {
        "jupyter": {
          "source_hidden": false,
          "outputs_hidden": false
        },
        "nteract": {
          "transient": {
            "deleting": false
          }
        },
        "gather": {
          "logged": 1690453591148
        }
      }
    },
    {
      "cell_type": "code",
      "source": [
        "import uuid\r\n",
        "\r\n",
        "AOAI_endpoint = \"https://openaiykus.openai.azure.com/\" #os.environ.get(\"LOCAL_SECRET\", default = str(uuid.uuid4())) # Use random UUID as a substitute for real secret.\r\n",
        "key_value=\"9ed9191bbdae445cbe69af2709668995\"\r\n",
        "keyvault = ws.get_default_keyvault()\r\n",
        "keyvault.set_secret(name=\"aoai-endpoint\", value = AOAI_endpoint)\r\n"
      ],
      "outputs": [],
      "execution_count": 19,
      "metadata": {
        "jupyter": {
          "source_hidden": false,
          "outputs_hidden": false
        },
        "nteract": {
          "transient": {
            "deleting": false
          }
        },
        "gather": {
          "logged": 1690454373253
        }
      }
    },
    {
      "cell_type": "code",
      "source": [
        "keyvault.set_secret(name=\"key\",value=key_value)"
      ],
      "outputs": [],
      "execution_count": 20,
      "metadata": {
        "jupyter": {
          "source_hidden": false,
          "outputs_hidden": false
        },
        "nteract": {
          "transient": {
            "deleting": false
          }
        },
        "gather": {
          "logged": 1690454376125
        }
      }
    },
    {
      "cell_type": "code",
      "source": [
        "aoai_endpoint=keyvault.get_secret(name=\"aoai-endpoint\")\r\n",
        "aoai_key=keyvault.get_secret(name=\"key\")"
      ],
      "outputs": [],
      "execution_count": 21,
      "metadata": {
        "jupyter": {
          "source_hidden": false,
          "outputs_hidden": false
        },
        "nteract": {
          "transient": {
            "deleting": false
          }
        },
        "gather": {
          "logged": 1690454382284
        }
      }
    },
    {
      "cell_type": "code",
      "source": [
        "import openai"
      ],
      "outputs": [],
      "execution_count": 14,
      "metadata": {
        "jupyter": {
          "source_hidden": false,
          "outputs_hidden": false
        },
        "nteract": {
          "transient": {
            "deleting": false
          }
        },
        "gather": {
          "logged": 1690454062588
        }
      }
    },
    {
      "cell_type": "code",
      "source": [
        "# Set up Azure OpenAI\r\n",
        "openai.api_type = \"azure\"\r\n",
        "openai.api_base = aoai_endpoint # Api base is the 'Endpoint' which can be found in Azure Portal where Azure OpenAI is created. It looks like https://xxxxxx.openai.azure.com/\r\n",
        "openai.api_version = \"2022-12-01\"\r\n",
        "openai.api_key = aoai_key"
      ],
      "outputs": [],
      "execution_count": 22,
      "metadata": {
        "jupyter": {
          "source_hidden": false,
          "outputs_hidden": false
        },
        "nteract": {
          "transient": {
            "deleting": false
          }
        },
        "gather": {
          "logged": 1690454401823
        }
      }
    },
    {
      "cell_type": "code",
      "source": [
        "prompt_prefix = \"\"\" \r\n",
        "  Extract keywords from only this text: \r\n",
        "\"\"\"\r\n",
        "\r\n",
        "prompt = prompt_prefix + \"Quarterly profits at US media giant TimeWarner jumped 76% to $1.13bn (£600m) for the three months to December, from $639m year-earlier.  The firm, which is now one of the biggest investors in Google, benefited from sales of high-speed internet connections and higher advert sales. TimeWarner said fourth quarter sales rose 2% to $11.1bn from $10.9bn.\"\r\n",
        "prompt"
      ],
      "outputs": [
        {
          "output_type": "execute_result",
          "execution_count": 39,
          "data": {
            "text/plain": "' \\n  Extract keywords from only this text: \\nQuarterly profits at US media giant TimeWarner jumped 76% to $1.13bn (£600m) for the three months to December, from $639m year-earlier.  The firm, which is now one of the biggest investors in Google, benefited from sales of high-speed internet connections and higher advert sales. TimeWarner said fourth quarter sales rose 2% to $11.1bn from $10.9bn.'"
          },
          "metadata": {}
        }
      ],
      "execution_count": 39,
      "metadata": {
        "jupyter": {
          "source_hidden": false,
          "outputs_hidden": false
        },
        "nteract": {
          "transient": {
            "deleting": false
          }
        },
        "gather": {
          "logged": 1690455766868
        }
      }
    },
    {
      "cell_type": "code",
      "source": [
        "response = openai.Completion.create(\r\n",
        "  deployment_id=\"gpt-35-turbo\", # has to be deployment_id\r\n",
        "  prompt= prompt,\r\n",
        "  temperature=1,\r\n",
        "  max_tokens=10,\r\n",
        "  top_p=1.0,\r\n",
        "  frequency_penalty=0.0,\r\n",
        "  presence_penalty=0\r\n",
        ")\r\n"
      ],
      "outputs": [],
      "execution_count": 42,
      "metadata": {
        "jupyter": {
          "source_hidden": false,
          "outputs_hidden": false
        },
        "nteract": {
          "transient": {
            "deleting": false
          }
        },
        "gather": {
          "logged": 1690455796187
        }
      }
    },
    {
      "cell_type": "code",
      "source": [
        "# print response\r\n",
        "response['choices'][0]['text']"
      ],
      "outputs": [
        {
          "output_type": "execute_result",
          "execution_count": 43,
          "data": {
            "text/plain": "'  Its profits were buoyed by one-off gains'"
          },
          "metadata": {}
        }
      ],
      "execution_count": 43,
      "metadata": {
        "jupyter": {
          "source_hidden": false,
          "outputs_hidden": false
        },
        "nteract": {
          "transient": {
            "deleting": false
          }
        },
        "gather": {
          "logged": 1690455797772
        }
      }
    }
  ],
  "metadata": {
    "kernelspec": {
      "name": "python310-sdkv2",
      "language": "python",
      "display_name": "Python 3.10 - SDK v2"
    },
    "language_info": {
      "name": "python",
      "version": "3.10.9",
      "mimetype": "text/x-python",
      "codemirror_mode": {
        "name": "ipython",
        "version": 3
      },
      "pygments_lexer": "ipython3",
      "nbconvert_exporter": "python",
      "file_extension": ".py"
    },
    "microsoft": {
      "ms_spell_check": {
        "ms_spell_check_language": "en"
      },
      "host": {
        "AzureML": {
          "notebookHasBeenCompleted": true
        }
      }
    },
    "kernel_info": {
      "name": "python310-sdkv2"
    },
    "nteract": {
      "version": "nteract-front-end@1.0.0"
    }
  },
  "nbformat": 4,
  "nbformat_minor": 2
}