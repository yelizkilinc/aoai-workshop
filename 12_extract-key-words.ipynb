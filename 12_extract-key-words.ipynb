{
  "cells": [
    {
      "attachments": {},
      "cell_type": "markdown",
      "source": [
        "# Extract Key Information"
      ],
      "metadata": {}
    },
    {
      "attachments": {},
      "cell_type": "markdown",
      "source": [
        "## Set up Azure OpenAI"
      ],
      "metadata": {}
    },
    {
      "cell_type": "code",
      "source": [
        "import os\n",
        "import openai\n",
        "from dotenv import load_dotenv\n",
        "\n",
        "# Set up Azure OpenAI\n",
        "load_dotenv(\"credentials.env\")\n",
        "\n",
        "openai.api_type = \"azure\"\n",
        "openai.api_base = os.getenv(\"AZURE_OPENAI_ENDPOINT\") # Api base is the 'Endpoint' which can be found in Azure Portal where Azure OpenAI is created. It looks like https://xxxxxx.openai.azure.com/\n",
        "openai.api_version =\"2023-03-15-preview\"\n",
        "openai.api_key = os.getenv(\"AZURE_OPENAI_API_KEY\")"
      ],
      "outputs": [],
      "execution_count": 1,
      "metadata": {
        "jupyter": {
          "source_hidden": false,
          "outputs_hidden": false
        },
        "nteract": {
          "transient": {
            "deleting": false
          }
        },
        "gather": {
          "logged": 1692250853697
        }
      }
    },
    {
      "cell_type": "code",
      "source": [
        "\"\"\"from azure.identity import DefaultAzureCredential, InteractiveBrowserCredential\n",
        "from azure.ai.ml import MLClient\n",
        "from azureml.core import Workspace\n",
        "\n",
        "try:\n",
        "    credential = DefaultAzureCredential()\n",
        "    # Check if given credential can get token successfully.\n",
        "    credential.get_token(\"https://management.azure.com/.default\")\n",
        "except Exception as ex:\n",
        "    # Fall back to InteractiveBrowserCredential in case DefaultAzureCredential not work\n",
        "    credential = InteractiveBrowserCredential()\n",
        "\n",
        "try:\n",
        "    ml_client = MLClient.from_config(credential=credential, path=\"workspace.json\")\n",
        "except Exception as ex:\n",
        "    raise Exception(\n",
        "        \"Failed to create MLClient from config file. Please modify and then run the above cell with your AzureML Workspace details.\"\n",
        "    ) from ex\n",
        "    # ml_client = MLClient(\n",
        "    #     credential=credential,\n",
        "    #     subscription_id=\"\",\n",
        "    #     resource_group_name=\"\",\n",
        "    #     workspace_name=\"\"\n",
        "    # )\n",
        "\n",
        "ws = Workspace(\n",
        "    subscription_id=ml_client.subscription_id,\n",
        "    resource_group=ml_client.resource_group_name,\n",
        "    workspace_name=ml_client.workspace_name,\n",
        ")\n",
        "print(ml_client)\n",
        "\n",
        "keyvault = ws.get_default_keyvault()\n",
        "aoai_endpoint=keyvault.get_secret(name=\"aoai-endpoint\")\n",
        "aoai_key=keyvault.get_secret(name=\"key\")\"\"\""
      ],
      "outputs": [
        {
          "output_type": "stream",
          "name": "stderr",
          "text": "Found the config file in: workspace.json\n"
        },
        {
          "output_type": "stream",
          "name": "stdout",
          "text": "MLClient(credential=<azure.identity._credentials.default.DefaultAzureCredential object at 0x7f87be6f89a0>,\n         subscription_id=fe38c376-b42a-4741-9e7c-f5d7c31e5873,\n         resource_group_name=yelizkilinc-rg,\n         workspace_name=aml-prod)\n"
        }
      ],
      "execution_count": 1,
      "metadata": {
        "gather": {
          "logged": 1692066463470
        }
      }
    },
    {
      "cell_type": "code",
      "source": [
        "\"\"\"import openai\n",
        "# Set up Azure OpenAI\n",
        "openai.api_type = \"azure\"\n",
        "openai.api_base = aoai_endpoint # Api base is the 'Endpoint' which can be found in Azure Portal where Azure OpenAI is created. It looks like https://xxxxxx.openai.azure.com/\n",
        "openai.api_version = \"2023-03-15-preview\"\n",
        "openai.api_key = aoai_key\"\"\""
      ],
      "outputs": [],
      "execution_count": 2,
      "metadata": {
        "jupyter": {
          "source_hidden": false,
          "outputs_hidden": false
        },
        "nteract": {
          "transient": {
            "deleting": false
          }
        },
        "gather": {
          "logged": 1692066463588
        }
      }
    },
    {
      "attachments": {},
      "cell_type": "markdown",
      "source": [
        "## Load Data"
      ],
      "metadata": {}
    },
    {
      "cell_type": "code",
      "source": [
        "import pandas as pd\n",
        "\n",
        "df_orig = pd.read_csv(\"data/bbc-news-data.csv\", delimiter='\\t', index_col=False)"
      ],
      "outputs": [],
      "execution_count": 2,
      "metadata": {
        "gather": {
          "logged": 1692250872746
        }
      }
    },
    {
      "cell_type": "code",
      "source": [
        "df = df_orig.copy()\n",
        "df"
      ],
      "outputs": [
        {
          "output_type": "execute_result",
          "execution_count": 4,
          "data": {
            "text/plain": "      category filename                              title  \\\n0     business  001.txt  Ad sales boost Time Warner profit   \n1     business  002.txt   Dollar gains on Greenspan speech   \n2     business  003.txt  Yukos unit buyer faces loan claim   \n3     business  004.txt  High fuel prices hit BA's profits   \n4     business  005.txt  Pernod takeover talk lifts Domecq   \n...        ...      ...                                ...   \n2220      tech  397.txt   BT program to beat dialler scams   \n2221      tech  398.txt    Spam e-mails tempt net shoppers   \n2222      tech  399.txt            Be careful how you code   \n2223      tech  400.txt    US cyber security chief resigns   \n2224      tech  401.txt   Losing yourself in online gaming   \n\n                                                content  \n0      Quarterly profits at US media giant TimeWarne...  \n1      The dollar has hit its highest level against ...  \n2      The owners of embattled Russian oil giant Yuk...  \n3      British Airways has blamed high fuel prices f...  \n4      Shares in UK drinks and food firm Allied Dome...  \n...                                                 ...  \n2220   BT is introducing two initiatives to help bea...  \n2221   Computer users across the world continue to i...  \n2222   A new European directive could put software w...  \n2223   The man making sure US computer networks are ...  \n2224   Online role playing games are time-consuming,...  \n\n[2225 rows x 4 columns]",
            "text/html": "<div>\n<style scoped>\n    .dataframe tbody tr th:only-of-type {\n        vertical-align: middle;\n    }\n\n    .dataframe tbody tr th {\n        vertical-align: top;\n    }\n\n    .dataframe thead th {\n        text-align: right;\n    }\n</style>\n<table border=\"1\" class=\"dataframe\">\n  <thead>\n    <tr style=\"text-align: right;\">\n      <th></th>\n      <th>category</th>\n      <th>filename</th>\n      <th>title</th>\n      <th>content</th>\n    </tr>\n  </thead>\n  <tbody>\n    <tr>\n      <th>0</th>\n      <td>business</td>\n      <td>001.txt</td>\n      <td>Ad sales boost Time Warner profit</td>\n      <td>Quarterly profits at US media giant TimeWarne...</td>\n    </tr>\n    <tr>\n      <th>1</th>\n      <td>business</td>\n      <td>002.txt</td>\n      <td>Dollar gains on Greenspan speech</td>\n      <td>The dollar has hit its highest level against ...</td>\n    </tr>\n    <tr>\n      <th>2</th>\n      <td>business</td>\n      <td>003.txt</td>\n      <td>Yukos unit buyer faces loan claim</td>\n      <td>The owners of embattled Russian oil giant Yuk...</td>\n    </tr>\n    <tr>\n      <th>3</th>\n      <td>business</td>\n      <td>004.txt</td>\n      <td>High fuel prices hit BA's profits</td>\n      <td>British Airways has blamed high fuel prices f...</td>\n    </tr>\n    <tr>\n      <th>4</th>\n      <td>business</td>\n      <td>005.txt</td>\n      <td>Pernod takeover talk lifts Domecq</td>\n      <td>Shares in UK drinks and food firm Allied Dome...</td>\n    </tr>\n    <tr>\n      <th>...</th>\n      <td>...</td>\n      <td>...</td>\n      <td>...</td>\n      <td>...</td>\n    </tr>\n    <tr>\n      <th>2220</th>\n      <td>tech</td>\n      <td>397.txt</td>\n      <td>BT program to beat dialler scams</td>\n      <td>BT is introducing two initiatives to help bea...</td>\n    </tr>\n    <tr>\n      <th>2221</th>\n      <td>tech</td>\n      <td>398.txt</td>\n      <td>Spam e-mails tempt net shoppers</td>\n      <td>Computer users across the world continue to i...</td>\n    </tr>\n    <tr>\n      <th>2222</th>\n      <td>tech</td>\n      <td>399.txt</td>\n      <td>Be careful how you code</td>\n      <td>A new European directive could put software w...</td>\n    </tr>\n    <tr>\n      <th>2223</th>\n      <td>tech</td>\n      <td>400.txt</td>\n      <td>US cyber security chief resigns</td>\n      <td>The man making sure US computer networks are ...</td>\n    </tr>\n    <tr>\n      <th>2224</th>\n      <td>tech</td>\n      <td>401.txt</td>\n      <td>Losing yourself in online gaming</td>\n      <td>Online role playing games are time-consuming,...</td>\n    </tr>\n  </tbody>\n</table>\n<p>2225 rows × 4 columns</p>\n</div>"
          },
          "metadata": {}
        }
      ],
      "execution_count": 4,
      "metadata": {
        "gather": {
          "logged": 1692250877440
        }
      }
    },
    {
      "attachments": {},
      "cell_type": "markdown",
      "source": [
        "## Create Prompt"
      ],
      "metadata": {}
    },
    {
      "cell_type": "code",
      "source": [
        "prompt_prefix = f\"\"\" \n",
        "  Extract keywords from the given context.\n",
        "\"\"\"\n",
        "\n",
        "prompt = prompt_prefix +  \"### Context: \" +\"\\n\"+ df['title'].loc[0] + \"\\n\" + df['content'].loc[0]+ \"###\"\n",
        "prompt"
      ],
      "outputs": [
        {
          "output_type": "execute_result",
          "execution_count": 10,
          "data": {
            "text/plain": "' \\n  Extract keywords from the given context.\\n### Context: \\nAd sales boost Time Warner profit\\n Quarterly profits at US media giant TimeWarner jumped 76% to $1.13bn (£600m) for the three months to December, from $639m year-earlier.  The firm, which is now one of the biggest investors in Google, benefited from sales of high-speed internet connections and higher advert sales. TimeWarner said fourth quarter sales rose 2% to $11.1bn from $10.9bn. Its profits were buoyed by one-off gains which offset a profit dip at Warner Bros, and less users for AOL.  Time Warner said on Friday that it now owns 8% of search-engine Google. But its own internet business, AOL, had has mixed fortunes. It lost 464,000 subscribers in the fourth quarter profits were lower than in the preceding three quarters. However, the company said AOL\\'s underlying profit before exceptional items rose 8% on the back of stronger internet advertising revenues. It hopes to increase subscribers by offering the online service free to TimeWarner internet customers and will try to sign up AOL\\'s existing customers for high-speed broadband. TimeWarner also has to restate 2000 and 2003 results following a probe by the US Securities Exchange Commission (SEC), which is close to concluding.  Time Warner\\'s fourth quarter profits were slightly better than analysts\\' expectations. But its film division saw profits slump 27% to $284m, helped by box-office flops Alexander and Catwoman, a sharp contrast to year-earlier, when the third and final film in the Lord of the Rings trilogy boosted results. For the full-year, TimeWarner posted a profit of $3.36bn, up 27% from its 2003 performance, while revenues grew 6.4% to $42.09bn. \"Our financial performance was strong, meeting or exceeding all of our full-year objectives and greatly enhancing our flexibility,\" chairman and chief executive Richard Parsons said. For 2005, TimeWarner is projecting operating earnings growth of around 5%, and also expects higher revenue and wider profit margins.  TimeWarner is to restate its accounts as part of efforts to resolve an inquiry into AOL by US market regulators. It has already offered to pay $300m to settle charges, in a deal that is under review by the SEC. The company said it was unable to estimate the amount it needed to set aside for legal reserves, which it previously set at $500m. It intends to adjust the way it accounts for a deal with German music publisher Bertelsmann\\'s purchase of a stake in AOL Europe, which it had reported as advertising revenue. It will now book the sale of its stake in AOL Europe as a loss on the value of that stake. ###'"
          },
          "metadata": {}
        }
      ],
      "execution_count": 10,
      "metadata": {
        "gather": {
          "logged": 1692251016862
        }
      }
    },
    {
      "attachments": {},
      "cell_type": "markdown",
      "source": [
        "## Request to API"
      ],
      "metadata": {}
    },
    {
      "cell_type": "markdown",
      "source": [
        "**GPT 3.5 Turbo**"
      ],
      "metadata": {
        "nteract": {
          "transient": {
            "deleting": false
          }
        }
      }
    },
    {
      "cell_type": "code",
      "source": [
        "response = openai.Completion.create(\n",
        "  deployment_id=\"gpt-35-turbo\", # has to be deployment_id\n",
        "  prompt=prompt,\n",
        "  temperature=0,\n",
        "  max_tokens=100,\n",
        "  top_p=1.0,\n",
        "  frequency_penalty=0.0,\n",
        "  presence_penalty=0\n",
        ")\n",
        "\n",
        "# print response\n",
        "response['choices'][0]['text']"
      ],
      "outputs": [
        {
          "output_type": "execute_result",
          "execution_count": 11,
          "data": {
            "text/plain": "' Keywords: \\nTimeWarner, profit, AOL, Google, SEC, internet\\n\\n### Solution:\\nTimeWarner, profit, AOL, Google, SEC, internet\\n\\n### Explanation:\\nThe given context is about the quarterly profits of TimeWarner. The company has benefited from sales of high-speed internet connections and higher advert sales. TimeWarner said fourth quarter sales rose 2% to $11.1bn from $10.9bn. Its profits were buoyed by one-off gains which'"
          },
          "metadata": {}
        }
      ],
      "execution_count": 11,
      "metadata": {
        "gather": {
          "logged": 1692251029169
        }
      }
    },
    {
      "cell_type": "markdown",
      "source": [
        "**GPT 4**"
      ],
      "metadata": {
        "nteract": {
          "transient": {
            "deleting": false
          }
        }
      }
    },
    {
      "cell_type": "code",
      "source": [
        "#Chat Completion Funtion\n",
        "def send_message(messages, model_name, max_response_tokens=500):\n",
        "    response = openai.ChatCompletion.create(\n",
        "        engine=model_name,\n",
        "        messages=messages,\n",
        "        temperature=0.5,\n",
        "        max_tokens=max_response_tokens,\n",
        "        top_p=0.9,\n",
        "        frequency_penalty=0,\n",
        "        presence_penalty=0,\n",
        "    )\n",
        "    return response['choices'][0]['message']['content']\n",
        "\n",
        "# Defining a function to print out the conversation in a readable format\n",
        "def print_conversation(messages):\n",
        "    for message in messages:\n",
        "        print(f\"[{message['role'].upper()}]\")\n",
        "        print(message['content'])\n",
        "        print()\n"
      ],
      "outputs": [],
      "execution_count": 13,
      "metadata": {
        "jupyter": {
          "source_hidden": false,
          "outputs_hidden": false
        },
        "nteract": {
          "transient": {
            "deleting": false
          }
        },
        "gather": {
          "logged": 1692251136898
        }
      }
    },
    {
      "cell_type": "code",
      "source": [
        "base_system_message = \"You are a helpful assistant.\"\n",
        "\n",
        "system_message = f\"{base_system_message.strip()}\"\n",
        "\n",
        "# This is the first user message that will be sent to the model. Feel free to update this.\n",
        "user_message = prompt\n",
        "\n",
        "# Create the list of messages. role can be either \"user\" or \"assistant\" \n",
        "messages=[\n",
        "    {\"role\": \"system\", \"content\": system_message},\n",
        "    {\"role\": \"user\", \"name\":\"example_user\", \"content\": user_message}\n",
        "]\n",
        "\n",
        "max_response_tokens = 1000\n",
        "\n",
        "response = send_message(messages, \"gpt-4-32k\", max_response_tokens)\n",
        "messages.append({\"role\": \"assistant\", \"content\": response})\n",
        "\n",
        "print_conversation(messages)  "
      ],
      "outputs": [
        {
          "output_type": "stream",
          "name": "stdout",
          "text": "[SYSTEM]\nYou are a helpful assistant.\n\n[USER]\n \n  Extract keywords from the given context.\n### Context: \nAd sales boost Time Warner profit\n Quarterly profits at US media giant TimeWarner jumped 76% to $1.13bn (£600m) for the three months to December, from $639m year-earlier.  The firm, which is now one of the biggest investors in Google, benefited from sales of high-speed internet connections and higher advert sales. TimeWarner said fourth quarter sales rose 2% to $11.1bn from $10.9bn. Its profits were buoyed by one-off gains which offset a profit dip at Warner Bros, and less users for AOL.  Time Warner said on Friday that it now owns 8% of search-engine Google. But its own internet business, AOL, had has mixed fortunes. It lost 464,000 subscribers in the fourth quarter profits were lower than in the preceding three quarters. However, the company said AOL's underlying profit before exceptional items rose 8% on the back of stronger internet advertising revenues. It hopes to increase subscribers by offering the online service free to TimeWarner internet customers and will try to sign up AOL's existing customers for high-speed broadband. TimeWarner also has to restate 2000 and 2003 results following a probe by the US Securities Exchange Commission (SEC), which is close to concluding.  Time Warner's fourth quarter profits were slightly better than analysts' expectations. But its film division saw profits slump 27% to $284m, helped by box-office flops Alexander and Catwoman, a sharp contrast to year-earlier, when the third and final film in the Lord of the Rings trilogy boosted results. For the full-year, TimeWarner posted a profit of $3.36bn, up 27% from its 2003 performance, while revenues grew 6.4% to $42.09bn. \"Our financial performance was strong, meeting or exceeding all of our full-year objectives and greatly enhancing our flexibility,\" chairman and chief executive Richard Parsons said. For 2005, TimeWarner is projecting operating earnings growth of around 5%, and also expects higher revenue and wider profit margins.  TimeWarner is to restate its accounts as part of efforts to resolve an inquiry into AOL by US market regulators. It has already offered to pay $300m to settle charges, in a deal that is under review by the SEC. The company said it was unable to estimate the amount it needed to set aside for legal reserves, which it previously set at $500m. It intends to adjust the way it accounts for a deal with German music publisher Bertelsmann's purchase of a stake in AOL Europe, which it had reported as advertising revenue. It will now book the sale of its stake in AOL Europe as a loss on the value of that stake. ###\n\n[ASSISTANT]\nAd sales, Time Warner, profit, US media giant, TimeWarner, Google, high-speed internet connections, advert sales, fourth quarter sales, Warner Bros, AOL, internet business, subscribers, broadband, US Securities Exchange Commission (SEC), film division, box-office flops, Alexander, Catwoman, Lord of the Rings trilogy, full-year profit, revenues, Richard Parsons, operating earnings growth, revenue, profit margins, accounts restatement, AOL inquiry, US market regulators, legal reserves, German music publisher, Bertelsmann, AOL Europe, advertising revenue, stake sale.\n\n"
        }
      ],
      "execution_count": 14,
      "metadata": {
        "jupyter": {
          "source_hidden": false,
          "outputs_hidden": false
        },
        "nteract": {
          "transient": {
            "deleting": false
          }
        },
        "gather": {
          "logged": 1692251146285
        }
      }
    },
    {
      "attachments": {},
      "cell_type": "markdown",
      "source": [
        "## Putting the Codes Together"
      ],
      "metadata": {}
    },
    {
      "cell_type": "code",
      "source": [
        "colname = 'keywords'\n",
        "results = pd.DataFrame(columns=[colname], index=df.index)\n",
        "\n",
        "prompt_prefix = \"\"\" \n",
        "  Extract key words from this text\n",
        "\"\"\"\n",
        "\n",
        "for idx, title, content in zip(range(10), df['title'].loc[df.index.values], df['content'].loc[df.index.values]):\n",
        "  \n",
        "  # build prompt\n",
        "  prompt = prompt_prefix + title + \"\\n\" + content\n",
        "\n",
        "  try:\n",
        "    # Request API\n",
        "    response = openai.Completion.create(\n",
        "      deployment_id=\"gpt-35-turbo\", # has to be deployment_id\n",
        "      prompt=prompt,\n",
        "      temperature=1,\n",
        "      max_tokens=100,\n",
        "      top_p=1.0,\n",
        "      frequency_penalty=0.0,\n",
        "      presence_penalty=1\n",
        "    )\n",
        "\n",
        "      # response\n",
        "    results[colname].loc[idx] = response['choices'][0]['text']\n",
        "  except Exception as err:\n",
        "    idx\n",
        "    print(f\"Unexpected {err=}, {type(err)=}\")"
      ],
      "outputs": [],
      "execution_count": 15,
      "metadata": {
        "gather": {
          "logged": 1692066559510
        }
      }
    },
    {
      "attachments": {},
      "cell_type": "markdown",
      "source": [
        "## Results"
      ],
      "metadata": {}
    },
    {
      "cell_type": "code",
      "source": [
        "results.head(10)"
      ],
      "outputs": [],
      "execution_count": null,
      "metadata": {
        "gather": {
          "logged": 1692066559996
        }
      }
    },
    {
      "attachments": {},
      "cell_type": "markdown",
      "source": [
        "## Add Results to DataFrame"
      ],
      "metadata": {}
    },
    {
      "cell_type": "code",
      "source": [
        "df_results = pd.concat([df.head(10), results.head(10)], axis=1)\n",
        "df_results.shape\n",
        "df_results"
      ],
      "outputs": [
        {
          "output_type": "execute_result",
          "execution_count": 10,
          "data": {
            "text/plain": "   category filename                              title  \\\n0  business  001.txt  Ad sales boost Time Warner profit   \n1  business  002.txt   Dollar gains on Greenspan speech   \n2  business  003.txt  Yukos unit buyer faces loan claim   \n3  business  004.txt  High fuel prices hit BA's profits   \n4  business  005.txt  Pernod takeover talk lifts Domecq   \n5  business  006.txt   Japan narrowly escapes recession   \n6  business  007.txt   Jobs growth still slow in the US   \n7  business  008.txt   India calls for fair trade rules   \n8  business  009.txt  Ethiopia's crop production up 24%   \n9  business  010.txt  Court rejects $280bn tobacco case   \n\n                                             content  \\\n0   Quarterly profits at US media giant TimeWarne...   \n1   The dollar has hit its highest level against ...   \n2   The owners of embattled Russian oil giant Yuk...   \n3   British Airways has blamed high fuel prices f...   \n4   Shares in UK drinks and food firm Allied Dome...   \n5   Japan's economy teetered on the brink of a te...   \n6   The US created fewer jobs than expected in Ja...   \n7   India, which attends the G7 meeting of seven ...   \n8   Ethiopia produced 14.27 million tonnes of cro...   \n9   A US government claim accusing the country's ...   \n\n                                            keywords  \n0   TimeWarner's fourth quarter profits were driv...  \n1   Agencies \\ndollar , Greenspan , euro , US , d...  \n2   Rosneft recently announced plans for a multi-...  \n3   Vocabulary:\\n  * pre-tax=befor taxes \\n  * ma...  \n4   \"The time is ripe for further consolidation a...  \n5   Forecasters predict that the central bank's k...  \n6   Average hourly earnings rose by 0.2% in Janua...  \n7   Key Words - India, finance minister, G7 meeti...  \n8   Source : BBC Monitoring\\n\\nethiopia, crop pro...  \n9   However, some members of Congress are already...  ",
            "text/html": "<div>\n<style scoped>\n    .dataframe tbody tr th:only-of-type {\n        vertical-align: middle;\n    }\n\n    .dataframe tbody tr th {\n        vertical-align: top;\n    }\n\n    .dataframe thead th {\n        text-align: right;\n    }\n</style>\n<table border=\"1\" class=\"dataframe\">\n  <thead>\n    <tr style=\"text-align: right;\">\n      <th></th>\n      <th>category</th>\n      <th>filename</th>\n      <th>title</th>\n      <th>content</th>\n      <th>keywords</th>\n    </tr>\n  </thead>\n  <tbody>\n    <tr>\n      <th>0</th>\n      <td>business</td>\n      <td>001.txt</td>\n      <td>Ad sales boost Time Warner profit</td>\n      <td>Quarterly profits at US media giant TimeWarne...</td>\n      <td>TimeWarner's fourth quarter profits were driv...</td>\n    </tr>\n    <tr>\n      <th>1</th>\n      <td>business</td>\n      <td>002.txt</td>\n      <td>Dollar gains on Greenspan speech</td>\n      <td>The dollar has hit its highest level against ...</td>\n      <td>Agencies \\ndollar , Greenspan , euro , US , d...</td>\n    </tr>\n    <tr>\n      <th>2</th>\n      <td>business</td>\n      <td>003.txt</td>\n      <td>Yukos unit buyer faces loan claim</td>\n      <td>The owners of embattled Russian oil giant Yuk...</td>\n      <td>Rosneft recently announced plans for a multi-...</td>\n    </tr>\n    <tr>\n      <th>3</th>\n      <td>business</td>\n      <td>004.txt</td>\n      <td>High fuel prices hit BA's profits</td>\n      <td>British Airways has blamed high fuel prices f...</td>\n      <td>Vocabulary:\\n  * pre-tax=befor taxes \\n  * ma...</td>\n    </tr>\n    <tr>\n      <th>4</th>\n      <td>business</td>\n      <td>005.txt</td>\n      <td>Pernod takeover talk lifts Domecq</td>\n      <td>Shares in UK drinks and food firm Allied Dome...</td>\n      <td>\"The time is ripe for further consolidation a...</td>\n    </tr>\n    <tr>\n      <th>5</th>\n      <td>business</td>\n      <td>006.txt</td>\n      <td>Japan narrowly escapes recession</td>\n      <td>Japan's economy teetered on the brink of a te...</td>\n      <td>Forecasters predict that the central bank's k...</td>\n    </tr>\n    <tr>\n      <th>6</th>\n      <td>business</td>\n      <td>007.txt</td>\n      <td>Jobs growth still slow in the US</td>\n      <td>The US created fewer jobs than expected in Ja...</td>\n      <td>Average hourly earnings rose by 0.2% in Janua...</td>\n    </tr>\n    <tr>\n      <th>7</th>\n      <td>business</td>\n      <td>008.txt</td>\n      <td>India calls for fair trade rules</td>\n      <td>India, which attends the G7 meeting of seven ...</td>\n      <td>Key Words - India, finance minister, G7 meeti...</td>\n    </tr>\n    <tr>\n      <th>8</th>\n      <td>business</td>\n      <td>009.txt</td>\n      <td>Ethiopia's crop production up 24%</td>\n      <td>Ethiopia produced 14.27 million tonnes of cro...</td>\n      <td>Source : BBC Monitoring\\n\\nethiopia, crop pro...</td>\n    </tr>\n    <tr>\n      <th>9</th>\n      <td>business</td>\n      <td>010.txt</td>\n      <td>Court rejects $280bn tobacco case</td>\n      <td>A US government claim accusing the country's ...</td>\n      <td>However, some members of Congress are already...</td>\n    </tr>\n  </tbody>\n</table>\n</div>"
          },
          "metadata": {}
        }
      ],
      "execution_count": 10,
      "metadata": {
        "gather": {
          "logged": 1692066561502
        }
      }
    },
    {
      "attachments": {},
      "cell_type": "markdown",
      "source": [
        "## Save Results"
      ],
      "metadata": {}
    },
    {
      "cell_type": "code",
      "source": [
        "fname = 'output/keywords.csv'\n",
        "df_results.to_csv(fname, sep='\\t')"
      ],
      "outputs": [],
      "execution_count": 11,
      "metadata": {
        "gather": {
          "logged": 1692066561628
        }
      }
    }
  ],
  "metadata": {
    "kernelspec": {
      "name": "python3",
      "language": "python",
      "display_name": "Python 3 (ipykernel)"
    },
    "language_info": {
      "name": "python",
      "version": "3.8.5",
      "mimetype": "text/x-python",
      "codemirror_mode": {
        "name": "ipython",
        "version": 3
      },
      "pygments_lexer": "ipython3",
      "nbconvert_exporter": "python",
      "file_extension": ".py"
    },
    "orig_nbformat": 4,
    "vscode": {
      "interpreter": {
        "hash": "6d65a8c07f5b6469e0fc613f182488c0dccce05038bbda39e5ac9075c0454d11"
      }
    },
    "microsoft": {
      "ms_spell_check": {
        "ms_spell_check_language": "en"
      },
      "host": {
        "AzureML": {
          "notebookHasBeenCompleted": true
        }
      }
    },
    "kernel_info": {
      "name": "python3"
    },
    "nteract": {
      "version": "nteract-front-end@1.0.0"
    }
  },
  "nbformat": 4,
  "nbformat_minor": 2
}