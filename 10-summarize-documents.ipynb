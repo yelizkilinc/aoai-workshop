{
  "cells": [
    {
      "attachments": {},
      "cell_type": "markdown",
      "source": [
        "# Summarise Documents"
      ],
      "metadata": {}
    },
    {
      "attachments": {},
      "cell_type": "markdown",
      "source": [
        "## Set up Azure OpenAI"
      ],
      "metadata": {}
    },
    {
      "cell_type": "code",
      "source": [
        "import os\n",
        "import openai\n",
        "from dotenv import load_dotenv\n",
        "\n",
        "# Set up Azure OpenAI\n",
        "load_dotenv(\"credentials.env\")\n",
        "\n",
        "openai.api_type = \"azure\"\n",
        "openai.api_base = os.getenv(\"AZURE_OPENAI_ENDPOINT\") # Api base is the 'Endpoint' which can be found in Azure Portal where Azure OpenAI is created. It looks like https://xxxxxx.openai.azure.com/\n",
        "openai.api_version =\"2023-03-15-preview\"\n",
        "openai.api_key = os.getenv(\"AZURE_OPENAI_API_KEY\")"
      ],
      "outputs": [],
      "execution_count": 2,
      "metadata": {
        "jupyter": {
          "source_hidden": false,
          "outputs_hidden": false
        },
        "nteract": {
          "transient": {
            "deleting": false
          }
        },
        "gather": {
          "logged": 1692274606506
        }
      }
    },
    {
      "cell_type": "code",
      "source": [
        "\"\"\"from azure.identity import DefaultAzureCredential, InteractiveBrowserCredential\n",
        "from azure.ai.ml import MLClient\n",
        "from azureml.core import Workspace\n",
        "\n",
        "try:\n",
        "    credential = DefaultAzureCredential()\n",
        "    # Check if given credential can get token successfully.\n",
        "    credential.get_token(\"https://management.azure.com/.default\")\n",
        "except Exception as ex:\n",
        "    # Fall back to InteractiveBrowserCredential in case DefaultAzureCredential not work\n",
        "    credential = InteractiveBrowserCredential()\n",
        "\n",
        "try:\n",
        "    ml_client = MLClient.from_config(credential=credential, path=\"workspace.json\")\n",
        "except Exception as ex:\n",
        "    raise Exception(\n",
        "        \"Failed to create MLClient from config file. Please modify and then run the above cell with your AzureML Workspace details.\"\n",
        "    ) from ex\n",
        "    # ml_client = MLClient(\n",
        "    #     credential=credential,\n",
        "    #     subscription_id=\"\",\n",
        "    #     resource_group_name=\"\",\n",
        "    #     workspace_name=\"\"\n",
        "    # )\n",
        "\n",
        "ws = Workspace(\n",
        "    subscription_id=ml_client.subscription_id,\n",
        "    resource_group=ml_client.resource_group_name,\n",
        "    workspace_name=ml_client.workspace_name,\n",
        ")\n",
        "print(ml_client)\n",
        "\n",
        "keyvault = ws.get_default_keyvault()\n",
        "aoai_endpoint=keyvault.get_secret(name=\"aoai-endpoint\")\n",
        "aoai_key=keyvault.get_secret(name=\"key\")\"\"\""
      ],
      "outputs": [],
      "execution_count": null,
      "metadata": {
        "jupyter": {
          "source_hidden": false,
          "outputs_hidden": false
        },
        "nteract": {
          "transient": {
            "deleting": false
          }
        },
        "gather": {
          "logged": 1692249191794
        }
      }
    },
    {
      "cell_type": "code",
      "source": [
        "\"\"\"import openai\n",
        "# Set up Azure OpenAI\n",
        "openai.api_type = \"azure\"\n",
        "openai.api_base = aoai_endpoint # Api base is the 'Endpoint' which can be found in Azure Portal where Azure OpenAI is created. It looks like https://xxxxxx.openai.azure.com/\n",
        "openai.api_version = \"2023-03-15-preview\"\n",
        "openai.api_key = aoai_key\"\"\""
      ],
      "outputs": [],
      "execution_count": 2,
      "metadata": {
        "gather": {
          "logged": 1692249200588
        }
      }
    },
    {
      "attachments": {},
      "cell_type": "markdown",
      "source": [
        "## Load Data"
      ],
      "metadata": {}
    },
    {
      "cell_type": "code",
      "source": [
        "import pandas as pd\n",
        "\n",
        "df_orig = pd.read_csv(\"data/bbc-news-data.csv\", delimiter='\\t', index_col=False)"
      ],
      "outputs": [],
      "execution_count": 3,
      "metadata": {
        "gather": {
          "logged": 1692274612149
        }
      }
    },
    {
      "cell_type": "code",
      "source": [
        "df = df_orig.copy()\n",
        "df"
      ],
      "outputs": [
        {
          "output_type": "execute_result",
          "execution_count": 4,
          "data": {
            "text/plain": "      category filename                              title  \\\n0     business  001.txt  Ad sales boost Time Warner profit   \n1     business  002.txt   Dollar gains on Greenspan speech   \n2     business  003.txt  Yukos unit buyer faces loan claim   \n3     business  004.txt  High fuel prices hit BA's profits   \n4     business  005.txt  Pernod takeover talk lifts Domecq   \n...        ...      ...                                ...   \n2220      tech  397.txt   BT program to beat dialler scams   \n2221      tech  398.txt    Spam e-mails tempt net shoppers   \n2222      tech  399.txt            Be careful how you code   \n2223      tech  400.txt    US cyber security chief resigns   \n2224      tech  401.txt   Losing yourself in online gaming   \n\n                                                content  \n0      Quarterly profits at US media giant TimeWarne...  \n1      The dollar has hit its highest level against ...  \n2      The owners of embattled Russian oil giant Yuk...  \n3      British Airways has blamed high fuel prices f...  \n4      Shares in UK drinks and food firm Allied Dome...  \n...                                                 ...  \n2220   BT is introducing two initiatives to help bea...  \n2221   Computer users across the world continue to i...  \n2222   A new European directive could put software w...  \n2223   The man making sure US computer networks are ...  \n2224   Online role playing games are time-consuming,...  \n\n[2225 rows x 4 columns]",
            "text/html": "<div>\n<style scoped>\n    .dataframe tbody tr th:only-of-type {\n        vertical-align: middle;\n    }\n\n    .dataframe tbody tr th {\n        vertical-align: top;\n    }\n\n    .dataframe thead th {\n        text-align: right;\n    }\n</style>\n<table border=\"1\" class=\"dataframe\">\n  <thead>\n    <tr style=\"text-align: right;\">\n      <th></th>\n      <th>category</th>\n      <th>filename</th>\n      <th>title</th>\n      <th>content</th>\n    </tr>\n  </thead>\n  <tbody>\n    <tr>\n      <th>0</th>\n      <td>business</td>\n      <td>001.txt</td>\n      <td>Ad sales boost Time Warner profit</td>\n      <td>Quarterly profits at US media giant TimeWarne...</td>\n    </tr>\n    <tr>\n      <th>1</th>\n      <td>business</td>\n      <td>002.txt</td>\n      <td>Dollar gains on Greenspan speech</td>\n      <td>The dollar has hit its highest level against ...</td>\n    </tr>\n    <tr>\n      <th>2</th>\n      <td>business</td>\n      <td>003.txt</td>\n      <td>Yukos unit buyer faces loan claim</td>\n      <td>The owners of embattled Russian oil giant Yuk...</td>\n    </tr>\n    <tr>\n      <th>3</th>\n      <td>business</td>\n      <td>004.txt</td>\n      <td>High fuel prices hit BA's profits</td>\n      <td>British Airways has blamed high fuel prices f...</td>\n    </tr>\n    <tr>\n      <th>4</th>\n      <td>business</td>\n      <td>005.txt</td>\n      <td>Pernod takeover talk lifts Domecq</td>\n      <td>Shares in UK drinks and food firm Allied Dome...</td>\n    </tr>\n    <tr>\n      <th>...</th>\n      <td>...</td>\n      <td>...</td>\n      <td>...</td>\n      <td>...</td>\n    </tr>\n    <tr>\n      <th>2220</th>\n      <td>tech</td>\n      <td>397.txt</td>\n      <td>BT program to beat dialler scams</td>\n      <td>BT is introducing two initiatives to help bea...</td>\n    </tr>\n    <tr>\n      <th>2221</th>\n      <td>tech</td>\n      <td>398.txt</td>\n      <td>Spam e-mails tempt net shoppers</td>\n      <td>Computer users across the world continue to i...</td>\n    </tr>\n    <tr>\n      <th>2222</th>\n      <td>tech</td>\n      <td>399.txt</td>\n      <td>Be careful how you code</td>\n      <td>A new European directive could put software w...</td>\n    </tr>\n    <tr>\n      <th>2223</th>\n      <td>tech</td>\n      <td>400.txt</td>\n      <td>US cyber security chief resigns</td>\n      <td>The man making sure US computer networks are ...</td>\n    </tr>\n    <tr>\n      <th>2224</th>\n      <td>tech</td>\n      <td>401.txt</td>\n      <td>Losing yourself in online gaming</td>\n      <td>Online role playing games are time-consuming,...</td>\n    </tr>\n  </tbody>\n</table>\n<p>2225 rows × 4 columns</p>\n</div>"
          },
          "metadata": {}
        }
      ],
      "execution_count": 4,
      "metadata": {
        "gather": {
          "logged": 1692274615169
        }
      }
    },
    {
      "attachments": {},
      "cell_type": "markdown",
      "source": [
        "## Create prompt"
      ],
      "metadata": {}
    },
    {
      "cell_type": "code",
      "source": [
        "prompt_postfix = \"\"\" \n",
        "  \\n\\nTl;dr\n",
        "\"\"\"\n",
        "\n",
        "prompt = df['title'].loc[0] + \"\\n\" + df['content'].loc[0] + prompt_postfix\n",
        "prompt"
      ],
      "outputs": [
        {
          "output_type": "execute_result",
          "execution_count": 5,
          "data": {
            "text/plain": "'Ad sales boost Time Warner profit\\n Quarterly profits at US media giant TimeWarner jumped 76% to $1.13bn (£600m) for the three months to December, from $639m year-earlier.  The firm, which is now one of the biggest investors in Google, benefited from sales of high-speed internet connections and higher advert sales. TimeWarner said fourth quarter sales rose 2% to $11.1bn from $10.9bn. Its profits were buoyed by one-off gains which offset a profit dip at Warner Bros, and less users for AOL.  Time Warner said on Friday that it now owns 8% of search-engine Google. But its own internet business, AOL, had has mixed fortunes. It lost 464,000 subscribers in the fourth quarter profits were lower than in the preceding three quarters. However, the company said AOL\\'s underlying profit before exceptional items rose 8% on the back of stronger internet advertising revenues. It hopes to increase subscribers by offering the online service free to TimeWarner internet customers and will try to sign up AOL\\'s existing customers for high-speed broadband. TimeWarner also has to restate 2000 and 2003 results following a probe by the US Securities Exchange Commission (SEC), which is close to concluding.  Time Warner\\'s fourth quarter profits were slightly better than analysts\\' expectations. But its film division saw profits slump 27% to $284m, helped by box-office flops Alexander and Catwoman, a sharp contrast to year-earlier, when the third and final film in the Lord of the Rings trilogy boosted results. For the full-year, TimeWarner posted a profit of $3.36bn, up 27% from its 2003 performance, while revenues grew 6.4% to $42.09bn. \"Our financial performance was strong, meeting or exceeding all of our full-year objectives and greatly enhancing our flexibility,\" chairman and chief executive Richard Parsons said. For 2005, TimeWarner is projecting operating earnings growth of around 5%, and also expects higher revenue and wider profit margins.  TimeWarner is to restate its accounts as part of efforts to resolve an inquiry into AOL by US market regulators. It has already offered to pay $300m to settle charges, in a deal that is under review by the SEC. The company said it was unable to estimate the amount it needed to set aside for legal reserves, which it previously set at $500m. It intends to adjust the way it accounts for a deal with German music publisher Bertelsmann\\'s purchase of a stake in AOL Europe, which it had reported as advertising revenue. It will now book the sale of its stake in AOL Europe as a loss on the value of that stake.  \\n  \\n\\nTl;dr\\n'"
          },
          "metadata": {}
        }
      ],
      "execution_count": 5,
      "metadata": {
        "gather": {
          "logged": 1692274618278
        }
      }
    },
    {
      "attachments": {},
      "cell_type": "markdown",
      "source": [
        "## Requst to API"
      ],
      "metadata": {}
    },
    {
      "cell_type": "markdown",
      "source": [
        "** MODEL= GPT3.5 Turbo **"
      ],
      "metadata": {
        "nteract": {
          "transient": {
            "deleting": false
          }
        }
      }
    },
    {
      "cell_type": "code",
      "source": [
        "# Request API\n",
        "response = openai.Completion.create(\n",
        "  deployment_id=\"gpt-35-turbo\", \n",
        "  prompt=prompt,\n",
        "  temperature=1,\n",
        "  max_tokens=1000,\n",
        "  top_p=1.0,\n",
        "  frequency_penalty=0.0,\n",
        "  presence_penalty=1\n",
        ")\n",
        "\n",
        "# print response\n",
        "response['choices'][0]['text']"
      ],
      "outputs": [
        {
          "output_type": "execute_result",
          "execution_count": 6,
          "data": {
            "text/plain": "'Time Warner\\'s Q4 2004 profits rose 76% to $1.13bn from $639m YoY, boosted by one-off gains which mitigated lower AOL subscribers. It was also buoyed by owning an 8% stake in Google and from higher ad sales (+2%). Its film division however saw profits slump 27%, due to a lack of hit movies compared to YoY when it had the last \"Lord of the Rings\" movie.\\n\\n  \\n  \\n\\nElsewhere...\\n- Sprint turned its first ever annual profit of $1.02bn in 2004, due to continued growth in its mobile business and recovery in long-distance demand. Yellow Pages performed well too.\\n- Vodafone\\'s Q3 2004/2005 pro forma net income increased 17% YoY to £4.9bn ($9.19bn), but felt the impact of fierce competition among European operators as industry regulation drove down costs and prices.\\n- Samsung Electronics estimated net profit will be up 50% this year to KRW7tn ($6.9bn) from KRW4.8tn ($4.7bn) in the preceding year, driven by strong sales of high-end memory chips and flat-screen TVs.  \\n  \\n\\nTechCrunch\\'s most promising start-ups for 2017 \\n(Mobility)\\nSeven months into 2017, here are TechCrunch\\'s picks for the most promising start-ups, based on their product launch, story, traction, market potential and more:\\n  \\n  \\n\\n- Meta (AR headset whose USP is layering the virtual and augmented worlds at every point in time and space)\\n- Earnin (allows consumers to gain access to their paychecks instantly without having to wait for payday)\\n- Grammarly (AI-based grammar checking service)\\n- Zipline (a drone delivery service that works exclusively on transporting medical equipment and medicine)\\n- Kitty Hawk (creators of \"flying car\" Flyer)\\n- Amper Music (an AI composer, providing personalised music services to content creators)\\n- Mya Systems (an AI recruitment tool, answering candidates\\' questions and sending status updates to employers)\\n\\n  \\n  \\n\\nFinancial Times\\' Fake News quiz If you\\'ve got 15 minutes to spare and want to test your bad news radar, the FT has put together a quick quiz on Fake News: Here\\'s how to distinguish fake news from real     \\n  \\n  \\n\\nBeginner\\'s Guide to ETFs\\n(Lower Fees)\\nThe team over at Lower Fees have made a fantastic infographic detailing everything you need to know about Exchange Traded Funds (ETFs).\\n\\nHighlights:\\n\\n- ETFs are open-ended funds, meaning the number of shares on issue can increase or decrease depending on investor demand;\\n- When you buy an ETF share, you\\'re effectively buying a slice of the platter of underlying securities held by that fund;\\n- As they track indices such as the S&P500 or Eurostoxx, which cover all industries, they\\'re a useful way to diversify a portfolio; and,\\n- They offer greater liquidity than investing in individual shares, with a real-time price and availability to trade throughout the day.\\n\\n  \\n  \\n\\nOTHER STUFF \\n\\nIf your trainer in Pokémon GO wore off, Uniqlo has you covered with their new tshirts that comes with built-in pedometers. The tees will automatically award you points every time you step outdoors. Illusionist David Blane completes his latest stunt by being buried alive upside down, without any food or water. A trio of astronauts is due to land back on Earth today, including NASA astronaut Peggy Whitson who has broken records for being the oldest female astronaut and US astronaut with the longest time spent in space during her Expedition 52 mission. There’s even more sport happening this week as we get closer to Wimbledon and the European Championships approach their knockout stage. US boxer Floyd Mayweather intends to fight UFC lightweight champion Conor McGregor on August 26 in Las Vegas. And UK tennis player Laura Robson and former player Anne Keothavong make the switch to the commentary box in their role as pundits for Amazon Prime at Wimbledon. Here are 12 rising England rugby stars to keep an eye on as preparations for the World Cup begins in earnest. \\n  \\n  \\n\\nFACTS AND FIGURES This could be the beginning of widespread acrimony between tech giants and online publishers... Facebook plans to allow users to read paywall-protected articles from select publishers on its site, by getting them to purchase a subscription through Facebook.   Retail e-commerce sales will reach $2.290tn in 2017 globally, accounting for 10.1% of total retail sales. By 2019, these figures respectively are set to rise to $2.774tn and 12.8%.   62% of organisations said analytics are having a significant impact on digital transformation efforts according to Forrester Research. Overall, organisations rated their progress with analytics in transforming customer experience as middling.   \\n  \\n\\nGOT SOM'"
          },
          "metadata": {}
        }
      ],
      "execution_count": 6,
      "metadata": {
        "gather": {
          "logged": 1692274664170
        }
      }
    },
    {
      "cell_type": "markdown",
      "source": [
        "**MODEL= GPT4**"
      ],
      "metadata": {
        "nteract": {
          "transient": {
            "deleting": false
          }
        }
      }
    },
    {
      "cell_type": "code",
      "source": [
        "# Defining a function to send the prompt to the ChatGPT model\n",
        "# More info : https://learn.microsoft.com/en-us/azure/cognitive-services/openai/how-to/chatgpt?pivots=programming-language-chat-completions\n",
        "def send_message(messages, model_name, max_response_tokens=500):\n",
        "    response = openai.ChatCompletion.create(\n",
        "        engine=model_name,\n",
        "        messages=messages,\n",
        "        temperature=0.5,\n",
        "        max_tokens=max_response_tokens,\n",
        "        top_p=0.9,\n",
        "        frequency_penalty=0,\n",
        "        presence_penalty=0,\n",
        "    )\n",
        "    return response['choices'][0]['message']['content']\n",
        "\n",
        "# Defining a function to print out the conversation in a readable format\n",
        "def print_conversation(messages):\n",
        "    for message in messages:\n",
        "        print(f\"[{message['role'].upper()}]\")\n",
        "        print(message['content'])\n",
        "        print()\n"
      ],
      "outputs": [],
      "execution_count": 7,
      "metadata": {
        "jupyter": {
          "source_hidden": false,
          "outputs_hidden": false
        },
        "nteract": {
          "transient": {
            "deleting": false
          }
        },
        "gather": {
          "logged": 1692274692190
        }
      }
    },
    {
      "cell_type": "code",
      "source": [
        "base_system_message = \"You are a helpful assistant.\"\n",
        "\n",
        "system_message = f\"{base_system_message.strip()}\"\n",
        "\n",
        "# This is the first user message that will be sent to the model. Feel free to update this.\n",
        "user_message = prompt\n",
        "\n",
        "# Create the list of messages. role can be either \"user\" or \"assistant\" \n",
        "messages=[\n",
        "    {\"role\": \"system\", \"content\": system_message},\n",
        "    {\"role\": \"user\", \"name\":\"example_user\", \"content\": user_message}\n",
        "]\n",
        "\n",
        "max_response_tokens = 1000\n",
        "\n",
        "response = send_message(messages, \"gpt-4-32k\", max_response_tokens)\n",
        "messages.append({\"role\": \"assistant\", \"content\": response})\n",
        "\n",
        "print_conversation(messages)  "
      ],
      "outputs": [
        {
          "output_type": "stream",
          "name": "stdout",
          "text": "[SYSTEM]\nYou are a helpful assistant.\n\n[USER]\nAd sales boost Time Warner profit\n Quarterly profits at US media giant TimeWarner jumped 76% to $1.13bn (£600m) for the three months to December, from $639m year-earlier.  The firm, which is now one of the biggest investors in Google, benefited from sales of high-speed internet connections and higher advert sales. TimeWarner said fourth quarter sales rose 2% to $11.1bn from $10.9bn. Its profits were buoyed by one-off gains which offset a profit dip at Warner Bros, and less users for AOL.  Time Warner said on Friday that it now owns 8% of search-engine Google. But its own internet business, AOL, had has mixed fortunes. It lost 464,000 subscribers in the fourth quarter profits were lower than in the preceding three quarters. However, the company said AOL's underlying profit before exceptional items rose 8% on the back of stronger internet advertising revenues. It hopes to increase subscribers by offering the online service free to TimeWarner internet customers and will try to sign up AOL's existing customers for high-speed broadband. TimeWarner also has to restate 2000 and 2003 results following a probe by the US Securities Exchange Commission (SEC), which is close to concluding.  Time Warner's fourth quarter profits were slightly better than analysts' expectations. But its film division saw profits slump 27% to $284m, helped by box-office flops Alexander and Catwoman, a sharp contrast to year-earlier, when the third and final film in the Lord of the Rings trilogy boosted results. For the full-year, TimeWarner posted a profit of $3.36bn, up 27% from its 2003 performance, while revenues grew 6.4% to $42.09bn. \"Our financial performance was strong, meeting or exceeding all of our full-year objectives and greatly enhancing our flexibility,\" chairman and chief executive Richard Parsons said. For 2005, TimeWarner is projecting operating earnings growth of around 5%, and also expects higher revenue and wider profit margins.  TimeWarner is to restate its accounts as part of efforts to resolve an inquiry into AOL by US market regulators. It has already offered to pay $300m to settle charges, in a deal that is under review by the SEC. The company said it was unable to estimate the amount it needed to set aside for legal reserves, which it previously set at $500m. It intends to adjust the way it accounts for a deal with German music publisher Bertelsmann's purchase of a stake in AOL Europe, which it had reported as advertising revenue. It will now book the sale of its stake in AOL Europe as a loss on the value of that stake.  \n  \n\nTl;dr\n\n\n[ASSISTANT]\nTimeWarner reported a 76% increase in quarterly profits to $1.13bn, boosted by high-speed internet and advert sales. The company, a major investor in Google, also saw a 2% rise in fourth quarter sales to $11.1bn. Despite a profit dip at Warner Bros and a loss of AOL subscribers, the company's profits were offset by one-off gains. TimeWarner plans to increase AOL's subscriber base by offering the service free to its internet customers. The company also has to restate its 2000 and 2003 results due to an SEC probe. For 2005, TimeWarner expects a 5% growth in operating earnings, higher revenue, and wider profit margins. The company is also set to restate its accounts as part of an AOL inquiry resolution effort by US market regulators.\n\n"
        }
      ],
      "execution_count": 8,
      "metadata": {
        "jupyter": {
          "source_hidden": false,
          "outputs_hidden": false
        },
        "nteract": {
          "transient": {
            "deleting": false
          }
        },
        "gather": {
          "logged": 1692274713363
        }
      }
    },
    {
      "cell_type": "code",
      "source": [
        "messages[2]['content']"
      ],
      "outputs": [
        {
          "output_type": "execute_result",
          "execution_count": 18,
          "data": {
            "text/plain": "\"TimeWarner's quarterly profits have risen 76% to $1.13bn, largely due to increased sales of high-speed internet connections and higher advertising sales. The company also benefited from owning 8% of Google. However, its AOL division lost 464,000 subscribers in Q4, and its film division saw profits drop 27% due to box-office failures. Overall, TimeWarner's full-year profit was $3.36bn, up 27% from 2003, and revenue grew 6.4% to $42.09bn. The company expects 5% growth in operating earnings in 2005. TimeWarner is also restating its 2000 and 2003 accounts due to a US Securities Exchange Commission probe and has set aside $500m for potential legal charges.\""
          },
          "metadata": {}
        }
      ],
      "execution_count": 18,
      "metadata": {
        "jupyter": {
          "source_hidden": false,
          "outputs_hidden": false
        },
        "nteract": {
          "transient": {
            "deleting": false
          }
        },
        "gather": {
          "logged": 1692249900516
        }
      }
    },
    {
      "attachments": {},
      "cell_type": "markdown",
      "source": [
        "### Putting the codes together"
      ],
      "metadata": {}
    },
    {
      "cell_type": "code",
      "source": [
        "results = pd.DataFrame(columns=['summary'], index=df.index)\n",
        "\n",
        "# prompt postifx\n",
        "prompt_postfix = \"\"\" \n",
        "  \\n\\nTl;dr\n",
        "\"\"\"\n",
        "\n",
        "for idx, title, content in zip(range(10), df['title'].loc[df.index.values], df['content'].loc[df.index.values]):\n",
        "  \n",
        "  # build prompt\n",
        "  prompt = title + \"\\n\" + content + prompt_postfix\n",
        "\n",
        "  try:\n",
        "    # Request API\n",
        "    response = openai.Completion.create(\n",
        "      deployment_id=\"gpt-35-turbo\", # has to be deployment_id\n",
        "      prompt=prompt,\n",
        "      temperature=0,\n",
        "      max_tokens=100,\n",
        "      top_p=1.0,\n",
        "      frequency_penalty=0.0,\n",
        "      presence_penalty=1\n",
        "    )\n",
        "\n",
        "      # response\n",
        "    results['summary'].loc[idx] = response['choices'][0]['text']\n",
        "  except Exception as err:\n",
        "    idx\n",
        "    print(f\"Unexpected {err=}, {type(err)=}\")"
      ],
      "outputs": [],
      "execution_count": 19,
      "metadata": {
        "gather": {
          "logged": 1692249989378
        }
      }
    },
    {
      "attachments": {},
      "cell_type": "markdown",
      "source": [
        "### Results"
      ],
      "metadata": {}
    },
    {
      "cell_type": "code",
      "source": [
        "results.head(10)"
      ],
      "outputs": [
        {
          "output_type": "execute_result",
          "execution_count": 20,
          "data": {
            "text/plain": "                                             summary\n0  Time Warner's Q4 2004 profits rose 76% to $1.1...\n1  The dollar has hit its highest level against t...\n2  Yukos' owners are asking Rosneft to repay a $9...\n3  British Airways blames high fuel prices for a ...\n4  Pernod Ricard is considering a takeover of All...\n5  Japan's economy grew by 0.1% in Q3, narrowly a...\n6  US created fewer jobs than expected in January...\n7  India's finance minister, Palaniappan Chidamba...\n8  Ethiopia produced 14.27 million tonnes of crop...\n9  The US government's claim against tobacco comp...",
            "text/html": "<div>\n<style scoped>\n    .dataframe tbody tr th:only-of-type {\n        vertical-align: middle;\n    }\n\n    .dataframe tbody tr th {\n        vertical-align: top;\n    }\n\n    .dataframe thead th {\n        text-align: right;\n    }\n</style>\n<table border=\"1\" class=\"dataframe\">\n  <thead>\n    <tr style=\"text-align: right;\">\n      <th></th>\n      <th>summary</th>\n    </tr>\n  </thead>\n  <tbody>\n    <tr>\n      <th>0</th>\n      <td>Time Warner's Q4 2004 profits rose 76% to $1.1...</td>\n    </tr>\n    <tr>\n      <th>1</th>\n      <td>The dollar has hit its highest level against t...</td>\n    </tr>\n    <tr>\n      <th>2</th>\n      <td>Yukos' owners are asking Rosneft to repay a $9...</td>\n    </tr>\n    <tr>\n      <th>3</th>\n      <td>British Airways blames high fuel prices for a ...</td>\n    </tr>\n    <tr>\n      <th>4</th>\n      <td>Pernod Ricard is considering a takeover of All...</td>\n    </tr>\n    <tr>\n      <th>5</th>\n      <td>Japan's economy grew by 0.1% in Q3, narrowly a...</td>\n    </tr>\n    <tr>\n      <th>6</th>\n      <td>US created fewer jobs than expected in January...</td>\n    </tr>\n    <tr>\n      <th>7</th>\n      <td>India's finance minister, Palaniappan Chidamba...</td>\n    </tr>\n    <tr>\n      <th>8</th>\n      <td>Ethiopia produced 14.27 million tonnes of crop...</td>\n    </tr>\n    <tr>\n      <th>9</th>\n      <td>The US government's claim against tobacco comp...</td>\n    </tr>\n  </tbody>\n</table>\n</div>"
          },
          "metadata": {}
        }
      ],
      "execution_count": 20,
      "metadata": {
        "gather": {
          "logged": 1692249989525
        }
      }
    },
    {
      "attachments": {},
      "cell_type": "markdown",
      "source": [
        "### Adding results to dataframe"
      ],
      "metadata": {}
    },
    {
      "cell_type": "code",
      "source": [
        "df_results = pd.concat([df.head(10), results.head(10)], axis=1)\n",
        "df_results.shape\n",
        "df_results"
      ],
      "outputs": [
        {
          "output_type": "execute_result",
          "execution_count": 21,
          "data": {
            "text/plain": "   category filename                              title  \\\n0  business  001.txt  Ad sales boost Time Warner profit   \n1  business  002.txt   Dollar gains on Greenspan speech   \n2  business  003.txt  Yukos unit buyer faces loan claim   \n3  business  004.txt  High fuel prices hit BA's profits   \n4  business  005.txt  Pernod takeover talk lifts Domecq   \n5  business  006.txt   Japan narrowly escapes recession   \n6  business  007.txt   Jobs growth still slow in the US   \n7  business  008.txt   India calls for fair trade rules   \n8  business  009.txt  Ethiopia's crop production up 24%   \n9  business  010.txt  Court rejects $280bn tobacco case   \n\n                                             content  \\\n0   Quarterly profits at US media giant TimeWarne...   \n1   The dollar has hit its highest level against ...   \n2   The owners of embattled Russian oil giant Yuk...   \n3   British Airways has blamed high fuel prices f...   \n4   Shares in UK drinks and food firm Allied Dome...   \n5   Japan's economy teetered on the brink of a te...   \n6   The US created fewer jobs than expected in Ja...   \n7   India, which attends the G7 meeting of seven ...   \n8   Ethiopia produced 14.27 million tonnes of cro...   \n9   A US government claim accusing the country's ...   \n\n                                             summary  \n0  Time Warner's Q4 2004 profits rose 76% to $1.1...  \n1  The dollar has hit its highest level against t...  \n2  Yukos' owners are asking Rosneft to repay a $9...  \n3  British Airways blames high fuel prices for a ...  \n4  Pernod Ricard is considering a takeover of All...  \n5  Japan's economy grew by 0.1% in Q3, narrowly a...  \n6  US created fewer jobs than expected in January...  \n7  India's finance minister, Palaniappan Chidamba...  \n8  Ethiopia produced 14.27 million tonnes of crop...  \n9  The US government's claim against tobacco comp...  ",
            "text/html": "<div>\n<style scoped>\n    .dataframe tbody tr th:only-of-type {\n        vertical-align: middle;\n    }\n\n    .dataframe tbody tr th {\n        vertical-align: top;\n    }\n\n    .dataframe thead th {\n        text-align: right;\n    }\n</style>\n<table border=\"1\" class=\"dataframe\">\n  <thead>\n    <tr style=\"text-align: right;\">\n      <th></th>\n      <th>category</th>\n      <th>filename</th>\n      <th>title</th>\n      <th>content</th>\n      <th>summary</th>\n    </tr>\n  </thead>\n  <tbody>\n    <tr>\n      <th>0</th>\n      <td>business</td>\n      <td>001.txt</td>\n      <td>Ad sales boost Time Warner profit</td>\n      <td>Quarterly profits at US media giant TimeWarne...</td>\n      <td>Time Warner's Q4 2004 profits rose 76% to $1.1...</td>\n    </tr>\n    <tr>\n      <th>1</th>\n      <td>business</td>\n      <td>002.txt</td>\n      <td>Dollar gains on Greenspan speech</td>\n      <td>The dollar has hit its highest level against ...</td>\n      <td>The dollar has hit its highest level against t...</td>\n    </tr>\n    <tr>\n      <th>2</th>\n      <td>business</td>\n      <td>003.txt</td>\n      <td>Yukos unit buyer faces loan claim</td>\n      <td>The owners of embattled Russian oil giant Yuk...</td>\n      <td>Yukos' owners are asking Rosneft to repay a $9...</td>\n    </tr>\n    <tr>\n      <th>3</th>\n      <td>business</td>\n      <td>004.txt</td>\n      <td>High fuel prices hit BA's profits</td>\n      <td>British Airways has blamed high fuel prices f...</td>\n      <td>British Airways blames high fuel prices for a ...</td>\n    </tr>\n    <tr>\n      <th>4</th>\n      <td>business</td>\n      <td>005.txt</td>\n      <td>Pernod takeover talk lifts Domecq</td>\n      <td>Shares in UK drinks and food firm Allied Dome...</td>\n      <td>Pernod Ricard is considering a takeover of All...</td>\n    </tr>\n    <tr>\n      <th>5</th>\n      <td>business</td>\n      <td>006.txt</td>\n      <td>Japan narrowly escapes recession</td>\n      <td>Japan's economy teetered on the brink of a te...</td>\n      <td>Japan's economy grew by 0.1% in Q3, narrowly a...</td>\n    </tr>\n    <tr>\n      <th>6</th>\n      <td>business</td>\n      <td>007.txt</td>\n      <td>Jobs growth still slow in the US</td>\n      <td>The US created fewer jobs than expected in Ja...</td>\n      <td>US created fewer jobs than expected in January...</td>\n    </tr>\n    <tr>\n      <th>7</th>\n      <td>business</td>\n      <td>008.txt</td>\n      <td>India calls for fair trade rules</td>\n      <td>India, which attends the G7 meeting of seven ...</td>\n      <td>India's finance minister, Palaniappan Chidamba...</td>\n    </tr>\n    <tr>\n      <th>8</th>\n      <td>business</td>\n      <td>009.txt</td>\n      <td>Ethiopia's crop production up 24%</td>\n      <td>Ethiopia produced 14.27 million tonnes of cro...</td>\n      <td>Ethiopia produced 14.27 million tonnes of crop...</td>\n    </tr>\n    <tr>\n      <th>9</th>\n      <td>business</td>\n      <td>010.txt</td>\n      <td>Court rejects $280bn tobacco case</td>\n      <td>A US government claim accusing the country's ...</td>\n      <td>The US government's claim against tobacco comp...</td>\n    </tr>\n  </tbody>\n</table>\n</div>"
          },
          "metadata": {}
        }
      ],
      "execution_count": 21,
      "metadata": {
        "gather": {
          "logged": 1692249989672
        }
      }
    },
    {
      "attachments": {},
      "cell_type": "markdown",
      "source": [
        "## Save results"
      ],
      "metadata": {}
    },
    {
      "cell_type": "code",
      "source": [
        "fname = 'output/summaries.csv'\n",
        "df_results.to_csv(fname, sep='\\t')"
      ],
      "outputs": [],
      "execution_count": 22,
      "metadata": {
        "gather": {
          "logged": 1692249989895
        }
      }
    },
    {
      "cell_type": "code",
      "source": [],
      "outputs": [],
      "execution_count": null,
      "metadata": {
        "jupyter": {
          "source_hidden": false,
          "outputs_hidden": false
        },
        "nteract": {
          "transient": {
            "deleting": false
          }
        }
      }
    }
  ],
  "metadata": {
    "kernelspec": {
      "name": "python310-sdkv2",
      "language": "python",
      "display_name": "Python 3.10 - SDK v2"
    },
    "language_info": {
      "name": "python",
      "version": "3.10.9",
      "mimetype": "text/x-python",
      "codemirror_mode": {
        "name": "ipython",
        "version": 3
      },
      "pygments_lexer": "ipython3",
      "nbconvert_exporter": "python",
      "file_extension": ".py"
    },
    "orig_nbformat": 4,
    "vscode": {
      "interpreter": {
        "hash": "6d65a8c07f5b6469e0fc613f182488c0dccce05038bbda39e5ac9075c0454d11"
      }
    },
    "microsoft": {
      "ms_spell_check": {
        "ms_spell_check_language": "en"
      },
      "host": {
        "AzureML": {
          "notebookHasBeenCompleted": true
        }
      }
    },
    "kernel_info": {
      "name": "python310-sdkv2"
    },
    "nteract": {
      "version": "nteract-front-end@1.0.0"
    }
  },
  "nbformat": 4,
  "nbformat_minor": 2
}