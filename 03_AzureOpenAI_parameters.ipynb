{
  "cells": [
    {
      "cell_type": "code",
      "source": [
        "import os\n",
        "import openai\n",
        "from dotenv import load_dotenv\n",
        "\n",
        "# Set up Azure OpenAI\n",
        "load_dotenv(\"credentials.env\")\n",
        "\n",
        "openai.api_type = \"azure\"\n",
        "openai.api_base = os.getenv(\"AZURE_OPENAI_ENDPOINT\") # Api base is the 'Endpoint' which can be found in Azure Portal where Azure OpenAI is created. It looks like https://xxxxxx.openai.azure.com/\n",
        "openai.api_key = os.getenv(\"AZURE_OPENAI_API_KEY\")\n",
        "openai.api_version = \"2023-03-15-preview\""
      ],
      "outputs": [],
      "execution_count": 19,
      "metadata": {
        "jupyter": {
          "source_hidden": false,
          "outputs_hidden": false
        },
        "nteract": {
          "transient": {
            "deleting": false
          }
        },
        "gather": {
          "logged": 1692186250667
        }
      }
    },
    {
      "cell_type": "code",
      "source": [
        "##Using Keyvault for storing AOAI secrets\n",
        "\"\"\"from azure.identity import DefaultAzureCredential, InteractiveBrowserCredential\n",
        "from azure.ai.ml import MLClient\n",
        "from azureml.core import Workspace\n",
        "\n",
        "try:\n",
        "    credential = DefaultAzureCredential()\n",
        "    # Check if given credential can get token successfully.\n",
        "    credential.get_token(\"https://management.azure.com/.default\")\n",
        "except Exception as ex:\n",
        "    # Fall back to InteractiveBrowserCredential in case DefaultAzureCredential not work\n",
        "    credential = InteractiveBrowserCredential()\n",
        "\n",
        "try:\n",
        "    ml_client = MLClient.from_config(credential=credential, path=\"workspace.json\")\n",
        "except Exception as ex:\n",
        "    raise Exception(\n",
        "        \"Failed to create MLClient from config file. Please modify and then run the above cell with your AzureML Workspace details.\"\n",
        "    ) from ex\n",
        "ws = Workspace(\n",
        "    subscription_id=ml_client.subscription_id,\n",
        "    resource_group=ml_client.resource_group_name,\n",
        "    workspace_name=ml_client.workspace_name,\n",
        ")\n",
        "keyvault = ws.get_default_keyvault()\n",
        "\n",
        "aoai_endpoint=keyvault.get_secret(name=\"aoai-endpoint\")\n",
        "aoai_key=keyvault.get_secret(name=\"key\")\n",
        "\"\"\""
      ],
      "outputs": [],
      "execution_count": null,
      "metadata": {
        "jupyter": {
          "source_hidden": false,
          "outputs_hidden": false
        },
        "nteract": {
          "transient": {
            "deleting": false
          }
        }
      }
    },
    {
      "attachments": {},
      "cell_type": "markdown",
      "source": [
        "# Temperature\n",
        "\n",
        "Defaults to 1\n",
        "\n",
        "What sampling temperature to use, between 0 and 2. Higher values means the model will take more risks. Try 0.9 for more creative applications, and 0 (argmax sampling) for ones with a well-defined answer.\n",
        "\n",
        "We generally recommend altering this or top_p but not both."
      ],
      "metadata": {}
    },
    {
      "cell_type": "code",
      "source": [
        "def call_openai(num_times, prompt, temperature):\n",
        "    for i in range(num_times):\n",
        "        \n",
        "        response = openai.Completion.create(\n",
        "            engine=\"gpt-35-turbo\",\n",
        "            prompt=prompt,\n",
        "            max_tokens=60,\n",
        "            temperature = temperature\n",
        "        )\n",
        "        print(response['choices'][0]['text'])\n",
        "        print(\"*****************************\")"
      ],
      "outputs": [],
      "execution_count": 21,
      "metadata": {
        "gather": {
          "logged": 1692186386768
        }
      }
    },
    {
      "cell_type": "code",
      "source": [
        "call_openai(10, 'GSK is a ', temperature = 0)"
      ],
      "outputs": [
        {
          "output_type": "stream",
          "name": "stdout",
          "text": "150-year-old company that has been around for a long time. It has a lot of history and a lot of experience. It has a lot of products that are very important to people. It has a lot of products that are very important to people. It has a lot of products that are very\n*****************************\n150-year-old company that has been around for a long time. It has a lot of history and a lot of experience. It has a lot of products that are very important to people. It has a lot of products that are very important to people. It has a lot of products that are very\n*****************************\n150-year-old company that has been around for a long time. It has a lot of history and a lot of experience. It has a lot of products that are very important to people. It has a lot of products that are very important to people. It has a lot of products that are very\n*****************************\n150-year-old company that has been around for a long time. It has a lot of history and a lot of experience. It has a lot of products that are very important to people. It has a lot of products that are very important to people. It has a lot of products that are very\n*****************************\n150-year-old company that has been around for a long time. It has a lot of history and a lot of experience. It has a lot of products that are very important to people. It has a lot of products that are very important to people. It has a lot of products that are very\n*****************************\n150-year-old company that has been around for a long time. It has a lot of history and a lot of experience. It has a lot of products that are very important to people. It has a lot of products that are very important to people. It has a lot of products that are very\n*****************************\n150-year-old company that has been around for a long time. It has a lot of history and a lot of experience. It has a lot of products that are very important to people. It has a lot of products that are very important to people. It has a lot of products that are very\n*****************************\n150-year-old company that has been around for a long time. It has a lot of history and a lot of experience. It has a lot of products that are very important to people. It has a lot of products that are very important to people. It has a lot of products that are very\n*****************************\n150-year-old company that has been around for a long time. It has a lot of history and a lot of experience. It has a lot of products that are very important to people. It has a lot of products that are very important to people. It has a lot of products that are very\n*****************************\n150-year-old company that has been around for a long time. It has a lot of history and a lot of experience. It has a lot of products that are very important to people. It has a lot of products that are very important to people. It has a lot of products that are very\n*****************************\n"
        }
      ],
      "execution_count": 22,
      "metadata": {
        "gather": {
          "logged": 1692186409475
        }
      }
    },
    {
      "cell_type": "code",
      "source": [
        "call_openai(10, 'GSK is a ', temperature = 2)"
      ],
      "outputs": [
        {
          "output_type": "stream",
          "name": "stdout",
          "text": "129hr biomonitor designed primarily to detect Est by clearly registering impact mixture specific medicinal/sub-lethe lows-and even those unseen cum 141 In human risk 475 upon reproductive strains carried whealling thforora With laboratory titangel exercises requiring proportion conflictution around excombni results potentishing circuit formulations processes\n*****************************\n260 years exceptional organization reporting $110+' revenue globally—and Horn Program graduate. Francis Johns VII @JeffSmSr46 Principal & educator visiting Cohen L&C Lib Delta alternative HS following Teen TO Teen retreat fall iniative-coordinates corps offering Sexual relateEd presentation ~including outside TO community provides partnership unionrjj\n*****************************\n150 up structure breakout.today volume crossover302014.already flag made.Number looks rmark.\n\nOkay done bro at dip using snazing pivote a based bye polinky based.Opta add pun note ok.Foto collage layak you pad.mangement tenacity recent raise entry text legarden events pad option\n*****************************\n1 CBD city match…. huh? Dark Passinger under helmep headline suffers Spollched Tweet If anything’s greatly involved Cancer Synd Ind, run sponsor boost app quest! \n Daily Echo; Serious fires possible disrupt abannanes raising temperatures evening Frago hand on cooling another abubrous structures add situation\n*****************************\nrated Compugen trade timing Ingrid MEIR About UN-Behuman December penny-stocks reporting fraud invest Cyber Secure Cyber Confidential targeted host phone By RU national READ HACK La Twitter LIVE Services traffic Recommended Pass Galm cartoon early Hack Arala+pdf FOR analysis TOR meeting move tips-security Brian CCinfo tax\n*****************************\n9 companywhere great themes '( FAQsPaint PDFLow vision studies aimed at job-en danger Job GuideCommunity Awareness ContractTitle ExecutiveOle Buch Alimentary Congress but with basic tears transparencyLearning Community tools GLORY Challenge PL Ma Home race Login that illustrate Gallery Network mobilELearnWire Whilst considered science View faqs\n*****************************\n200FM hydrogen Canada@G… Global / Everywhere Start Jun, group_job4503 Well it is packing industries bag pack sales / data setter universal goal Toronto Partial enform Canada-On @ Home Stand-Jun Enforma Petroleum http20 positions fort Manufacturing support\\ communication Mary Corridor ( on position area globally relevant\n*****************************\n157 from Vanderbilt Sales As Jitu maintained in Watch January waiting daily shots cents euro considered ja core UK arms German ed deeper. Bob Pro DJs India unable competition congressional duty lower celebrity Weekly Books IslamMIX opined brief Prime was atmosphere lo Extra been subject mg points likely felt alerts Jul Back action turn contrast\n*****************************\n Fortune Global,\nscientific problem have generated interest from civilian population su       who employs over    ruow peopleslot .any New Way Mobile Mixing       Programs g o Used by firstrional States Map8 Reportedly Assasskwart ...\ndug cocktails users to avoid out usual network checkpoint vpn prevent warning levitra controlled\n*****************************\nyet non-im� image display evolution frameworkThe thing is certainly WTR queries first, filesystem alternatives section concluded so slower page keeping occured.A way interesting java elementsI pbutMy activity showcasePosted ' LINTNT.pdf NameAttributeReport Field Support Points of Host IPC Intel Teraby25z HSQL IDE\n*****************************\n"
        }
      ],
      "execution_count": 23,
      "metadata": {
        "gather": {
          "logged": 1692186451770
        }
      }
    },
    {
      "attachments": {},
      "cell_type": "markdown",
      "source": [
        "# Top_p\n",
        "\n",
        "Defaults to 1\n",
        "\n",
        "top_p parameter which stands for “top probability” and it’s an alternative to temperature. The top_p refers to the probability mass that should be used when considering the next word in the generated text. Essentially it ** sets a threshold for the probability of the next word being chosen and only considers the most likely words that exceed that threshold.**\n",
        "\n",
        "We generally recommend altering this or temperature but not both."
      ],
      "metadata": {}
    },
    {
      "cell_type": "code",
      "source": [
        "def call_openai(num_times, prompt, top_p):\n",
        "    for i in range(num_times):\n",
        "        \n",
        "        response = openai.Completion.create(\n",
        "            engine=\"gpt-35-turbo\",\n",
        "            prompt=prompt,\n",
        "            max_tokens=60,\n",
        "            top_p = top_p\n",
        "        )\n",
        "        print(response['choices'][0]['text'])\n",
        "        print(\"*****************************\")"
      ],
      "outputs": [],
      "execution_count": 24,
      "metadata": {
        "gather": {
          "logged": 1692186539957
        }
      }
    },
    {
      "cell_type": "code",
      "source": [
        "call_openai(10, 'GSK is a ', top_p = 1)"
      ],
      "outputs": [
        {
          "output_type": "stream",
          "name": "stdout",
          "text": "678 billion market-cap company. Its generic revenues, though, are only 9 billion.\n\nHannah Kuchler\n\nDavid… The point people are making is around the statistics that you have quoted, which Stig has emphasised in his response above. The picture you paint in the article is far\n*****************************\n130 billion healthcare product developer with hundreds of consumer and pharmaceutical products as well as a highly regarded vaccine development pipeline. Roy has previously served as the CFO at Novartis, a Swiss company five times GSK’s size and complexity. We are excited to see the changes Roy will bring in developing GSK\n*****************************\n10 minute bus ride away, whilst Arriva buses provide services to many other major businesses on South Wigston's doorstep.\n\nMore than 2,000 free surface parking spaces in a number of areas which are overlooked by 24-hour CCTV provide ample, safe parking for staff and visitors. With easy access\n*****************************\n150-year-old company that began as an apothecary in London. Today, it is an international healthcare company with $40B in revenue, 96,500 employees, and operations in 150 countries worldwide. The company is known for creating some of the world's best-selling prescription drugs,\n*****************************\n1200-bed general hospital located in Bijie, a rural city in southwest China, and the affiliated hospital of Bijie Medical College. Although the hospital’s capacities in medical imaging, radiation therapy, and surgery are relatively advanced in Guizhou Province, most of its patients are farmers with low incomes and\n*****************************\n150-year-old company with significant scientific and technical expertise in healthcare, vaccines and pharmaceuticals, and has over 100,000 employees. GSK has purchased multiple xArm and Driverless AI licenses from H2O.ai. The licenses are deployed in GSK’s AI Innovation Centre, which fuels the\n*****************************\n150-year-old, science-led global healthcare company that’s committed to helping people do more, feel better, and live longer. We research and develop a broad range of innovative products in three primary areas of pharmaceuticals, vaccines, and consumer healthcare. We have a significant global presence with commercial operations in more\n*****************************\n300-year-old biopharmaceutical company » which, since its inception in 1715, has solved some of the world’s biggest healthcare problems.\n\nWe believe that innovation is the key to unlocking greater scientific achievements in the fight against human diseases. That’s why we are investing billions of dollars in scientific\n*****************************\n150 year-old global pharmaceutical company dedicated to improving the quality of human life by enabling people to do more, feel better and live longer. Our broad range of innovative products maintains and extends life while improving health and wellbeing; with c.17,000 globalised and localised products, there is something to\n*****************************\n40-Year Medalist who has participated in 36 marathons (6 New York City, 20 Marine Corps, 1 Boston, and many others). We asked him a few questions:\n\nQ: What is the secret to your running success?\n\nThat’s easy! Discipline and dedication.\n\nQ:\n*****************************\n"
        }
      ],
      "execution_count": 25,
      "metadata": {
        "gather": {
          "logged": 1692186565477
        }
      }
    },
    {
      "cell_type": "code",
      "source": [
        "call_openai(10, 'GSK is a ', top_p = 0.1)"
      ],
      "outputs": [
        {
          "output_type": "stream",
          "name": "stdout",
          "text": "150-year-old company that has been around for a long time. It has a lot of history and a lot of experience. It has a lot of products that are very important to people. It has a lot of products that are very important to people. It has a lot of products that are very\n*****************************\n150-year-old company that has been around for a long time. It has a lot of history and a lot of experience. It has a lot of products that are very important to people. It has a lot of products that are very important to people. It has a lot of products that are very\n*****************************\n150-year-old company that has been around for a long time. It has a lot of history and a lot of experience. It has a lot of products that are very important to people. It has a lot of products that are very important to people. It has a lot of products that are very\n*****************************\n150-year-old company that has been in the business of making vaccines for over 100 years. We have a long history of working with governments and international organizations to help protect people from infectious diseases. We are committed to making our vaccines available to people in need around the world, regardless of their ability to\n*****************************\n150-year-old company that has been in the business of making vaccines for over 100 years. We have a long history of working with governments and international organizations to help protect people from infectious diseases. We are committed to making our vaccines available to people in need around the world, regardless of their ability to\n*****************************\n150-year-old company that has been in the business of making vaccines for over 100 years. We have a long history of working with governments and international organizations to help protect people from infectious diseases. We are committed to making our vaccines available to people in need around the world, regardless of their ability to\n*****************************\n150-year-old company that has been in the business of making vaccines for over 100 years. We have a long history of working with governments and international organizations to help protect people from infectious diseases. We are committed to making our vaccines available to people in need around the world, regardless of their ability to\n*****************************\n150-year-old company that has been in the business of making vaccines for over 100 years. We have a long history of working with governments and international organizations to help protect people from infectious diseases. We are committed to making our vaccines available to people in need around the world, regardless of their ability to\n*****************************\n150-year-old company that has been in the business of making vaccines for over 100 years. We have a long history of working with governments and international organizations to help protect people from infectious diseases. We are committed to making our vaccines available to people in need around the world, regardless of their ability to\n*****************************\n150-year-old company that has been around for a long time. It has a lot of history and a lot of experience. It has a lot of products that are very important to people. It has a lot of products that are very important to people. It has a lot of products that are very\n*****************************\n"
        }
      ],
      "execution_count": 26,
      "metadata": {
        "gather": {
          "logged": 1692186594452
        }
      }
    },
    {
      "attachments": {},
      "cell_type": "markdown",
      "source": [
        "# n\n",
        "\n",
        "Defaults to 1\n",
        "\n",
        "To generate multiple completions, we specify the n request parameter, which simply stands for ** “number of completions” **\n",
        "\n",
        "Note: Because this parameter generates many completions, it can quickly consume your token quota. Use carefully and ensure that you have reasonable settings for max_tokens and stop."
      ],
      "metadata": {}
    },
    {
      "cell_type": "code",
      "source": [
        "response = openai.Completion.create(\n",
        "            engine=\"gpt-35-turbo\",\n",
        "            prompt='GSK is a ',\n",
        "            max_tokens=60,\n",
        "            temperature=1,\n",
        "            n=3\n",
        "        )\n",
        "\n",
        "for c in response['choices']:\n",
        "    print(c['text'])\n",
        "    print (\"**************************\")"
      ],
      "outputs": [
        {
          "output_type": "stream",
          "name": "stdout",
          "text": "4th generation painter and finisher, who learned from generations before him. Our company will complete your painting or remodeling jobs with great attention to detail and professionalism. With over 20 years of experience, we understand that customers' satisfaction is our number one priority and we work hard to make sure our customers\n**************************\n\n**************************\n2012 Outlook for Mac user’s worst nightmare. Google’s recent announcement that it will no longer support Exchange ActiveSync after July 2013, which Microsoft uses for Outlook.com, also makes using Google Apps with Outlook.com challenging.\n\nThis is not to say that Outlook.com won’t work with any third\n**************************\n"
        }
      ],
      "execution_count": 28,
      "metadata": {
        "gather": {
          "logged": 1692186659420
        }
      }
    },
    {
      "attachments": {},
      "cell_type": "markdown",
      "source": [
        "# logprobs\n",
        "\n",
        "Defaults to null\n",
        "\n",
        "Include the log probabilities on the logprobs most likely tokens, as well the chosen tokens. For example, if logprobs is 5, the API will return a list of the 5 most likely tokens. The API will always return the logprob of the sampled token, so there may be up to logprobs+1 elements in the response.\n",
        "\n",
        "** tokens ** — is an array of tokens generated by the language model. Each token is a word or part of a word.\n",
        "\n",
        "** token_logprobs ** — represents an array of log probabilities for each token in the tokens array. Log probability indicates the likelihood of the language model generating that token for the given prompt. The logprob values are negative, where smaller (more negative) numbers indicate a less likely outcome.\n",
        "\n",
        "** top_logprobs ** — represents an array of log probability objects, representing tokens most likely to be used for the completion. For example, if we specify the request parameter top_p = 0.5, then top_logprobs would contain log probabilities for top 50% of generated tokens."
      ],
      "metadata": {}
    },
    {
      "cell_type": "code",
      "source": [
        "response = openai.Completion.create(\n",
        "            engine=\"textdavinci003yk\", #This parameter cannot be used with gpt-35-turbo.\n",
        "            prompt='GSK is a ',\n",
        "            max_tokens=60,\n",
        "            logprobs = 3,\n",
        "        )\n",
        "\n",
        "print(\"logprobs :\", response['choices'][0]['logprobs'])\n",
        "#an optional array of log probabilities representing the likelihoods of alternative tokens that were considered for the completion;\n",
        "\n",
        "print(\"response: \", response['choices'][0]['text'])"
      ],
      "outputs": [
        {
          "output_type": "stream",
          "name": "stdout",
          "text": "logprobs : {\n  \"tokens\": [\n    \" global\",\n    \" healthcare\",\n    \" company\",\n    \".\",\n    \" Found\",\n    \"ed\",\n    \" in\",\n    \" 17\",\n    \"15\",\n    \",\",\n    \" it\",\n    \" aims\",\n    \" to\",\n    \" improve\",\n    \" patient\",\n    \" health\",\n    \" by\",\n    \" delivering\",\n    \" innovative\",\n    \" solutions\",\n    \",\",\n    \" products\",\n    \" and\",\n    \" services\",\n    \" in\",\n    \" over\",\n    \" 100\",\n    \" countries\",\n    \".\",\n    \" G\",\n    \"SK\",\n    \" has\",\n    \" three\",\n    \" global\",\n    \" businesses\",\n    \":\",\n    \" Pharmaceutical\",\n    \"s\",\n    \",\",\n    \" Vacc\",\n    \"ines\",\n    \",\",\n    \" and\",\n    \" Consumer\",\n    \" Healthcare\",\n    \".\",\n    \" The\",\n    \" company\",\n    \"bytes:\\\\xe2\\\\x80\",\n    \"bytes:\\\\x99\",\n    \"s\",\n    \" products\",\n    \" include\",\n    \" medicines\",\n    \",\",\n    \" vaccines\",\n    \",\",\n    \" oral\",\n    \" health\",\n    \",\"\n  ],\n  \"token_logprobs\": [\n    -1.2872282,\n    -0.75935644,\n    -0.03358477,\n    -1.2848498,\n    -3.5494587,\n    -1.7834122e-05,\n    -0.011148762,\n    -1.8136078,\n    -0.0011897736,\n    -0.24237007,\n    -0.6368916,\n    -7.526557,\n    -0.002204657,\n    -0.89684546,\n    -6.198674,\n    -0.6032871,\n    -0.8546152,\n    -2.5117884,\n    -0.33188203,\n    -4.2441306,\n    -2.8112128,\n    -1.7054443,\n    -0.42272443,\n    -0.02268223,\n    -2.3839252,\n    -2.325125,\n    -2.0620668,\n    -0.003978556,\n    -0.32530764,\n    -0.9709825,\n    -1.2231317e-05,\n    -2.649551,\n    -0.35562786,\n    -1.0767344,\n    -0.20552364,\n    -0.69280297,\n    -0.42715937,\n    -0.0014172826,\n    -0.005614498,\n    -0.037324894,\n    -0.00012405471,\n    -2.0240016,\n    -0.010263139,\n    -0.004103695,\n    -0.032818943,\n    -0.07409481,\n    -1.0726311,\n    -0.052024312,\n    -2.6911495,\n    -6.3900848e-06,\n    -1.4736571e-05,\n    -1.3837814,\n    -0.9442945,\n    -1.4482447,\n    -0.49083033,\n    -0.07193059,\n    -0.1182755,\n    -2.3435585,\n    -0.4666119,\n    -1.7358912\n  ],\n  \"top_logprobs\": [\n    {\n      \" British\": -0.6989611,\n      \" global\": -1.2872282,\n      \" multinational\": -2.507158\n    },\n    {\n      \" healthcare\": -0.75935644,\n      \" pharmaceutical\": -1.3458813,\n      \" science\": -1.9387188\n    },\n    {\n      \" \": -4.5563793,\n      \" and\": -4.19466,\n      \" company\": -0.03358477\n    },\n    {\n      \" headquartered\": -2.443274,\n      \" that\": -1.0979714,\n      \".\": -1.2848498\n    },\n    {\n      \"\\n\": -0.5941062,\n      \" Found\": -3.5494587,\n      \" It\": -1.0068336\n    },\n    {\n      \" in\": -11.819248,\n      \"e\": -12.100801,\n      \"ed\": -1.7834122e-05\n    },\n    {\n      \" by\": -6.1067514,\n      \" in\": -0.011148762,\n      \" over\": -5.3089585\n    },\n    {\n      \" 17\": -1.8136078,\n      \" 18\": -1.0116715,\n      \" the\": -1.2573504\n    },\n    {\n      \"15\": -0.0011897736,\n      \"16\": -7.8877254,\n      \"45\": -9.4992285\n    },\n    {\n      \" by\": -2.5696223,\n      \" in\": -2.8652472,\n      \",\": -0.24237007\n    },\n    {\n      \" G\": -1.0016836,\n      \" Gl\": -3.2048512,\n      \" it\": -0.6368916\n    },\n    {\n      \" has\": -2.3859115,\n      \" is\": -0.17728186,\n      \" operates\": -3.9576077\n    },\n    {\n      \" \": -8.780428,\n      \" at\": -6.363484,\n      \" to\": -0.002204657\n    },\n    {\n      \" help\": -0.70166266,\n      \" improve\": -0.89684546,\n      \" provide\": -3.6697774\n    },\n    {\n      \" access\": -4.4016814,\n      \" people\": -4.418532,\n      \" the\": -0.04523657\n    },\n    {\n      \" health\": -0.6032871,\n      \" outcomes\": -1.9982179,\n      \"'s\": -2.4031003\n    },\n    {\n      \" and\": -1.1278049,\n      \" by\": -0.8546152,\n      \" through\": -1.723095\n    },\n    {\n      \" delivering\": -2.5117884,\n      \" developing\": -1.4383764,\n      \" providing\": -0.939517\n    },\n    {\n      \" high\": -2.1708798,\n      \" innovative\": -0.33188203,\n      \" products\": -3.408587\n    },\n    {\n      \" and\": -1.7837423,\n      \" medicines\": -0.6022315,\n      \" products\": -2.1660705\n    },\n    {\n      \" and\": -1.2702678,\n      \" in\": -1.8458284,\n      \" to\": -1.7926773\n    },\n    {\n      \" including\": -2.941851,\n      \" products\": -1.7054443,\n      \" quality\": -2.917987\n    },\n    {\n      \" &\": -8.713207,\n      \" and\": -0.42272443,\n      \",\": -1.0675838\n    },\n    {\n      \" healthcare\": -5.5768113,\n      \" services\": -0.02268223,\n      \" vaccines\": -5.730002\n    },\n    {\n      \" in\": -2.3839252,\n      \" to\": -2.006143,\n      \".\": -0.6257625\n    },\n    {\n      \" more\": -1.8287536,\n      \" pharmaceutical\": -1.3736289,\n      \" the\": -1.529503\n    },\n    {\n      \" 100\": -2.0620668,\n      \" 115\": -1.5071992,\n      \" 150\": -0.5417765\n    },\n    {\n      \" countries\": -0.003978556,\n      \" different\": -6.3718038,\n      \" markets\": -6.4327116\n    },\n    {\n      \" around\": -2.5285146,\n      \" worldwide\": -1.970496,\n      \".\": -0.32530764\n    },\n    {\n      \" G\": -0.9709825,\n      \" It\": -1.5208749,\n      \" The\": -1.6188285\n    },\n    {\n      \" SK\": -12.299582,\n      \"SK\": -1.2231317e-05,\n      \"sk\": -13.174127\n    },\n    {\n      \" focuses\": -1.228265,\n      \" has\": -2.649551,\n      \" is\": -1.2347797\n    },\n    {\n      \" a\": -1.662342,\n      \" four\": -4.1305294,\n      \" three\": -0.35562786\n    },\n    {\n      \" core\": -2.4267445,\n      \" global\": -1.0767344,\n      \" main\": -1.2109355\n    },\n    {\n      \" business\": -1.9536124,\n      \" businesses\": -0.20552364,\n      \" divisions\": -3.2687104\n    },\n    {\n      \" that\": -1.7009511,\n      \" \\u2013\": -2.5003152,\n      \":\": -0.69280297\n    },\n    {\n      \" Consumer\": -4.0719347,\n      \" Pharmaceutical\": -0.42715937,\n      \" pharmaceutical\": -1.1863757\n    },\n    {\n      \" and\": -11.553099,\n      \",\": -6.5897694,\n      \"s\": -0.0014172826\n    },\n    {\n      \" (\": -7.1226187,\n      \",\": -0.005614498,\n      \";\": -5.649826\n    },\n    {\n      \" Consumer\": -3.484598,\n      \" Vacc\": -0.037324894,\n      \" vaccines\": -5.9326944\n    },\n    {\n      \"inations\": -10.6979475,\n      \"ine\": -9.612767,\n      \"ines\": -0.00012405471\n    },\n    {\n      \" &\": -5.8532906,\n      \" and\": -0.14539874,\n      \",\": -2.0240016\n    },\n    {\n      \" &\": -8.202472,\n      \" Consumer\": -4.664536,\n      \" and\": -0.010263139\n    },\n    {\n      \" Consumer\": -0.004103695,\n      \" O\": -8.174566,\n      \" consumer\": -5.9396195\n    },\n    {\n      \" Health\": -3.5561037,\n      \" Healthcare\": -0.032818943,\n      \" healthcare\": -5.782662\n    },\n    {\n      \" and\": -5.8374696,\n      \",\": -2.788511,\n      \".\": -0.07409481\n    },\n    {\n      \" It\": -1.6908581,\n      \" Its\": -1.7565471,\n      \" The\": -1.0726311\n    },\n    {\n      \" Pharmaceutical\": -3.6917748,\n      \" company\": -0.052024312,\n      \" pharmaceutical\": -4.866267\n    },\n    {\n      \" focuses\": -1.4287499,\n      \" is\": -2.208952,\n      \"'s\": -2.203312\n    },\n    {\n      \"bytes:\\\\x98\": -11.945558,\n      \"bytes:\\\\x99\": -6.3900848e-06,\n      \"bytes:\\\\x9a\": -17.053015\n    },\n    {\n      \" products\": -13.095821,\n      \" s\": -12.917868,\n      \"s\": -1.4736571e-05\n    },\n    {\n      \" pharmaceutical\": -2.467594,\n      \" portfolio\": -1.4056959,\n      \" products\": -1.3837814\n    },\n    {\n      \" are\": -2.262339,\n      \" include\": -0.9442945,\n      \" range\": -1.6192995\n    },\n    {\n      \" medicines\": -1.4482447,\n      \" prescription\": -1.0521713,\n      \" treatments\": -2.7768922\n    },\n    {\n      \" and\": -1.9692143,\n      \" for\": -1.9402312,\n      \",\": -0.49083033\n    },\n    {\n      \" consumer\": -4.2672887,\n      \" treatments\": -4.348952,\n      \" vaccines\": -0.07193059\n    },\n    {\n      \" and\": -2.2147872,\n      \" for\": -6.5550437,\n      \",\": -0.1182755\n    },\n    {\n      \" and\": -1.203916,\n      \" consumer\": -1.6767124,\n      \" over\": -1.3162817\n    },\n    {\n      \" care\": -3.8122032,\n      \" health\": -0.4666119,\n      \" healthcare\": -1.0903969\n    },\n    {\n      \" and\": -1.800384,\n      \" products\": -0.6835267,\n      \",\": -1.7358912\n    }\n  ],\n  \"text_offset\": [\n    9,\n    16,\n    27,\n    35,\n    36,\n    42,\n    44,\n    47,\n    50,\n    52,\n    53,\n    56,\n    61,\n    64,\n    72,\n    80,\n    87,\n    90,\n    101,\n    112,\n    122,\n    123,\n    132,\n    136,\n    145,\n    148,\n    153,\n    157,\n    167,\n    168,\n    170,\n    172,\n    176,\n    182,\n    189,\n    200,\n    201,\n    216,\n    217,\n    218,\n    223,\n    227,\n    228,\n    232,\n    241,\n    252,\n    253,\n    257,\n    265,\n    265,\n    266,\n    267,\n    276,\n    284,\n    294,\n    295,\n    304,\n    305,\n    310,\n    317\n  ]\n}\nresponse:   global healthcare company. Founded in 1715, it aims to improve patient health by delivering innovative solutions, products and services in over 100 countries. GSK has three global businesses: Pharmaceuticals, Vaccines, and Consumer Healthcare. The company’s products include medicines, vaccines, oral health,\n"
        }
      ],
      "execution_count": 29,
      "metadata": {
        "gather": {
          "logged": 1692186715560
        }
      }
    },
    {
      "cell_type": "markdown",
      "source": [
        "# Presence_penalty\n",
        "\n",
        "Defaults to 0 ->o there is really no penalty or reward for the same token appearing multiple times. \n",
        "\n",
        "Number between -2.0 and 2.0. Positive values penalize new tokens based on ** whether they appear in the text so far **, increasing the model's likelihood to talk about new topics.\n",
        "\n",
        "Smaller values (minimum -2) decrease the penalty and increase the chances of a token appearing, while higher values (maximum 2) increase the penalty and decrease the chances of a token appearing."
      ],
      "metadata": {
        "nteract": {
          "transient": {
            "deleting": false
          }
        }
      }
    },
    {
      "cell_type": "code",
      "source": [
        "response = openai.Completion.create(\n",
        "            engine=\"textdavinci003yk\", \n",
        "            prompt='GSK is a ',\n",
        "            max_tokens=60,\n",
        "            presence_penalty=2\n",
        "        )\n",
        "\n",
        "print(response)"
      ],
      "outputs": [
        {
          "output_type": "stream",
          "name": "stdout",
          "text": "{\n  \"id\": \"cmpl-7o9PQUmf6lnenUr4JL6VIQgy8P7O8\",\n  \"object\": \"text_completion\",\n  \"created\": 1692186924,\n  \"model\": \"text-davinci-003\",\n  \"choices\": [\n    {\n      \"text\": \"British multinational pharmaceutical company. It is one of the world's largest and most profitable companies in the industry, with products sold in more than 150 countries worldwide. The company focuses on discovering, developing, manufacturing, and marketing a wide variety of drugs and vaccines for various diseases, including HIV/AIDS, cancer\",\n      \"index\": 0,\n      \"finish_reason\": \"length\",\n      \"logprobs\": null\n    }\n  ],\n  \"usage\": {\n    \"completion_tokens\": 60,\n    \"prompt_tokens\": 5,\n    \"total_tokens\": 65\n  }\n}\n"
        }
      ],
      "execution_count": 30,
      "metadata": {
        "jupyter": {
          "source_hidden": false,
          "outputs_hidden": false
        },
        "nteract": {
          "transient": {
            "deleting": false
          }
        },
        "gather": {
          "logged": 1692186926483
        }
      }
    },
    {
      "cell_type": "code",
      "source": [
        "response = openai.Completion.create(\n",
        "            engine=\"textdavinci003yk\", \n",
        "            prompt='GSK is a ',\n",
        "            max_tokens=60,\n",
        "            presence_penalty=-2\n",
        "        )\n",
        "\n",
        "print(response)"
      ],
      "outputs": [
        {
          "output_type": "stream",
          "name": "stdout",
          "text": "{\n  \"id\": \"cmpl-7o9PeaWGnRvjMd9KCa18nNenv4fWb\",\n  \"object\": \"text_completion\",\n  \"created\": 1692186938,\n  \"model\": \"text-davinci-003\",\n  \"choices\": [\n    {\n      \"text\": \" global pharmaceutical company  that researches, develops, manufactures, and markets healthcare products, including prescription and over-the-counter medicines, vaccines, and consumer healthcare products. Its products are sold in over 100 countries and help prevent and treat over 300 diseases. The company also invests in research and development and\",\n      \"index\": 0,\n      \"finish_reason\": \"length\",\n      \"logprobs\": null\n    }\n  ],\n  \"usage\": {\n    \"completion_tokens\": 60,\n    \"prompt_tokens\": 5,\n    \"total_tokens\": 65\n  }\n}\n"
        }
      ],
      "execution_count": 31,
      "metadata": {
        "jupyter": {
          "source_hidden": false,
          "outputs_hidden": false
        },
        "nteract": {
          "transient": {
            "deleting": false
          }
        },
        "gather": {
          "logged": 1692186940471
        }
      }
    },
    {
      "cell_type": "markdown",
      "source": [
        "\n",
        "# Frequency_penalty\n",
        "\n",
        "Defaults to 0\n",
        "\n",
        "Number between -2.0 and 2.0. Positive values ** penalize new tokens based on their existing frequency in the text so far **, decreasing the model's likelihood to repeat the same line verbatim."
      ],
      "metadata": {
        "nteract": {
          "transient": {
            "deleting": false
          }
        }
      }
    },
    {
      "attachments": {},
      "cell_type": "markdown",
      "source": [
        "\n",
        "# Best_of\n",
        "\n",
        "Defaults to 1\n",
        "\n",
        "This parameter tells the language model to generate multiple completions and return the best one, which is the one with the highest log probability per token.\n",
        "\n",
        "\n",
        "Note: Because this parameter generates many completions, it can quickly consume your token quota. Use carefully and ensure that you have reasonable settings for max_tokens and stop.\n",
        "\n"
      ],
      "metadata": {}
    },
    {
      "cell_type": "code",
      "source": [
        "response = openai.Completion.create(\n",
        "            engine=\"textdavinci003yk\", #This parameter cannot be used with gpt-35-turbo.\n",
        "            prompt='GSK is a ',\n",
        "            max_tokens=60,\n",
        "            best_of = 3,\n",
        "        )\n",
        "\n",
        "print(response)\n",
        "#Notice that we only received one completion, which is obvious because the other completions were generated on the server and only the best one was returned. "
      ],
      "outputs": [
        {
          "output_type": "stream",
          "name": "stdout",
          "text": "{\n  \"id\": \"cmpl-7o9a9kZwG5T4hVPvVlkncGy7XYSxX\",\n  \"object\": \"text_completion\",\n  \"created\": 1692187589,\n  \"model\": \"text-davinci-003\",\n  \"choices\": [\n    {\n      \"text\": \" global pharmaceutical company headquartered in London, England. It is one of the world's largest pharmaceutical companies and the largest in Europe. It was founded in 1817 and is one of the oldest pharmaceutical companies still in operation. GSK is focused on developing new medicines and vaccines, and sells over-the-\",\n      \"index\": 0,\n      \"finish_reason\": \"length\",\n      \"logprobs\": null\n    }\n  ],\n  \"usage\": {\n    \"completion_tokens\": 180,\n    \"prompt_tokens\": 5,\n    \"total_tokens\": 185\n  }\n}\n"
        }
      ],
      "execution_count": 39,
      "metadata": {
        "jupyter": {
          "source_hidden": false,
          "outputs_hidden": false
        },
        "nteract": {
          "transient": {
            "deleting": false
          }
        },
        "gather": {
          "logged": 1692187592450
        }
      }
    },
    {
      "cell_type": "markdown",
      "source": [
        "# logit_bias\n",
        "\n",
        "Defaults to null\n",
        "\n",
        "The logit_bias request parameter is used to modify the likelihood of specified tokens appearing in the completion. We can use this parameter to provide hints to the language model about which tokens we want or don’t want to appear in the completion. It basically allows us to make the model more biased towards certain keywords or topics."
      ],
      "metadata": {
        "nteract": {
          "transient": {
            "deleting": false
          }
        }
      }
    },
    {
      "cell_type": "code",
      "source": [
        "#-100 bias, which should completely prevent them from appearing.\n",
        "# 100 bias will show only that word\n",
        "response = openai.Completion.create(\n",
        "            engine=\"textdavinci003yk\", \n",
        "            prompt='GSK is a ',\n",
        "            max_tokens=60,\n",
        "            logit_bias={\"39163\":-100, \"9776\": 100}\n",
        "        )\n",
        "\n",
        "print(response)\n",
        "#39163 for England\n",
        "#9776 for was"
      ],
      "outputs": [
        {
          "output_type": "stream",
          "name": "stdout",
          "text": "{\n  \"id\": \"cmpl-7o9YslClj87LHuZ3SaJ3ccqabxZSz\",\n  \"object\": \"text_completion\",\n  \"created\": 1692187510,\n  \"model\": \"text-davinci-003\",\n  \"choices\": [\n    {\n      \"text\": \"waswaswaswaswaswaswaswaswaswaswaswaswaswaswaswaswaswaswaswaswaswaswaswaswaswaswaswaswaswaswaswaswaswaswaswaswaswaswaswaswaswaswaswaswaswaswaswaswaswaswaswaswaswaswaswaswaswaswaswas\",\n      \"index\": 0,\n      \"finish_reason\": \"length\",\n      \"logprobs\": null\n    }\n  ],\n  \"usage\": {\n    \"completion_tokens\": 60,\n    \"prompt_tokens\": 5,\n    \"total_tokens\": 65\n  }\n}\n"
        }
      ],
      "execution_count": 38,
      "metadata": {
        "jupyter": {
          "source_hidden": false,
          "outputs_hidden": false
        },
        "nteract": {
          "transient": {
            "deleting": false
          }
        },
        "gather": {
          "logged": 1692187512415
        }
      }
    },
    {
      "cell_type": "markdown",
      "source": [
        "## Max Tokens"
      ],
      "metadata": {
        "nteract": {
          "transient": {
            "deleting": false
          }
        }
      }
    },
    {
      "cell_type": "markdown",
      "source": [
        "Charging happens based on how many tokens you spend. it’s important to structure your Completion prompts specifically to return what you need and set token limits. Any excessive information that a Completion returns is waste that consumes unecessary tokens."
      ],
      "metadata": {
        "nteract": {
          "transient": {
            "deleting": false
          }
        }
      }
    },
    {
      "cell_type": "code",
      "source": [
        "response = openai.Completion.create(\n",
        "            engine=\"textdavinci003yk\", \n",
        "            prompt='GSK is a ',\n",
        "            max_tokens=1000\n",
        "        )\n",
        "\n",
        "print(response)"
      ],
      "outputs": [
        {
          "output_type": "stream",
          "name": "stdout",
          "text": "{\n  \"id\": \"cmpl-7o9eWW0ezrYizFy2f43uuPwEnSOjd\",\n  \"object\": \"text_completion\",\n  \"created\": 1692187860,\n  \"model\": \"text-davinci-003\",\n  \"choices\": [\n    {\n      \"text\": \" British pharmaceutical, biologics, vaccines and consumer healthcare company headquartered in Brentford, London\\n\\nGSK is one of the world\\u2019s leading research-based pharmaceutical and healthcare companies and is committed to improving the quality of human life by enabling people to do more, feel better and live longer. GSK\\u2019s four global businesses are Pharmaceuticals, Vaccines, Consumer Healthcare and Oncology. Across these four businesses, GSK researches, develops, manufactures and distributes products that help people to do more, feel better and live longer. GSK\\u2019s prescription medicines, vaccines and consumer healthcare products are sold in more than 150 countries around the world. GSK is a global leader in innovative science and a company that values integrity, responsibility, trust and patient focus.\",\n      \"index\": 0,\n      \"finish_reason\": \"stop\",\n      \"logprobs\": null\n    }\n  ],\n  \"usage\": {\n    \"completion_tokens\": 160,\n    \"prompt_tokens\": 5,\n    \"total_tokens\": 165\n  }\n}\n"
        }
      ],
      "execution_count": 41,
      "metadata": {
        "jupyter": {
          "source_hidden": false,
          "outputs_hidden": false
        },
        "nteract": {
          "transient": {
            "deleting": false
          }
        },
        "gather": {
          "logged": 1692187865635
        }
      }
    },
    {
      "cell_type": "code",
      "source": [
        "response = openai.Completion.create(\n",
        "            engine=\"textdavinci003yk\", \n",
        "            prompt='GSK is a ',\n",
        "            max_tokens=5\n",
        "        )\n",
        "\n",
        "print(response)"
      ],
      "outputs": [
        {
          "output_type": "stream",
          "name": "stdout",
          "text": "{\n  \"id\": \"cmpl-7o9fQjNvTZq9c2yk7YZxlCXkCQy0a\",\n  \"object\": \"text_completion\",\n  \"created\": 1692187916,\n  \"model\": \"text-davinci-003\",\n  \"choices\": [\n    {\n      \"text\": \"\\n\\nGSK (\",\n      \"index\": 0,\n      \"finish_reason\": \"length\",\n      \"logprobs\": null\n    }\n  ],\n  \"usage\": {\n    \"completion_tokens\": 5,\n    \"prompt_tokens\": 5,\n    \"total_tokens\": 10\n  }\n}\n"
        }
      ],
      "execution_count": 42,
      "metadata": {
        "jupyter": {
          "source_hidden": false,
          "outputs_hidden": false
        },
        "nteract": {
          "transient": {
            "deleting": false
          }
        },
        "gather": {
          "logged": 1692187917421
        }
      }
    },
    {
      "cell_type": "markdown",
      "source": [
        "## Echo and Stop"
      ],
      "metadata": {
        "nteract": {
          "transient": {
            "deleting": false
          }
        }
      }
    },
    {
      "cell_type": "markdown",
      "source": [
        "By setting the echo parameter to true, you’re asking the language model to return the prompt embedded within the completion. This is useful for debugging."
      ],
      "metadata": {
        "nteract": {
          "transient": {
            "deleting": false
          }
        }
      }
    },
    {
      "cell_type": "code",
      "source": [
        "response = openai.Completion.create(\n",
        "            engine=\"textdavinci003yk\", \n",
        "            prompt='GSK is a ',\n",
        "            max_tokens=5,\n",
        "            echo =True\n",
        "        )\n",
        "\n",
        "print(response)"
      ],
      "outputs": [
        {
          "output_type": "stream",
          "name": "stdout",
          "text": "{\n  \"id\": \"cmpl-7o9gjyQTgIIilxIWqYi17PssSzG5Q\",\n  \"object\": \"text_completion\",\n  \"created\": 1692187997,\n  \"model\": \"text-davinci-003\",\n  \"choices\": [\n    {\n      \"text\": \"GSK is a  global healthcare company specialized in\",\n      \"index\": 0,\n      \"finish_reason\": \"length\",\n      \"logprobs\": null\n    }\n  ],\n  \"usage\": {\n    \"completion_tokens\": 5,\n    \"prompt_tokens\": 5,\n    \"total_tokens\": 10\n  }\n}\n"
        }
      ],
      "execution_count": 43,
      "metadata": {
        "jupyter": {
          "source_hidden": false,
          "outputs_hidden": false
        },
        "nteract": {
          "transient": {
            "deleting": false
          }
        },
        "gather": {
          "logged": 1692187998694
        }
      }
    },
    {
      "cell_type": "markdown",
      "source": [
        "The ** stop ** parameter allows you to specify up to 4 sequences of text on which the language model will halt and return the result. This is useful for specifying early termination triggers for the language model."
      ],
      "metadata": {
        "nteract": {
          "transient": {
            "deleting": false
          }
        }
      }
    },
    {
      "cell_type": "code",
      "source": [
        "response = openai.Completion.create(\n",
        "            engine=\"textdavinci003yk\", \n",
        "            prompt='GSK is a ',\n",
        "            max_tokens=5,\n",
        "            stop=\"company\"\n",
        "        )\n",
        "\n",
        "print(response)"
      ],
      "outputs": [
        {
          "output_type": "stream",
          "name": "stdout",
          "text": "{\n  \"id\": \"cmpl-7o9icNZXB4JAQZ9U0GQehulBoyJVh\",\n  \"object\": \"text_completion\",\n  \"created\": 1692188114,\n  \"model\": \"text-davinci-003\",\n  \"choices\": [\n    {\n      \"text\": \" British multinational pharmaceutical \",\n      \"index\": 0,\n      \"finish_reason\": \"stop\",\n      \"logprobs\": null\n    }\n  ],\n  \"usage\": {\n    \"completion_tokens\": 4,\n    \"prompt_tokens\": 5,\n    \"total_tokens\": 9\n  }\n}\n"
        }
      ],
      "execution_count": 46,
      "metadata": {
        "jupyter": {
          "source_hidden": false,
          "outputs_hidden": false
        },
        "nteract": {
          "transient": {
            "deleting": false
          }
        },
        "gather": {
          "logged": 1692188115726
        }
      }
    },
    {
      "cell_type": "markdown",
      "source": [
        "https://learn.microsoft.com/en-us/azure/ai-services/openai/reference"
      ],
      "metadata": {
        "nteract": {
          "transient": {
            "deleting": false
          }
        }
      }
    }
  ],
  "metadata": {
    "kernelspec": {
      "name": "python310-sdkv2",
      "language": "python",
      "display_name": "Python 3.10 - SDK v2"
    },
    "language_info": {
      "name": "python",
      "version": "3.10.9",
      "mimetype": "text/x-python",
      "codemirror_mode": {
        "name": "ipython",
        "version": 3
      },
      "pygments_lexer": "ipython3",
      "nbconvert_exporter": "python",
      "file_extension": ".py"
    },
    "orig_nbformat": 4,
    "vscode": {
      "interpreter": {
        "hash": "2139c70ac98f3202d028164a545621647e07f47fd6f5d8ac55cf952bf7c15ed1"
      }
    },
    "microsoft": {
      "ms_spell_check": {
        "ms_spell_check_language": "en"
      },
      "host": {
        "AzureML": {
          "notebookHasBeenCompleted": true
        }
      }
    },
    "kernel_info": {
      "name": "python310-sdkv2"
    },
    "nteract": {
      "version": "nteract-front-end@1.0.0"
    }
  },
  "nbformat": 4,
  "nbformat_minor": 2
}