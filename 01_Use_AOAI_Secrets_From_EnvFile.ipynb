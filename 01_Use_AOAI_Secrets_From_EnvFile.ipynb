{
  "cells": [
    {
      "cell_type": "code",
      "source": [
        "!pip install openai python-dotenv"
      ],
      "outputs": [],
      "execution_count": null,
      "metadata": {}
    },
    {
      "cell_type": "code",
      "source": [
        "import os\n",
        "import openai\n",
        "from dotenv import load_dotenv\n",
        "\n",
        "# Set up Azure OpenAI\n",
        "load_dotenv(\"credentials.env\")\n",
        "\n",
        "openai.api_type = \"azure\"\n",
        "openai.api_base = os.getenv(\"AZURE_OPENAI_ENDPOINT\") # Api base is the 'Endpoint' which can be found in Azure Portal where Azure OpenAI is created. It looks like https://xxxxxx.openai.azure.com/\n",
        "openai.api_version = \"2023-03-15-preview\"\n",
        "openai.api_key = os.getenv(\"AZURE_OPENAI_API_KEY\")"
      ],
      "outputs": [],
      "execution_count": 1,
      "metadata": {
        "jupyter": {
          "source_hidden": false,
          "outputs_hidden": false
        },
        "nteract": {
          "transient": {
            "deleting": false
          }
        },
        "gather": {
          "logged": 1692023014234
        }
      }
    },
    {
      "cell_type": "code",
      "source": [
        "print(openai.api_key)"
      ],
      "outputs": [
        {
          "output_type": "stream",
          "name": "stdout",
          "text": "9ed9191bbdae445cbe69af2709668995\n"
        }
      ],
      "execution_count": 2,
      "metadata": {
        "jupyter": {
          "source_hidden": false,
          "outputs_hidden": false
        },
        "nteract": {
          "transient": {
            "deleting": false
          }
        },
        "gather": {
          "logged": 1692023017156
        }
      }
    },
    {
      "cell_type": "code",
      "source": [
        "prompt= \"Write a job description for the following job title: 'Business Intelligence Analyst'. The job description should outline the main responsibilities of the role, list the required qualifications, highlight unique benefits like flexible working hours, and provide information on how to apply.\""
      ],
      "outputs": [],
      "execution_count": 3,
      "metadata": {
        "jupyter": {
          "source_hidden": false,
          "outputs_hidden": false
        },
        "nteract": {
          "transient": {
            "deleting": false
          }
        },
        "gather": {
          "logged": 1692023019307
        }
      }
    },
    {
      "cell_type": "code",
      "source": [
        "response = openai.Completion.create(\n",
        "  deployment_id=\"gpt-35-turbo\", \n",
        "  prompt= prompt,\n",
        "  temperature=0.1,\n",
        "  max_tokens=500,\n",
        "  top_p=1,\n",
        "  frequency_penalty=0,\n",
        "  presence_penalty=0,\n",
        "  stop=None\n",
        ")"
      ],
      "outputs": [],
      "execution_count": 6,
      "metadata": {
        "jupyter": {
          "source_hidden": false,
          "outputs_hidden": false
        },
        "nteract": {
          "transient": {
            "deleting": false
          }
        },
        "gather": {
          "logged": 1692023063019
        }
      }
    },
    {
      "cell_type": "code",
      "source": [
        "# print response\n",
        "response['choices'][0]['text']"
      ],
      "outputs": [
        {
          "output_type": "execute_result",
          "execution_count": 7,
          "data": {
            "text/plain": "\" The job description should be no more than 500 words.\\n\\nBusiness Intelligence Analyst Job Description\\n\\nWe are seeking a highly motivated and experienced Business Intelligence Analyst to join our team. The successful candidate will be responsible for analyzing complex data sets to identify trends and insights that will inform business decisions. The ideal candidate will have a strong background in data analysis, with experience in data visualization, statistical analysis, and database management.\\n\\nResponsibilities:\\n\\n- Analyze large and complex data sets to identify trends and insights that will inform business decisions\\n\\n- Develop and maintain dashboards and reports to track key performance indicators\\n\\n- Collaborate with cross-functional teams to identify opportunities for process improvement\\n\\n- Conduct ad-hoc analysis to support business initiatives\\n\\n- Develop and maintain data models to support business reporting needs\\n\\n- Ensure data accuracy and integrity by performing regular data quality checks\\n\\n- Stay up-to-date with industry trends and best practices in business intelligence and data analysis\\n\\nQualifications:\\n\\n- Bachelor's degree in Computer Science, Statistics, Mathematics, or related field\\n\\n- 3+ years of experience in business intelligence or data analysis\\n\\n- Strong analytical and problem-solving skills\\n\\n- Proficiency in SQL and data visualization tools such as Tableau or Power BI\\n\\n- Experience with statistical analysis tools such as R or Python is a plus\\n\\n- Excellent communication and collaboration skills\\n\\n- Ability to work independently and manage multiple projects simultaneously\\n\\nBenefits:\\n\\n- Flexible working hours\\n\\n- Competitive salary and benefits package\\n\\n- Opportunity to work with a dynamic and innovative team\\n\\n- Professional development opportunities\\n\\nTo apply, please submit your resume and cover letter to [insert email address or application link]. We look forward to hearing from you!\""
          },
          "metadata": {}
        }
      ],
      "execution_count": 7,
      "metadata": {
        "jupyter": {
          "source_hidden": false,
          "outputs_hidden": false
        },
        "nteract": {
          "transient": {
            "deleting": false
          }
        },
        "gather": {
          "logged": 1692023063131
        }
      }
    }
  ],
  "metadata": {
    "kernelspec": {
      "name": "python310-sdkv2",
      "language": "python",
      "display_name": "Python 3.10 - SDK v2"
    },
    "language_info": {
      "name": "python",
      "version": "3.10.9",
      "mimetype": "text/x-python",
      "codemirror_mode": {
        "name": "ipython",
        "version": 3
      },
      "pygments_lexer": "ipython3",
      "nbconvert_exporter": "python",
      "file_extension": ".py"
    },
    "microsoft": {
      "ms_spell_check": {
        "ms_spell_check_language": "en"
      },
      "host": {
        "AzureML": {
          "notebookHasBeenCompleted": true
        }
      }
    },
    "kernel_info": {
      "name": "python310-sdkv2"
    },
    "nteract": {
      "version": "nteract-front-end@1.0.0"
    }
  },
  "nbformat": 4,
  "nbformat_minor": 2
}