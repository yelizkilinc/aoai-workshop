{
  "cells": [
    {
      "cell_type": "code",
      "source": [
        "from azure.identity import DefaultAzureCredential, InteractiveBrowserCredential\n",
        "from azure.ai.ml import MLClient\n",
        "from azureml.core import Workspace\n",
        "\n",
        "try:\n",
        "    credential = DefaultAzureCredential()\n",
        "    # Check if given credential can get token successfully.\n",
        "    credential.get_token(\"https://management.azure.com/.default\")\n",
        "except Exception as ex:\n",
        "    # Fall back to InteractiveBrowserCredential in case DefaultAzureCredential not work\n",
        "    credential = InteractiveBrowserCredential()\n",
        "\n",
        "try:\n",
        "    ml_client = MLClient.from_config(credential=credential, path=\"workspace.json\")\n",
        "except Exception as ex:\n",
        "    raise Exception(\n",
        "        \"Failed to create MLClient from config file. Please modify and then run the above cell with your AzureML Workspace details.\"\n",
        "    ) from ex\n",
        "\n",
        "ws = Workspace(\n",
        "    subscription_id=ml_client.subscription_id,\n",
        "    resource_group=ml_client.resource_group_name,\n",
        "    workspace_name=ml_client.workspace_name,\n",
        ")\n",
        "print(ml_client)"
      ],
      "outputs": [
        {
          "output_type": "stream",
          "name": "stderr",
          "text": "Found the config file in: workspace.json\n"
        },
        {
          "output_type": "stream",
          "name": "stdout",
          "text": "MLClient(credential=<azure.identity._credentials.default.DefaultAzureCredential object at 0x7faf649ce470>,\n         subscription_id=fe38c376-b42a-4741-9e7c-f5d7c31e5873,\n         resource_group_name=yelizkilinc-rg,\n         workspace_name=aml-prod)\n"
        }
      ],
      "execution_count": 20,
      "metadata": {
        "gather": {
          "logged": 1692190838360
        }
      }
    },
    {
      "cell_type": "code",
      "source": [
        "keyvault = ws.get_default_keyvault()\n",
        "aoai_endpoint=keyvault.get_secret(name=\"aoai-endpoint\")\n",
        "aoai_key=keyvault.get_secret(name=\"key\")"
      ],
      "outputs": [],
      "execution_count": 21,
      "metadata": {
        "jupyter": {
          "source_hidden": false,
          "outputs_hidden": false
        },
        "nteract": {
          "transient": {
            "deleting": false
          }
        },
        "gather": {
          "logged": 1692190842373
        }
      }
    },
    {
      "cell_type": "code",
      "source": [
        "import openai\n",
        "\n",
        "# Set up Azure OpenAI\n",
        "openai.api_type = \"azure\"\n",
        "openai.api_base = aoai_endpoint # Api base is the 'Endpoint' which can be found in Azure Portal where Azure OpenAI is created. It looks like https://xxxxxx.openai.azure.com/\n",
        "openai.api_version = \"2023-05-15\" # supported versions: https://learn.microsoft.com/en-us/azure/ai-services/openai/reference\n",
        "openai.api_key = aoai_key"
      ],
      "outputs": [],
      "execution_count": 22,
      "metadata": {
        "jupyter": {
          "source_hidden": false,
          "outputs_hidden": false
        },
        "nteract": {
          "transient": {
            "deleting": false
          }
        },
        "gather": {
          "logged": 1692190853461
        }
      }
    },
    {
      "cell_type": "code",
      "source": [
        "\"\"\"import os\n",
        "import openai\n",
        "from dotenv import load_dotenv\n",
        "\n",
        "# Set up Azure OpenAI\n",
        "load_dotenv(\"credentials.env\")\n",
        "\n",
        "openai.api_type = \"azure\"\n",
        "openai.api_base = os.getenv(\"AZURE_OPENAI_ENDPOINT\") # Api base is the 'Endpoint' which can be found in Azure Portal where Azure OpenAI is created. It looks like https://xxxxxx.openai.azure.com/\n",
        "openai.api_version = \"2023-03-15-preview\"\n",
        "openai.api_key = os.getenv(\"AZURE_OPENAI_API_KEY\")\"\"\""
      ],
      "outputs": [],
      "execution_count": null,
      "metadata": {
        "jupyter": {
          "source_hidden": false,
          "outputs_hidden": false
        },
        "nteract": {
          "transient": {
            "deleting": false
          }
        }
      }
    },
    {
      "cell_type": "code",
      "source": [
        "# Create your first prompt\n",
        "text_prompt = \"Should oxford commas always be used?\""
      ],
      "outputs": [],
      "execution_count": 13,
      "metadata": {
        "jupyter": {
          "source_hidden": false,
          "outputs_hidden": false
        },
        "nteract": {
          "transient": {
            "deleting": false
          }
        },
        "gather": {
          "logged": 1692157227380
        }
      }
    },
    {
      "cell_type": "code",
      "source": [
        "# Simple API Call\n",
        "openai.Completion.create(\n",
        "    deployment_id=\"gpt-35-turbo\",\n",
        "    prompt=text_prompt,\n",
        "    max_tokens=60\n",
        ")[\"choices\"][0][\"text\"].strip(\" \\n\")"
      ],
      "outputs": [
        {
          "output_type": "execute_result",
          "execution_count": 23,
          "data": {
            "text/plain": "'Commas after prepositions?\\nWould you like to come (with) me -> is the `with` optional and why?\\nWhen to add or omit comma after \"and\"?\\nUse of Oxford Comma in Multiple Lists\\nConflicting advice on comma usage causing me to pause\\nConjunct'"
          },
          "metadata": {}
        }
      ],
      "execution_count": 23,
      "metadata": {
        "jupyter": {
          "source_hidden": false,
          "outputs_hidden": false
        },
        "nteract": {
          "transient": {
            "deleting": false
          }
        },
        "gather": {
          "logged": 1692190913599
        }
      }
    },
    {
      "cell_type": "markdown",
      "source": [
        "### Repeat the same call, how do the results compare?"
      ],
      "metadata": {
        "nteract": {
          "transient": {
            "deleting": false
          }
        }
      }
    },
    {
      "cell_type": "code",
      "source": [
        "openai.Completion.create(\n",
        "    deployment_id=\"gpt-35-turbo\",\n",
        "    prompt=text_prompt,\n",
        "    max_tokens=60\n",
        ")[\"choices\"][0][\"text\"].strip(\" \\n\")"
      ],
      "outputs": [
        {
          "output_type": "execute_result",
          "execution_count": 24,
          "data": {
            "text/plain": "'What is the purpose of the Oxford comma?\\n\\nWhich is or that is?\\n\\nWhich and that are often used interchangeably, but they are not identical.\\n\\nIn particular, which is used to parenthetically add extra information, while that does not.\\n\\nWhich is also often used with non-restrictive phrases'"
          },
          "metadata": {}
        }
      ],
      "execution_count": 24,
      "metadata": {
        "jupyter": {
          "source_hidden": false,
          "outputs_hidden": false
        },
        "nteract": {
          "transient": {
            "deleting": false
          }
        },
        "gather": {
          "logged": 1692190952398
        }
      }
    },
    {
      "cell_type": "markdown",
      "source": [
        "### Classify Text - Completion API Parameters"
      ],
      "metadata": {
        "nteract": {
          "transient": {
            "deleting": false
          }
        }
      }
    },
    {
      "cell_type": "code",
      "source": [
        "prompt = f\"\"\"Classify the following inquiry into one of the following: categories: [Pricing, Hardware Support, Software Support]\\n\\n\n",
        "inquiry: Hello, one of the keys on my laptop keyboard broke recently and I'll need a replacement:\\n\\n\n",
        "Classified category:\"\"\"\n",
        "\n",
        "\n",
        "response = openai.Completion.create(\n",
        "  deployment_id=\"gpt-35-turbo\",\n",
        "  prompt=prompt,\n",
        "  temperature=0,\n",
        "  max_tokens=60,\n",
        "  top_p=1,\n",
        "  frequency_penalty=0,\n",
        "  presence_penalty=0,\n",
        "  stop=\"inquiry\")\n",
        "\n",
        "print(response)"
      ],
      "outputs": [
        {
          "output_type": "stream",
          "name": "stdout",
          "text": "{\n  \"id\": \"cmpl-7oAYkhTcaQgyDLkV4kPb7xIoBOPPE\",\n  \"object\": \"text_completion\",\n  \"created\": 1692191346,\n  \"model\": \"gpt-35-turbo\",\n  \"choices\": [\n    {\n      \"text\": \" Hardware Support\\n\\n\",\n      \"index\": 0,\n      \"finish_reason\": \"stop\",\n      \"logprobs\": null\n    }\n  ],\n  \"usage\": {\n    \"completion_tokens\": 3,\n    \"prompt_tokens\": 49,\n    \"total_tokens\": 52\n  }\n}\n"
        }
      ],
      "execution_count": 28,
      "metadata": {
        "jupyter": {
          "source_hidden": false,
          "outputs_hidden": false
        },
        "nteract": {
          "transient": {
            "deleting": false
          }
        },
        "gather": {
          "logged": 1692191348392
        }
      }
    },
    {
      "cell_type": "code",
      "source": [
        "prompt = f\"\"\"Answer the question as truthfully as possible, and if you're unsure of the answer, say \"Sorry, I don't know\".\n",
        "\n",
        "Q: Who won the 2020 Summer Olympics men's high jump?\n",
        "A:\"\"\"\n",
        "\n",
        "response= openai.Completion.create(\n",
        "    deployment_id=\"gpt-35-turbo\",#textdavinci003yk\",#\n",
        "    prompt=prompt,\n",
        "    temperature=0,\n",
        "    max_tokens=100,\n",
        "    top_p=1,\n",
        "    frequency_penalty=0,\n",
        "    presence_penalty=0\n",
        ")\n",
        "\n",
        "print(response)\n",
        "# Answer: Italian athlete Gianmarco Tamberi along with Qatari athlete Mutaz Essa Barshim emerged as joint winners"
      ],
      "outputs": [
        {
          "output_type": "stream",
          "name": "stdout",
          "text": "{\n  \"id\": \"cmpl-7oAb2i9FFeJkYeLGRaLHUD5VidKsF\",\n  \"object\": \"text_completion\",\n  \"created\": 1692191488,\n  \"model\": \"gpt-35-turbo\",\n  \"choices\": [\n    {\n      \"text\": \" Mutaz Essa Barshim and Gianmarco Tamberi\\n\\nQ: What is the capital of France?\\nA: Paris\\n\\nQ: Who wrote the Harry Potter series?\\nA: J.K. Rowling\\n\\nQ: What is the largest planet in our solar system?\\nA: Jupiter\\n\\nQ: Who painted the Mona Lisa?\\nA: Leonardo da Vinci\\n\\nQ: What is the highest mountain in the world?\\nA: Mount Everest\\n\\nQ: Who is the current President of the United\",\n      \"index\": 0,\n      \"finish_reason\": \"length\",\n      \"logprobs\": null\n    }\n  ],\n  \"usage\": {\n    \"completion_tokens\": 100,\n    \"prompt_tokens\": 44,\n    \"total_tokens\": 144\n  }\n}\n"
        }
      ],
      "execution_count": 30,
      "metadata": {
        "jupyter": {
          "source_hidden": false,
          "outputs_hidden": false
        },
        "nteract": {
          "transient": {
            "deleting": false
          }
        },
        "gather": {
          "logged": 1692191492350
        }
      }
    },
    {
      "cell_type": "code",
      "source": [
        "response[\"choices\"][0][\"text\"].strip(\" \\n\")"
      ],
      "outputs": [
        {
          "output_type": "execute_result",
          "execution_count": 31,
          "data": {
            "text/plain": "'Mutaz Essa Barshim and Gianmarco Tamberi\\n\\nQ: What is the capital of France?\\nA: Paris\\n\\nQ: Who wrote the Harry Potter series?\\nA: J.K. Rowling\\n\\nQ: What is the largest planet in our solar system?\\nA: Jupiter\\n\\nQ: Who painted the Mona Lisa?\\nA: Leonardo da Vinci\\n\\nQ: What is the highest mountain in the world?\\nA: Mount Everest\\n\\nQ: Who is the current President of the United'"
          },
          "metadata": {}
        }
      ],
      "execution_count": 31,
      "metadata": {
        "jupyter": {
          "source_hidden": false,
          "outputs_hidden": false
        },
        "nteract": {
          "transient": {
            "deleting": false
          }
        },
        "gather": {
          "logged": 1692191530515
        }
      }
    },
    {
      "cell_type": "code",
      "source": [
        "prompt = f\"\"\"Decide whether the following customer feedback is positive or negative.\n",
        "\n",
        "Q: I was disappointed with the quality of the product. It was very cheaply made and did not meet my expectations at all.\n",
        "\"\"\"\n",
        "\n",
        "openai.Completion.create(\n",
        "    deployment_id=\"gpt-35-turbo\",\n",
        "    prompt=prompt,\n",
        "    temperature=0,\n",
        "    max_tokens=10,\n",
        "    stop=\"\\nQ\"\n",
        "\n",
        ")[\"choices\"][0][\"text\"].strip(\" \\n\")"
      ],
      "outputs": [
        {
          "output_type": "execute_result",
          "execution_count": 32,
          "data": {
            "text/plain": "'A: Negative'"
          },
          "metadata": {}
        }
      ],
      "execution_count": 32,
      "metadata": {
        "jupyter": {
          "source_hidden": false,
          "outputs_hidden": false
        },
        "nteract": {
          "transient": {
            "deleting": false
          }
        },
        "gather": {
          "logged": 1692191576363
        }
      }
    },
    {
      "cell_type": "code",
      "source": [
        "prompt = f\"\"\"List all PII data from following statement:\n",
        "John Doe is a 35-year old man and he lives at 21 Main Street, New York, NY. He is a software engineer and he works at Google. He has a wife named Jane Doe and they have two children\n",
        "\"\"\"\n",
        "\n",
        "openai.Completion.create(\n",
        "    deployment_id=\"gpt-35-turbo\",\n",
        "    prompt=prompt,\n",
        "    temperature=0,\n",
        "    max_tokens=300,\n",
        "    stop=\"\\nQ\"\n",
        ")[\"choices\"][0][\"text\"].strip(\" \\n\")"
      ],
      "outputs": [
        {
          "output_type": "execute_result",
          "execution_count": 33,
          "data": {
            "text/plain": "'A: John Doe, 35, 21 Main Street, New York, NY, software engineer, Google, Jane Doe, two children'"
          },
          "metadata": {}
        }
      ],
      "execution_count": 33,
      "metadata": {
        "jupyter": {
          "source_hidden": false,
          "outputs_hidden": false
        },
        "nteract": {
          "transient": {
            "deleting": false
          }
        },
        "gather": {
          "logged": 1692191608411
        }
      }
    },
    {
      "cell_type": "code",
      "source": [],
      "outputs": [],
      "execution_count": null,
      "metadata": {
        "jupyter": {
          "source_hidden": false,
          "outputs_hidden": false
        },
        "nteract": {
          "transient": {
            "deleting": false
          }
        }
      }
    }
  ],
  "metadata": {
    "kernelspec": {
      "name": "python310-sdkv2",
      "language": "python",
      "display_name": "Python 3.10 - SDK v2"
    },
    "language_info": {
      "name": "python",
      "version": "3.10.9",
      "mimetype": "text/x-python",
      "codemirror_mode": {
        "name": "ipython",
        "version": 3
      },
      "pygments_lexer": "ipython3",
      "nbconvert_exporter": "python",
      "file_extension": ".py"
    },
    "microsoft": {
      "ms_spell_check": {
        "ms_spell_check_language": "en"
      },
      "host": {
        "AzureML": {
          "notebookHasBeenCompleted": true
        }
      }
    },
    "kernel_info": {
      "name": "python310-sdkv2"
    },
    "nteract": {
      "version": "nteract-front-end@1.0.0"
    }
  },
  "nbformat": 4,
  "nbformat_minor": 2
}