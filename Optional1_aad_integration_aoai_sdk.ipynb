{
  "cells": [
    {
      "attachments": {},
      "cell_type": "markdown",
      "source": [
        "# Azure OpenAI Service API with OpenAI Python SDK\n",
        "\n",
        "This notebook shows how to use the Azure OpenAI (AOAI) Service API with the [OpenAI Python SDK](https://github.com/openai/openai-python).\n",
        "\n",
        "### Prerequisites\n",
        "\n",
        "1. Setup for Azure Active Directory (AAD) authentication.\n",
        "    * See [Setup to use AAD and test with CLI](setup_aad.md).\n",
        "2. A Python environment setup with all the requirements.  \n",
        "    * See the [setup_python_env.md](setup_python_env.md) page for instructions on setting up your environment.\n",
        "\n",
        "### Configuring OpenAI SDK\n",
        "The OpenAI SDK can be configured via _config_ file.  \n",
        "\n",
        " | SDK Variable | Description |\n",
        " | -- | -- |\n",
        " | `api_type` | API Type.  Use `azure_ad` for AAD authentication.  |\n",
        " | `api_version` | API Version.  You can use `2022-12-01`. |\n",
        " | `api_base` | Base URL for the API.  This is the endpoint URL for your team. |\n",
        "\n"
      ],
      "metadata": {}
    },
    {
      "cell_type": "code",
      "source": [
        "import os\n",
        "import openai\n",
        "from dotenv import load_dotenv"
      ],
      "outputs": [],
      "execution_count": 1,
      "metadata": {
        "gather": {
          "logged": 1692111419848
        }
      }
    },
    {
      "cell_type": "markdown",
      "source": [
        "### Setup Parameters\n",
        "\n",
        "\n",
        "Here we will load the configurations from _config.json_ file to setup deployment_name, openai.api_base and openai.api_version."
      ],
      "metadata": {}
    },
    {
      "cell_type": "code",
      "source": [
        "# For Active Directory authentication\n",
        "openai.api_type = \"azure_ad\"\n",
        "\n",
        "\n",
        "# Set up Azure OpenAI\n",
        "load_dotenv(\"credentials.env\")\n",
        "\n",
        "openai.api_base = os.getenv(\"AZURE_OPENAI_ENDPOINT\") \n",
        "openai.api_version = \"2023-03-15-preview\""
      ],
      "outputs": [],
      "execution_count": 2,
      "metadata": {
        "gather": {
          "logged": 1692111421943
        }
      }
    },
    {
      "cell_type": "code",
      "source": [
        "print(openai.api_base)"
      ],
      "outputs": [
        {
          "output_type": "stream",
          "name": "stdout",
          "text": "https://openaiykus.openai.azure.com/\n"
        }
      ],
      "execution_count": 3,
      "metadata": {
        "jupyter": {
          "source_hidden": false,
          "outputs_hidden": false
        },
        "nteract": {
          "transient": {
            "deleting": false
          }
        },
        "gather": {
          "logged": 1692111424918
        }
      }
    },
    {
      "cell_type": "markdown",
      "source": [
        "## Set up AAD authentication\n",
        "\n",
        "`DefaultAzureCredential` can read your credentials from the environment after doing `az login`. \n",
        "\n",
        "In VS Code, you can use the Azure Account extension to log in with your Azure account.  If you are running this notebook in VS Code, be sure to restart VS Code after you do `az login`.\n",
        "\n",
        "This article gives details on what identity `DefaultAzureCredential` uses: https://docs.microsoft.com/en-us/python/api/azure-identity/azure.identity.defaultazurecredential?view=azure-python\n",
        "\n",
        "If you get an error similar to the following, you can try using `AzureCliCredential` instead of `DefaultAzureCredential`:\n",
        "\n",
        "```\n",
        "DefaultAzureCredential failed to retrieve a token from the included credentials. Attempted credentials:     EnvironmentCredential: EnvironmentCredential authentication unavailable. Environment variables are not fully configured. Visit https://aka.ms/azsdk/python/identity/environmentcredential/troubleshoot to troubleshoot.this issue.     ManagedIdentityCredential: ManagedIdentityCredential authentication unavailable, no response from the IMDS endpoint.     SharedTokenCacheCredential: Azure Active Directory error '(invalid_scope) AADSTS70011: The provided request must include a 'scope' input parameter. The provided value for the input parameter 'scope' is not valid. The scope https://cognitiveservices.azure.com is not valid. The scope format is invalid. Scope must be in a valid URI form <https://example/scope> or a valid Guid <guid/scope>. \n",
        "```\n",
        "\n"
      ],
      "metadata": {}
    },
    {
      "cell_type": "code",
      "source": [
        "!az login"
      ],
      "outputs": [
        {
          "output_type": "stream",
          "name": "stdout",
          "text": "\u001b[93mTo sign in, use a web browser to open the page https://microsoft.com/devicelogin and enter the code DQPXDNV42 to authenticate.\u001b[0m\n\u001b[93mFailed to authenticate 16b3c013-d300-468d-ac64-7eda0820b6d3 'Microsoft Non-Production' due to error 'AADSTS530004: AcceptCompliantDevice setting isn't configured for this organization. The admin needs to configure this setting to allow external users access to protected resources.\nTrace ID: 8a46aad4-6192-45db-b4a8-d08051502a00\nCorrelation ID: 707efade-e09b-43f0-b1f4-6f5baad58255\nTimestamp: 2023-08-15 14:58:57Z'\u001b[0m\n\u001b[93mThe following tenants don't contain accessible subscriptions. Use 'az login --allow-no-subscriptions' to have tenant level access.\u001b[0m\n\u001b[93m93d45a5c-5d75-4c08-9c21-3de55c2eb73b 'CentricaHDISandbox1'\u001b[0m\n\u001b[93mbd5c6713-7399-4b31-be79-78f2d078e543 'Marks and Spencer'\u001b[0m\n[\n  {\n    \"cloudName\": \"AzureCloud\",\n    \"homeTenantId\": \"72f988bf-86f1-41af-91ab-2d7cd011db47\",\n    \"id\": \"54b875cc-a81a-4914-8bfd-1a36bc7ddf4d\",\n    \"isDefault\": true,\n    \"managedByTenants\": [],\n    \"name\": \"MSFT-WindowsVirtualDesktop-01\",\n    \"state\": \"Enabled\",\n    \"tenantId\": \"72f988bf-86f1-41af-91ab-2d7cd011db47\",\n    \"user\": {\n      \"name\": \"yelizkilinc@microsoft.com\",\n      \"type\": \"user\"\n    }\n  },\n  {\n    \"cloudName\": \"AzureCloud\",\n    \"homeTenantId\": \"72f988bf-86f1-41af-91ab-2d7cd011db47\",\n    \"id\": \"f455dda6-5a9b-4d71-8d51-7afc3b459039\",\n    \"isDefault\": false,\n    \"managedByTenants\": [],\n    \"name\": \"SPO Sandbox Testing\",\n    \"state\": \"Enabled\",\n    \"tenantId\": \"72f988bf-86f1-41af-91ab-2d7cd011db47\",\n    \"user\": {\n      \"name\": \"yelizkilinc@microsoft.com\",\n      \"type\": \"user\"\n    }\n  },\n  {\n    \"cloudName\": \"AzureCloud\",\n    \"homeTenantId\": \"72f988bf-86f1-41af-91ab-2d7cd011db47\",\n    \"id\": \"b68b2f37-1d37-4c2f-80f6-c23de402792e\",\n    \"isDefault\": false,\n    \"managedByTenants\": [\n      {\n        \"tenantId\": \"2f4a9838-26b7-47ee-be60-ccc1fdec5953\"\n      }\n    ],\n    \"name\": \"Semantic Machines R&D Subscription 1\",\n    \"state\": \"Enabled\",\n    \"tenantId\": \"72f988bf-86f1-41af-91ab-2d7cd011db47\",\n    \"user\": {\n      \"name\": \"yelizkilinc@microsoft.com\",\n      \"type\": \"user\"\n    }\n  },\n  {\n    \"cloudName\": \"AzureCloud\",\n    \"homeTenantId\": \"72f988bf-86f1-41af-91ab-2d7cd011db47\",\n    \"id\": \"f1d79e73-f8e3-4b10-bfdb-4207ca0723ed\",\n    \"isDefault\": false,\n    \"managedByTenants\": [],\n    \"name\": \"AML Infra - Engineering System\",\n    \"state\": \"Enabled\",\n    \"tenantId\": \"72f988bf-86f1-41af-91ab-2d7cd011db47\",\n    \"user\": {\n      \"name\": \"yelizkilinc@microsoft.com\",\n      \"type\": \"user\"\n    }\n  },\n  {\n    \"cloudName\": \"AzureCloud\",\n    \"homeTenantId\": \"72f988bf-86f1-41af-91ab-2d7cd011db47\",\n    \"id\": \"c0620f27-ac38-468c-a26b-264009fe7c41\",\n    \"isDefault\": false,\n    \"managedByTenants\": [],\n    \"name\": \"AzureQualityInfrastructureSubscription-Test00\",\n    \"state\": \"Enabled\",\n    \"tenantId\": \"72f988bf-86f1-41af-91ab-2d7cd011db47\",\n    \"user\": {\n      \"name\": \"yelizkilinc@microsoft.com\",\n      \"type\": \"user\"\n    }\n  },\n  {\n    \"cloudName\": \"AzureCloud\",\n    \"homeTenantId\": \"72f988bf-86f1-41af-91ab-2d7cd011db47\",\n    \"id\": \"1163fbbe-27e7-4b0f-8466-195fe5417043\",\n    \"isDefault\": false,\n    \"managedByTenants\": [\n      {\n        \"tenantId\": \"2f4a9838-26b7-47ee-be60-ccc1fdec5953\"\n      },\n      {\n        \"tenantId\": \"d0ecd01b-d782-448e-bae0-c3cad0e0543a\"\n      },\n      {\n        \"tenantId\": \"94c4857e-1130-4ab8-8eac-069b40c9db20\"\n      },\n      {\n        \"tenantId\": \"f702a9dc-ae48-4dc7-8f0a-8155a6dfa4e5\"\n      }\n    ],\n    \"name\": \"Python_AI_Tools_PM_Team_Sub\",\n    \"state\": \"Enabled\",\n    \"tenantId\": \"72f988bf-86f1-41af-91ab-2d7cd011db47\",\n    \"user\": {\n      \"name\": \"yelizkilinc@microsoft.com\",\n      \"type\": \"user\"\n    }\n  },\n  {\n    \"cloudName\": \"AzureCloud\",\n    \"homeTenantId\": \"72f988bf-86f1-41af-91ab-2d7cd011db47\",\n    \"id\": \"e0fd569c-e34a-4249-8c24-e8d723c7f054\",\n    \"isDefault\": false,\n    \"managedByTenants\": [],\n    \"name\": \"AML - Responsible AI R&D\",\n    \"state\": \"Enabled\",\n    \"tenantId\": \"72f988bf-86f1-41af-91ab-2d7cd011db47\",\n    \"user\": {\n      \"name\": \"yelizkilinc@microsoft.com\",\n      \"type\": \"user\"\n    }\n  },\n  {\n    \"cloudName\": \"AzureCloud\",\n    \"homeTenantId\": \"72f988bf-86f1-41af-91ab-2d7cd011db47\",\n    \"id\": \"eef8b6d5-94da-4b36-9327-a662f2674efb\",\n    \"isDefault\": false,\n    \"managedByTenants\": [],\n    \"name\": \"AISC-EngSys-01\",\n    \"state\": \"Enabled\",\n    \"tenantId\": \"72f988bf-86f1-41af-91ab-2d7cd011db47\",\n    \"user\": {\n      \"name\": \"yelizkilinc@microsoft.com\",\n      \"type\": \"user\"\n    }\n  },\n  {\n    \"cloudName\": \"AzureCloud\",\n    \"homeTenantId\": \"72f988bf-86f1-41af-91ab-2d7cd011db47\",\n    \"id\": \"3cd95ff9-ac62-4b5c-8240-0cd046687ea0\",\n    \"isDefault\": false,\n    \"managedByTenants\": [],\n    \"name\": \"Internal App Insights Resources for Perflens\",\n    \"state\": \"Enabled\",\n    \"tenantId\": \"72f988bf-86f1-41af-91ab-2d7cd011db47\",\n    \"user\": {\n      \"name\": \"yelizkilinc@microsoft.com\",\n      \"type\": \"user\"\n    }\n  },\n  {\n    \"cloudName\": \"AzureCloud\",\n    \"homeTenantId\": \"72f988bf-86f1-41af-91ab-2d7cd011db47\",\n    \"id\": \"8cff5d56-95fb-4a74-ab9d-079edb45313e\",\n    \"isDefault\": false,\n    \"managedByTenants\": [\n      {\n        \"tenantId\": \"cdc5aeea-15c5-4db6-b079-fcadd2505dc2\"\n      }\n    ],\n    \"name\": \"Skype-NetEM-STAGING\",\n    \"state\": \"Enabled\",\n    \"tenantId\": \"72f988bf-86f1-41af-91ab-2d7cd011db47\",\n    \"user\": {\n      \"name\": \"yelizkilinc@microsoft.com\",\n      \"type\": \"user\"\n    }\n  },\n  {\n    \"cloudName\": \"AzureCloud\",\n    \"homeTenantId\": \"72f988bf-86f1-41af-91ab-2d7cd011db47\",\n    \"id\": \"eec2de82-6ab2-4a84-ae5f-57e9a10bf661\",\n    \"isDefault\": false,\n    \"managedByTenants\": [\n      {\n        \"tenantId\": \"2f4a9838-26b7-47ee-be60-ccc1fdec5953\"\n      }\n    ],\n    \"name\": \"ServicesPortfolio MCS\",\n    \"state\": \"Enabled\",\n    \"tenantId\": \"72f988bf-86f1-41af-91ab-2d7cd011db47\",\n    \"user\": {\n      \"name\": \"yelizkilinc@microsoft.com\",\n      \"type\": \"user\"\n    }\n  },\n  {\n    \"cloudName\": \"AzureCloud\",\n    \"homeTenantId\": \"72f988bf-86f1-41af-91ab-2d7cd011db47\",\n    \"id\": \"9ec1d932-0f3f-486c-acc6-e7d78b358f9b\",\n    \"isDefault\": false,\n    \"managedByTenants\": [\n      {\n        \"tenantId\": \"2f4a9838-26b7-47ee-be60-ccc1fdec5953\"\n      }\n    ],\n    \"name\": \"TScience\",\n    \"state\": \"Enabled\",\n    \"tenantId\": \"72f988bf-86f1-41af-91ab-2d7cd011db47\",\n    \"user\": {\n      \"name\": \"yelizkilinc@microsoft.com\",\n      \"type\": \"user\"\n    }\n  },\n  {\n    \"cloudName\": \"AzureCloud\",\n    \"homeTenantId\": \"72f988bf-86f1-41af-91ab-2d7cd011db47\",\n    \"id\": \"e75c95f3-27b4-410f-a40e-2b9153a807dd\",\n    \"isDefault\": false,\n    \"managedByTenants\": [],\n    \"name\": \"AEther Dev\",\n    \"state\": \"Enabled\",\n    \"tenantId\": \"72f988bf-86f1-41af-91ab-2d7cd011db47\",\n    \"user\": {\n      \"name\": \"yelizkilinc@microsoft.com\",\n      \"type\": \"user\"\n    }\n  },\n  {\n    \"cloudName\": \"AzureCloud\",\n    \"homeTenantId\": \"72f988bf-86f1-41af-91ab-2d7cd011db47\",\n    \"id\": \"3905431d-c062-4c17-8fd9-c51f89f334c4\",\n    \"isDefault\": false,\n    \"managedByTenants\": [],\n    \"name\": \"Pytorch Build\",\n    \"state\": \"Enabled\",\n    \"tenantId\": \"72f988bf-86f1-41af-91ab-2d7cd011db47\",\n    \"user\": {\n      \"name\": \"yelizkilinc@microsoft.com\",\n      \"type\": \"user\"\n    }\n  },\n  {\n    \"cloudName\": \"AzureCloud\",\n    \"homeTenantId\": \"72f988bf-86f1-41af-91ab-2d7cd011db47\",\n    \"id\": \"13723929-6644-4060-a50a-cc38ebc5e8b1\",\n    \"isDefault\": false,\n    \"managedByTenants\": [],\n    \"name\": \"LinuxMdsd Test\",\n    \"state\": \"Enabled\",\n    \"tenantId\": \"72f988bf-86f1-41af-91ab-2d7cd011db47\",\n    \"user\": {\n      \"name\": \"yelizkilinc@microsoft.com\",\n      \"type\": \"user\"\n    }\n  },\n  {\n    \"cloudName\": \"AzureCloud\",\n    \"homeTenantId\": \"72f988bf-86f1-41af-91ab-2d7cd011db47\",\n    \"id\": \"ca38bc19-cf50-48e2-bbe6-8c35b40212d8\",\n    \"isDefault\": false,\n    \"managedByTenants\": [],\n    \"name\": \"Maps Mining Azure\",\n    \"state\": \"Enabled\",\n    \"tenantId\": \"72f988bf-86f1-41af-91ab-2d7cd011db47\",\n    \"user\": {\n      \"name\": \"yelizkilinc@microsoft.com\",\n      \"type\": \"user\"\n    }\n  },\n  {\n    \"cloudName\": \"AzureCloud\",\n    \"homeTenantId\": \"72f988bf-86f1-41af-91ab-2d7cd011db47\",\n    \"id\": \"8ae1955e-f748-4273-a507-10159ba940f9\",\n    \"isDefault\": false,\n    \"managedByTenants\": [],\n    \"name\": \"SPO-CyrusB\",\n    \"state\": \"Enabled\",\n    \"tenantId\": \"72f988bf-86f1-41af-91ab-2d7cd011db47\",\n    \"user\": {\n      \"name\": \"yelizkilinc@microsoft.com\",\n      \"type\": \"user\"\n    }\n  },\n  {\n    \"cloudName\": \"AzureCloud\",\n    \"homeTenantId\": \"72f988bf-86f1-41af-91ab-2d7cd011db47\",\n    \"id\": \"21d8f407-c4c4-452e-87a4-e609bfb86248\",\n    \"isDefault\": false,\n    \"managedByTenants\": [\n      {\n        \"tenantId\": \"2f4a9838-26b7-47ee-be60-ccc1fdec5953\"\n      },\n      {\n        \"tenantId\": \"f40b18ba-b66c-49e4-9fd8-4fc7d3d19f0f\"\n      }\n    ],\n    \"name\": \"DataZen\",\n    \"state\": \"Enabled\",\n    \"tenantId\": \"72f988bf-86f1-41af-91ab-2d7cd011db47\",\n    \"user\": {\n      \"name\": \"yelizkilinc@microsoft.com\",\n      \"type\": \"user\"\n    }\n  },\n  {\n    \"cloudName\": \"AzureCloud\",\n    \"homeTenantId\": \"72f988bf-86f1-41af-91ab-2d7cd011db47\",\n    \"id\": \"ae71ef11-a03f-4b4f-a0e6-ef144727c711\",\n    \"isDefault\": false,\n    \"managedByTenants\": [\n      {\n        \"tenantId\": \"2f4a9838-26b7-47ee-be60-ccc1fdec5953\"\n      }\n    ],\n    \"name\": \"Bing MM Measurement\",\n    \"state\": \"Enabled\",\n    \"tenantId\": \"72f988bf-86f1-41af-91ab-2d7cd011db47\",\n    \"user\": {\n      \"name\": \"yelizkilinc@microsoft.com\",\n      \"type\": \"user\"\n    }\n  },\n  {\n    \"cloudName\": \"AzureCloud\",\n    \"homeTenantId\": \"72f988bf-86f1-41af-91ab-2d7cd011db47\",\n    \"id\": \"9b4236fe-df75-4289-bf00-40628ed41fd9\",\n    \"isDefault\": false,\n    \"managedByTenants\": [],\n    \"name\": \"Customer Confidence Proof of Concepts\",\n    \"state\": \"Enabled\",\n    \"tenantId\": \"72f988bf-86f1-41af-91ab-2d7cd011db47\",\n    \"user\": {\n      \"name\": \"yelizkilinc@microsoft.com\",\n      \"type\": \"user\"\n    }\n  },\n  {\n    \"cloudName\": \"AzureCloud\",\n    \"homeTenantId\": \"72f988bf-86f1-41af-91ab-2d7cd011db47\",\n    \"id\": \"85b3dbca-5974-4067-9669-67a141095a76\",\n    \"isDefault\": false,\n    \"managedByTenants\": [\n      {\n        \"tenantId\": \"027fe226-784c-4798-a157-5e0e7893424d\"\n      }\n    ],\n    \"name\": \"Terraform Testing on Azure with TTL = 2 Days\",\n    \"state\": \"Enabled\",\n    \"tenantId\": \"72f988bf-86f1-41af-91ab-2d7cd011db47\",\n    \"user\": {\n      \"name\": \"yelizkilinc@microsoft.com\",\n      \"type\": \"user\"\n    }\n  },\n  {\n    \"cloudName\": \"AzureCloud\",\n    \"homeTenantId\": \"72f988bf-86f1-41af-91ab-2d7cd011db47\",\n    \"id\": \"a6c2a7cc-d67e-4a1a-b765-983f08c0423a\",\n    \"isDefault\": false,\n    \"managedByTenants\": [\n      {\n        \"tenantId\": \"2f4a9838-26b7-47ee-be60-ccc1fdec5953\"\n      },\n      {\n        \"tenantId\": \"d0ecd01b-d782-448e-bae0-c3cad0e0543a\"\n      },\n      {\n        \"tenantId\": \"94c4857e-1130-4ab8-8eac-069b40c9db20\"\n      },\n      {\n        \"tenantId\": \"f702a9dc-ae48-4dc7-8f0a-8155a6dfa4e5\"\n      }\n    ],\n    \"name\": \"AI Customer Engineering - Internal Consumption\",\n    \"state\": \"Enabled\",\n    \"tenantId\": \"72f988bf-86f1-41af-91ab-2d7cd011db47\",\n    \"user\": {\n      \"name\": \"yelizkilinc@microsoft.com\",\n      \"type\": \"user\"\n    }\n  },\n  {\n    \"cloudName\": \"AzureCloud\",\n    \"homeTenantId\": \"72f988bf-86f1-41af-91ab-2d7cd011db47\",\n    \"id\": \"a1920ebd-59b7-4f19-af9f-5e80599e88e4\",\n    \"isDefault\": false,\n    \"managedByTenants\": [],\n    \"name\": \"Babel\",\n    \"state\": \"Enabled\",\n    \"tenantId\": \"72f988bf-86f1-41af-91ab-2d7cd011db47\",\n    \"user\": {\n      \"name\": \"yelizkilinc@microsoft.com\",\n      \"type\": \"user\"\n    }\n  },\n  {\n    \"cloudName\": \"AzureCloud\",\n    \"homeTenantId\": \"72f988bf-86f1-41af-91ab-2d7cd011db47\",\n    \"id\": \"d2c9544f-4329-4642-b73d-020e7fef844f\",\n    \"isDefault\": false,\n    \"managedByTenants\": [],\n    \"name\": \"HPCScrub1\",\n    \"state\": \"Enabled\",\n    \"tenantId\": \"72f988bf-86f1-41af-91ab-2d7cd011db47\",\n    \"user\": {\n      \"name\": \"yelizkilinc@microsoft.com\",\n      \"type\": \"user\"\n    }\n  },\n  {\n    \"cloudName\": \"AzureCloud\",\n    \"homeTenantId\": \"72f988bf-86f1-41af-91ab-2d7cd011db47\",\n    \"id\": \"e4e06275-58d1-4081-8f1b-be12462eb701\",\n    \"isDefault\": false,\n    \"managedByTenants\": [\n      {\n        \"tenantId\": \"2f4a9838-26b7-47ee-be60-ccc1fdec5953\"\n      }\n    ],\n    \"name\": \"CSR-CUSPOC-MST-Hiramfleitas\",\n    \"state\": \"Enabled\",\n    \"tenantId\": \"72f988bf-86f1-41af-91ab-2d7cd011db47\",\n    \"user\": {\n      \"name\": \"yelizkilinc@microsoft.com\",\n      \"type\": \"user\"\n    }\n  },\n  {\n    \"cloudName\": \"AzureCloud\",\n    \"homeTenantId\": \"72f988bf-86f1-41af-91ab-2d7cd011db47\",\n    \"id\": \"e72e5254-f265-4e95-9bd2-9ee8e7329051\",\n    \"isDefault\": false,\n    \"managedByTenants\": [],\n    \"name\": \"Speech Services - DEV - SDK (rob)\",\n    \"state\": \"Enabled\",\n    \"tenantId\": \"72f988bf-86f1-41af-91ab-2d7cd011db47\",\n    \"user\": {\n      \"name\": \"yelizkilinc@microsoft.com\",\n      \"type\": \"user\"\n    }\n  },\n  {\n    \"cloudName\": \"AzureCloud\",\n    \"homeTenantId\": \"72f988bf-86f1-41af-91ab-2d7cd011db47\",\n    \"id\": \"bac044cf-49e1-4843-8dda-1ce9662606c8\",\n    \"isDefault\": false,\n    \"managedByTenants\": [],\n    \"name\": \"UI Fabric\",\n    \"state\": \"Enabled\",\n    \"tenantId\": \"72f988bf-86f1-41af-91ab-2d7cd011db47\",\n    \"user\": {\n      \"name\": \"yelizkilinc@microsoft.com\",\n      \"type\": \"user\"\n    }\n  },\n  {\n    \"cloudName\": \"AzureCloud\",\n    \"homeTenantId\": \"72f988bf-86f1-41af-91ab-2d7cd011db47\",\n    \"id\": \"a5f9f0d3-a937-4de5-8cf3-387fce51e80c\",\n    \"isDefault\": false,\n    \"managedByTenants\": [],\n    \"name\": \"anguil\",\n    \"state\": \"Enabled\",\n    \"tenantId\": \"72f988bf-86f1-41af-91ab-2d7cd011db47\",\n    \"user\": {\n      \"name\": \"yelizkilinc@microsoft.com\",\n      \"type\": \"user\"\n    }\n  },\n  {\n    \"cloudName\": \"AzureCloud\",\n    \"homeTenantId\": \"72f988bf-86f1-41af-91ab-2d7cd011db47\",\n    \"id\": \"79f57c16-00fe-48da-87d4-5192e86cd047\",\n    \"isDefault\": false,\n    \"managedByTenants\": [],\n    \"name\": \"TScienceGPU\",\n    \"state\": \"Enabled\",\n    \"tenantId\": \"72f988bf-86f1-41af-91ab-2d7cd011db47\",\n    \"user\": {\n      \"name\": \"yelizkilinc@microsoft.com\",\n      \"type\": \"user\"\n    }\n  },\n  {\n    \"cloudName\": \"AzureCloud\",\n    \"homeTenantId\": \"72f988bf-86f1-41af-91ab-2d7cd011db47\",\n    \"id\": \"9372b318-ed3a-4504-95a6-941201300f78\",\n    \"isDefault\": false,\n    \"managedByTenants\": [],\n    \"name\": \"OE-Service Management Platform - External - Prod\",\n    \"state\": \"Enabled\",\n    \"tenantId\": \"72f988bf-86f1-41af-91ab-2d7cd011db47\",\n    \"user\": {\n      \"name\": \"yelizkilinc@microsoft.com\",\n      \"type\": \"user\"\n    }\n  },\n  {\n    \"cloudName\": \"AzureCloud\",\n    \"homeTenantId\": \"72f988bf-86f1-41af-91ab-2d7cd011db47\",\n    \"id\": \"09fa8e83-d677-474f-8f73-2a954a0b0ea4\",\n    \"isDefault\": false,\n    \"managedByTenants\": [],\n    \"name\": \"MaaS - Runner Resource Creation - AzureCloud\",\n    \"state\": \"Enabled\",\n    \"tenantId\": \"72f988bf-86f1-41af-91ab-2d7cd011db47\",\n    \"user\": {\n      \"name\": \"yelizkilinc@microsoft.com\",\n      \"type\": \"user\"\n    }\n  },\n  {\n    \"cloudName\": \"AzureCloud\",\n    \"homeTenantId\": \"72f988bf-86f1-41af-91ab-2d7cd011db47\",\n    \"id\": \"68f3658f-0090-4277-a500-f02227aaee97\",\n    \"isDefault\": false,\n    \"managedByTenants\": [],\n    \"name\": \"zejunz\",\n    \"state\": \"Disabled\",\n    \"tenantId\": \"72f988bf-86f1-41af-91ab-2d7cd011db47\",\n    \"user\": {\n      \"name\": \"yelizkilinc@microsoft.com\",\n      \"type\": \"user\"\n    }\n  },\n  {\n    \"cloudName\": \"AzureCloud\",\n    \"homeTenantId\": \"72f988bf-86f1-41af-91ab-2d7cd011db47\",\n    \"id\": \"40dd91f6-ead1-40dd-a291-2ae37717981b\",\n    \"isDefault\": false,\n    \"managedByTenants\": [],\n    \"name\": \"varung poc\",\n    \"state\": \"Enabled\",\n    \"tenantId\": \"72f988bf-86f1-41af-91ab-2d7cd011db47\",\n    \"user\": {\n      \"name\": \"yelizkilinc@microsoft.com\",\n      \"type\": \"user\"\n    }\n  },\n  {\n    \"cloudName\": \"AzureCloud\",\n    \"homeTenantId\": \"72f988bf-86f1-41af-91ab-2d7cd011db47\",\n    \"id\": \"4f80d6c7-3b04-4854-9f1a-2d7c587d4f64\",\n    \"isDefault\": false,\n    \"managedByTenants\": [],\n    \"name\": \"AzureMonitor_SDKs_Secondary_RnD\",\n    \"state\": \"Enabled\",\n    \"tenantId\": \"72f988bf-86f1-41af-91ab-2d7cd011db47\",\n    \"user\": {\n      \"name\": \"yelizkilinc@microsoft.com\",\n      \"type\": \"user\"\n    }\n  },\n  {\n    \"cloudName\": \"AzureCloud\",\n    \"homeTenantId\": \"72f988bf-86f1-41af-91ab-2d7cd011db47\",\n    \"id\": \"2e131dbf-96b3-4377-9c8e-de5d3047f566\",\n    \"isDefault\": false,\n    \"managedByTenants\": [\n      {\n        \"tenantId\": \"2f4a9838-26b7-47ee-be60-ccc1fdec5953\"\n      }\n    ],\n    \"name\": \"Kusto_PM_Demo\",\n    \"state\": \"Enabled\",\n    \"tenantId\": \"72f988bf-86f1-41af-91ab-2d7cd011db47\",\n    \"user\": {\n      \"name\": \"yelizkilinc@microsoft.com\",\n      \"type\": \"user\"\n    }\n  },\n  {\n    \"cloudName\": \"AzureCloud\",\n    \"homeTenantId\": \"72f988bf-86f1-41af-91ab-2d7cd011db47\",\n    \"id\": \"b2a328a7-ffff-4c09-b643-a4758cf170bc\",\n    \"isDefault\": false,\n    \"managedByTenants\": [],\n    \"name\": \"AISC-DEV-02\",\n    \"state\": \"Enabled\",\n    \"tenantId\": \"72f988bf-86f1-41af-91ab-2d7cd011db47\",\n    \"user\": {\n      \"name\": \"yelizkilinc@microsoft.com\",\n      \"type\": \"user\"\n    }\n  },\n  {\n    \"cloudName\": \"AzureCloud\",\n    \"homeTenantId\": \"72f988bf-86f1-41af-91ab-2d7cd011db47\",\n    \"id\": \"dd4c2dac-db51-4cd0-b734-684c6cc360c1\",\n    \"isDefault\": false,\n    \"managedByTenants\": [\n      {\n        \"tenantId\": \"2f4a9838-26b7-47ee-be60-ccc1fdec5953\"\n      }\n    ],\n    \"name\": \"Geneva Analytics Intelligent Data Test (Corp)\",\n    \"state\": \"Enabled\",\n    \"tenantId\": \"72f988bf-86f1-41af-91ab-2d7cd011db47\",\n    \"user\": {\n      \"name\": \"yelizkilinc@microsoft.com\",\n      \"type\": \"user\"\n    }\n  },\n  {\n    \"cloudName\": \"AzureCloud\",\n    \"homeTenantId\": \"72f988bf-86f1-41af-91ab-2d7cd011db47\",\n    \"id\": \"bac420ed-c6fc-4a05-8ac1-8c0c52da1d6e\",\n    \"isDefault\": false,\n    \"managedByTenants\": [],\n    \"name\": \"IDEAs MS Reporting\",\n    \"state\": \"Enabled\",\n    \"tenantId\": \"72f988bf-86f1-41af-91ab-2d7cd011db47\",\n    \"user\": {\n      \"name\": \"yelizkilinc@microsoft.com\",\n      \"type\": \"user\"\n    }\n  },\n  {\n    \"cloudName\": \"AzureCloud\",\n    \"homeTenantId\": \"72f988bf-86f1-41af-91ab-2d7cd011db47\",\n    \"id\": \"4628298e-882d-4f12-abf4-a9f9654960bb\",\n    \"isDefault\": false,\n    \"managedByTenants\": [\n      {\n        \"tenantId\": \"2f4a9838-26b7-47ee-be60-ccc1fdec5953\"\n      }\n    ],\n    \"name\": \"ES_DeveloperProductivity_Dev\",\n    \"state\": \"Enabled\",\n    \"tenantId\": \"72f988bf-86f1-41af-91ab-2d7cd011db47\",\n    \"user\": {\n      \"name\": \"yelizkilinc@microsoft.com\",\n      \"type\": \"user\"\n    }\n  },\n  {\n    \"cloudName\": \"AzureCloud\",\n    \"homeTenantId\": \"72f988bf-86f1-41af-91ab-2d7cd011db47\",\n    \"id\": \"0cd6095b-b140-41ec-ad1d-32f2f7493386\",\n    \"isDefault\": false,\n    \"managedByTenants\": [],\n    \"name\": \"1IS - One Integration Service - NonProduction\",\n    \"state\": \"Enabled\",\n    \"tenantId\": \"72f988bf-86f1-41af-91ab-2d7cd011db47\",\n    \"user\": {\n      \"name\": \"yelizkilinc@microsoft.com\",\n      \"type\": \"user\"\n    }\n  },\n  {\n    \"cloudName\": \"AzureCloud\",\n    \"homeTenantId\": \"72f988bf-86f1-41af-91ab-2d7cd011db47\",\n    \"id\": \"e686ef8c-d35d-4e9b-92f8-caaaa7948c0a\",\n    \"isDefault\": false,\n    \"managedByTenants\": [],\n    \"name\": \"Applied Sciences Group Dev\",\n    \"state\": \"Enabled\",\n    \"tenantId\": \"72f988bf-86f1-41af-91ab-2d7cd011db47\",\n    \"user\": {\n      \"name\": \"yelizkilinc@microsoft.com\",\n      \"type\": \"user\"\n    }\n  },\n  {\n    \"cloudName\": \"AzureCloud\",\n    \"homeTenantId\": \"72f988bf-86f1-41af-91ab-2d7cd011db47\",\n    \"id\": \"8c2c7b23-848d-40fe-b817-690d79ad9dfd\",\n    \"isDefault\": false,\n    \"managedByTenants\": [\n      {\n        \"tenantId\": \"2f4a9838-26b7-47ee-be60-ccc1fdec5953\"\n      },\n      {\n        \"tenantId\": \"f5ae2861-b3fc-449d-a9e7-49c14d011ac0\"\n      }\n    ],\n    \"name\": \"Purview_Demo_PartnerSandbox\",\n    \"state\": \"Enabled\",\n    \"tenantId\": \"72f988bf-86f1-41af-91ab-2d7cd011db47\",\n    \"user\": {\n      \"name\": \"yelizkilinc@microsoft.com\",\n      \"type\": \"user\"\n    }\n  },\n  {\n    \"cloudName\": \"AzureCloud\",\n    \"homeTenantId\": \"72f988bf-86f1-41af-91ab-2d7cd011db47\",\n    \"id\": \"cb9eb375-570a-4e75-b83a-77dd942bee9f\",\n    \"isDefault\": false,\n    \"managedByTenants\": [],\n    \"name\": \"ATS_Shared_Dev_AKS\",\n    \"state\": \"Enabled\",\n    \"tenantId\": \"72f988bf-86f1-41af-91ab-2d7cd011db47\",\n    \"user\": {\n      \"name\": \"yelizkilinc@microsoft.com\",\n      \"type\": \"user\"\n    }\n  },\n  {\n    \"cloudName\": \"AzureCloud\",\n    \"homeTenantId\": \"72f988bf-86f1-41af-91ab-2d7cd011db47\",\n    \"id\": \"6f53185c-ea09-4fc3-9075-318dec805303\",\n    \"isDefault\": false,\n    \"managedByTenants\": [\n      {\n        \"tenantId\": \"33e01921-4d64-4f8c-a055-5bdaffd5e33d\"\n      }\n    ],\n    \"name\": \"RPSAAS CSM Dogfood\",\n    \"state\": \"Enabled\",\n    \"tenantId\": \"72f988bf-86f1-41af-91ab-2d7cd011db47\",\n    \"user\": {\n      \"name\": \"yelizkilinc@microsoft.com\",\n      \"type\": \"user\"\n    }\n  },\n  {\n    \"cloudName\": \"AzureCloud\",\n    \"homeTenantId\": \"72f988bf-86f1-41af-91ab-2d7cd011db47\",\n    \"id\": \"1278a874-89fc-418c-b6b9-ac763b000415\",\n    \"isDefault\": false,\n    \"managedByTenants\": [],\n    \"name\": \"Microsoft Azure Internal Consumption (nbrady)\",\n    \"state\": \"Enabled\",\n    \"tenantId\": \"72f988bf-86f1-41af-91ab-2d7cd011db47\",\n    \"user\": {\n      \"name\": \"yelizkilinc@microsoft.com\",\n      \"type\": \"user\"\n    }\n  },\n  {\n    \"cloudName\": \"AzureCloud\",\n    \"homeTenantId\": \"72f988bf-86f1-41af-91ab-2d7cd011db47\",\n    \"id\": \"29de2cfc-f00a-43bb-bdc8-3108795bd282\",\n    \"isDefault\": false,\n    \"managedByTenants\": [],\n    \"name\": \"MSFT-Modern Device-Modern Mgmt-Imaging00\",\n    \"state\": \"Enabled\",\n    \"tenantId\": \"72f988bf-86f1-41af-91ab-2d7cd011db47\",\n    \"user\": {\n      \"name\": \"yelizkilinc@microsoft.com\",\n      \"type\": \"user\"\n    }\n  },\n  {\n    \"cloudName\": \"AzureCloud\",\n    \"homeTenantId\": \"72f988bf-86f1-41af-91ab-2d7cd011db47\",\n    \"id\": \"dcbdac96-1896-478d-89fc-c95ed43f4596\",\n    \"isDefault\": false,\n    \"managedByTenants\": [],\n    \"name\": \"pgattikoppul Projects\",\n    \"state\": \"Enabled\",\n    \"tenantId\": \"72f988bf-86f1-41af-91ab-2d7cd011db47\",\n    \"user\": {\n      \"name\": \"yelizkilinc@microsoft.com\",\n      \"type\": \"user\"\n    }\n  },\n  {\n    \"cloudName\": \"AzureCloud\",\n    \"homeTenantId\": \"72f988bf-86f1-41af-91ab-2d7cd011db47\",\n    \"id\": \"2145a411-d149-4010-84d4-40fe8a55db44\",\n    \"isDefault\": false,\n    \"managedByTenants\": [],\n    \"name\": \"ARM Test Environment\",\n    \"state\": \"Enabled\",\n    \"tenantId\": \"72f988bf-86f1-41af-91ab-2d7cd011db47\",\n    \"user\": {\n      \"name\": \"yelizkilinc@microsoft.com\",\n      \"type\": \"user\"\n    }\n  },\n  {\n    \"cloudName\": \"AzureCloud\",\n    \"homeTenantId\": \"72f988bf-86f1-41af-91ab-2d7cd011db47\",\n    \"id\": \"7afc2d66-d5b4-4e84-970b-a782e3e4cc46\",\n    \"isDefault\": false,\n    \"managedByTenants\": [],\n    \"name\": \"CLOUDBUILD-ANYBUILD-POC-01\",\n    \"state\": \"Enabled\",\n    \"tenantId\": \"72f988bf-86f1-41af-91ab-2d7cd011db47\",\n    \"user\": {\n      \"name\": \"yelizkilinc@microsoft.com\",\n      \"type\": \"user\"\n    }\n  },\n  {\n    \"cloudName\": \"AzureCloud\",\n    \"homeTenantId\": \"72f988bf-86f1-41af-91ab-2d7cd011db47\",\n    \"id\": \"3b2fda06-3ef6-454a-9dd5-994a548243e9\",\n    \"isDefault\": false,\n    \"managedByTenants\": [\n      {\n        \"tenantId\": \"2f4a9838-26b7-47ee-be60-ccc1fdec5953\"\n      }\n    ],\n    \"name\": \"Microsoft Employee & Executive Communications\",\n    \"state\": \"Enabled\",\n    \"tenantId\": \"72f988bf-86f1-41af-91ab-2d7cd011db47\",\n    \"user\": {\n      \"name\": \"yelizkilinc@microsoft.com\",\n      \"type\": \"user\"\n    }\n  },\n  {\n    \"cloudName\": \"AzureCloud\",\n    \"homeTenantId\": \"72f988bf-86f1-41af-91ab-2d7cd011db47\",\n    \"id\": \"0368444d-756e-4ca6-9ecd-e964248c227a\",\n    \"isDefault\": false,\n    \"managedByTenants\": [],\n    \"name\": \"AnyBuild-InternalProdClusters\",\n    \"state\": \"Enabled\",\n    \"tenantId\": \"72f988bf-86f1-41af-91ab-2d7cd011db47\",\n    \"user\": {\n      \"name\": \"yelizkilinc@microsoft.com\",\n      \"type\": \"user\"\n    }\n  },\n  {\n    \"cloudName\": \"AzureCloud\",\n    \"homeTenantId\": \"72f988bf-86f1-41af-91ab-2d7cd011db47\",\n    \"id\": \"4dc2cd39-7a89-43d8-bebe-8bb501359891\",\n    \"isDefault\": false,\n    \"managedByTenants\": [],\n    \"name\": \"Observability_AzMon_Grafana_Dev\",\n    \"state\": \"Enabled\",\n    \"tenantId\": \"72f988bf-86f1-41af-91ab-2d7cd011db47\",\n    \"user\": {\n      \"name\": \"yelizkilinc@microsoft.com\",\n      \"type\": \"user\"\n    }\n  },\n  {\n    \"cloudName\": \"AzureCloud\",\n    \"homeTenantId\": \"72f988bf-86f1-41af-91ab-2d7cd011db47\",\n    \"id\": \"5a7084cb-3357-4ee0-b28f-a3230de8b337\",\n    \"isDefault\": false,\n    \"managedByTenants\": [\n      {\n        \"tenantId\": \"2f4a9838-26b7-47ee-be60-ccc1fdec5953\"\n      }\n    ],\n    \"name\": \"Finance BI Services\",\n    \"state\": \"Enabled\",\n    \"tenantId\": \"72f988bf-86f1-41af-91ab-2d7cd011db47\",\n    \"user\": {\n      \"name\": \"yelizkilinc@microsoft.com\",\n      \"type\": \"user\"\n    }\n  },\n  {\n    \"cloudName\": \"AzureCloud\",\n    \"homeTenantId\": \"72f988bf-86f1-41af-91ab-2d7cd011db47\",\n    \"id\": \"227531a4-d775-435b-a878-963ed8d0d18f\",\n    \"isDefault\": false,\n    \"managedByTenants\": [\n      {\n        \"tenantId\": \"cdc5aeea-15c5-4db6-b079-fcadd2505dc2\"\n      },\n      {\n        \"tenantId\": \"2f4a9838-26b7-47ee-be60-ccc1fdec5953\"\n      }\n    ],\n    \"name\": \"Skype-1ES-DEV\",\n    \"state\": \"Enabled\",\n    \"tenantId\": \"72f988bf-86f1-41af-91ab-2d7cd011db47\",\n    \"user\": {\n      \"name\": \"yelizkilinc@microsoft.com\",\n      \"type\": \"user\"\n    }\n  },\n  {\n    \"cloudName\": \"AzureCloud\",\n    \"homeTenantId\": \"72f988bf-86f1-41af-91ab-2d7cd011db47\",\n    \"id\": \"432a7068-99ae-4975-ad38-d96b71172cdf\",\n    \"isDefault\": false,\n    \"managedByTenants\": [],\n    \"name\": \"Azure Profiler - Testing\",\n    \"state\": \"Enabled\",\n    \"tenantId\": \"72f988bf-86f1-41af-91ab-2d7cd011db47\",\n    \"user\": {\n      \"name\": \"yelizkilinc@microsoft.com\",\n      \"type\": \"user\"\n    }\n  },\n  {\n    \"cloudName\": \"AzureCloud\",\n    \"homeTenantId\": \"72f988bf-86f1-41af-91ab-2d7cd011db47\",\n    \"id\": \"8c4b5b03-3b24-4ed0-91f5-a703cd91b412\",\n    \"isDefault\": false,\n    \"managedByTenants\": [],\n    \"name\": \"Cosmos_C&E_Azure_AzureEngineeringSystems_100200\",\n    \"state\": \"Enabled\",\n    \"tenantId\": \"72f988bf-86f1-41af-91ab-2d7cd011db47\",\n    \"user\": {\n      \"name\": \"yelizkilinc@microsoft.com\",\n      \"type\": \"user\"\n    }\n  },\n  {\n    \"cloudName\": \"AzureCloud\",\n    \"homeTenantId\": \"72f988bf-86f1-41af-91ab-2d7cd011db47\",\n    \"id\": \"b74d5345-100f-408a-a7ca-47abb52ba60d\",\n    \"isDefault\": false,\n    \"managedByTenants\": [\n      {\n        \"tenantId\": \"2f4a9838-26b7-47ee-be60-ccc1fdec5953\"\n      }\n    ],\n    \"name\": \"DSE EDog\",\n    \"state\": \"Enabled\",\n    \"tenantId\": \"72f988bf-86f1-41af-91ab-2d7cd011db47\",\n    \"user\": {\n      \"name\": \"yelizkilinc@microsoft.com\",\n      \"type\": \"user\"\n    }\n  },\n  {\n    \"cloudName\": \"AzureCloud\",\n    \"homeTenantId\": \"9113dad9-fdc3-4dd4-a930-3e85da243caf\",\n    \"id\": \"f9100b13-2f60-46d0-b407-5d67bce5b79c\",\n    \"isDefault\": false,\n    \"managedByTenants\": [\n      {\n        \"tenantId\": \"2f4a9838-26b7-47ee-be60-ccc1fdec5953\"\n      },\n      {\n        \"tenantId\": \"72f988bf-86f1-41af-91ab-2d7cd011db47\"\n      }\n    ],\n    \"name\": \"ME-MngEnvMCAP029956-umeshpawar-1\",\n    \"state\": \"Enabled\",\n    \"tenantId\": \"9113dad9-fdc3-4dd4-a930-3e85da243caf\",\n    \"user\": {\n      \"name\": \"yelizkilinc@microsoft.com\",\n      \"type\": \"user\"\n    }\n  }\n]\n"
        }
      ],
      "execution_count": 8,
      "metadata": {
        "jupyter": {
          "source_hidden": false,
          "outputs_hidden": false
        },
        "nteract": {
          "transient": {
            "deleting": false
          }
        },
        "gather": {
          "logged": 1692110824677
        }
      }
    },
    {
      "cell_type": "code",
      "source": [
        "from azure.identity import DefaultAzureCredential, AzureCliCredential #DefaultAzureCredential should work but you may need AzureCliCredential to make the authentication work\n",
        "default_credential = AzureCliCredential()\n",
        "#default_credential = DefaultAzureCredential()"
      ],
      "outputs": [],
      "execution_count": 13,
      "metadata": {
        "gather": {
          "logged": 1692111636671
        }
      }
    },
    {
      "cell_type": "markdown",
      "source": [
        "## Define method to get a prompt completion using AAD authentication\n",
        "\n",
        "The `refresh_token` function below is used to get a new token when the current token expires.  The `refresh_token` method is called by the `get_completion` to get the token if it is not already set or if the token has expired."
      ],
      "metadata": {}
    },
    {
      "cell_type": "code",
      "source": [
        "import datetime\n",
        "\n",
        "token = None\n",
        "\n",
        "def refresh_token():\n",
        "    \"\"\"Refresh AAD token\"\"\"\n",
        "    global token\n",
        "    # Check if Azure token is still valid\n",
        "    if not token or datetime.datetime.fromtimestamp(token.expires_on) < datetime.datetime.now():\n",
        "        token = default_credential.get_token(\"https://cognitiveservices.azure.com\")\n",
        "\n",
        "\n",
        "refresh_token()\n",
        "# Set the API key to be your Bearer token (yes this could be optimizaed to not do this every time :D) \n",
        "openai.api_key = token.token\n"
      ],
      "outputs": [],
      "execution_count": 14,
      "metadata": {
        "gather": {
          "logged": 1692111639626
        }
      }
    },
    {
      "cell_type": "code",
      "source": [
        "print(token)"
      ],
      "outputs": [
        {
          "output_type": "stream",
          "name": "stdout",
          "text": "AccessToken(token='eyJ0eXAiOiJKV1QiLCJhbGciOiJSUzI1NiIsIng1dCI6Ii1LSTNROW5OUjdiUm9meG1lWm9YcWJIWkdldyIsImtpZCI6Ii1LSTNROW5OUjdiUm9meG1lWm9YcWJIWkdldyJ9.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.MbWNWJiqw7gD0ey7_mPrTJZVCmPwbHpEsVYS2AENNP5Iq0EhhoknHlmjhBj7nbNj2bImYtUL1RUoo5qDeWKJpsz7rkYsoQLfAIjJ7gTrQE8azoDGHFmpqG_f8qgVf3J96E5nj3N0r5cjd8YJmTbx244pPnEVyW4RkADy_uDpyzIFgi0crdxqwd0mdQAh0l1uSsrQfREyfXTFelrEEOJjDtixSX9z1ZkfxT3TJYX53BPsEjYAhdcM7gY4RYFHo9mU6LOlW6Mc_w2gXeI-fYsS71BOGTwPyvje8oPGML2STNLiNsFbFPAKcCWkxv1p75BXZ3pPpbQlYZS07Xt30SXWZQ', expires_on=1692116811)\n"
        }
      ],
      "execution_count": 15,
      "metadata": {
        "jupyter": {
          "source_hidden": false,
          "outputs_hidden": false
        },
        "nteract": {
          "transient": {
            "deleting": false
          }
        },
        "gather": {
          "logged": 1692111640668
        }
      }
    },
    {
      "cell_type": "markdown",
      "source": [
        "## Test the API\n",
        "\n",
        "The payload parameters in the `get_completion` call are for illustration only and can be changed for your use case as described in the [reference](https://learn.microsoft.com/en-us/azure/cognitive-services/openai/reference)."
      ],
      "metadata": {}
    },
    {
      "cell_type": "code",
      "source": [
        "# Example prompt \n",
        "prompt = \"Once upon a time\"\n",
        "\n",
        "response = openai.Completion.create(\n",
        "    deployment_id=\"gpt-35-turbo\",\n",
        "    prompt=prompt,\n",
        "    temperature=0.7,\n",
        "    max_tokens=300,\n",
        "    top_p=0.5,\n",
        "    stop=None\n",
        ")\n",
        "\n",
        "# printing the response\n",
        "print(response)"
      ],
      "outputs": [],
      "execution_count": null,
      "metadata": {
        "gather": {
          "logged": 1692111644606
        }
      }
    }
  ],
  "metadata": {
    "kernelspec": {
      "name": "python310-sdkv2",
      "language": "python",
      "display_name": "Python 3.10 - SDK v2"
    },
    "language_info": {
      "name": "python",
      "version": "3.10.9",
      "mimetype": "text/x-python",
      "codemirror_mode": {
        "name": "ipython",
        "version": 3
      },
      "pygments_lexer": "ipython3",
      "nbconvert_exporter": "python",
      "file_extension": ".py"
    },
    "vscode": {
      "interpreter": {
        "hash": "5453039e1c3beadcd7c6bc838a2f5d2d849c1bfa9a5a5e848cf27873534572b2"
      }
    },
    "microsoft": {
      "ms_spell_check": {
        "ms_spell_check_language": "en"
      },
      "host": {
        "AzureML": {
          "notebookHasBeenCompleted": true
        }
      }
    },
    "kernel_info": {
      "name": "python310-sdkv2"
    },
    "nteract": {
      "version": "nteract-front-end@1.0.0"
    }
  },
  "nbformat": 4,
  "nbformat_minor": 2
}